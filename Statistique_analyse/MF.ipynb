{
 "cells": [
  {
   "cell_type": "code",
   "execution_count": 1,
   "id": "0d202e99",
   "metadata": {},
   "outputs": [
    {
     "name": "stdout",
     "output_type": "stream",
     "text": [
      "Requirement already satisfied: nbformat in /opt/anaconda3/envs/clean_env/lib/python3.8/site-packages (5.10.4)\n",
      "Requirement already satisfied: fastjsonschema>=2.15 in /opt/anaconda3/envs/clean_env/lib/python3.8/site-packages (from nbformat) (2.16.2)\n",
      "Requirement already satisfied: jsonschema>=2.6 in /opt/anaconda3/envs/clean_env/lib/python3.8/site-packages (from nbformat) (4.23.0)\n",
      "Requirement already satisfied: jupyter-core!=5.0.*,>=4.12 in /opt/anaconda3/envs/clean_env/lib/python3.8/site-packages (from nbformat) (5.7.2)\n",
      "Requirement already satisfied: traitlets>=5.1 in /opt/anaconda3/envs/clean_env/lib/python3.8/site-packages (from nbformat) (5.14.3)\n",
      "Requirement already satisfied: attrs>=22.2.0 in /opt/anaconda3/envs/clean_env/lib/python3.8/site-packages (from jsonschema>=2.6->nbformat) (24.2.0)\n",
      "Requirement already satisfied: importlib-resources>=1.4.0 in /opt/anaconda3/envs/clean_env/lib/python3.8/site-packages (from jsonschema>=2.6->nbformat) (6.4.0)\n",
      "Requirement already satisfied: jsonschema-specifications>=2023.03.6 in /opt/anaconda3/envs/clean_env/lib/python3.8/site-packages (from jsonschema>=2.6->nbformat) (2023.7.1)\n",
      "Requirement already satisfied: pkgutil-resolve-name>=1.3.10 in /opt/anaconda3/envs/clean_env/lib/python3.8/site-packages (from jsonschema>=2.6->nbformat) (1.3.10)\n",
      "Requirement already satisfied: referencing>=0.28.4 in /opt/anaconda3/envs/clean_env/lib/python3.8/site-packages (from jsonschema>=2.6->nbformat) (0.30.2)\n",
      "Requirement already satisfied: rpds-py>=0.7.1 in /opt/anaconda3/envs/clean_env/lib/python3.8/site-packages (from jsonschema>=2.6->nbformat) (0.10.6)\n",
      "Requirement already satisfied: platformdirs>=2.5 in /opt/anaconda3/envs/clean_env/lib/python3.8/site-packages (from jupyter-core!=5.0.*,>=4.12->nbformat) (4.3.6)\n",
      "Requirement already satisfied: zipp>=3.1.0 in /opt/anaconda3/envs/clean_env/lib/python3.8/site-packages (from importlib-resources>=1.4.0->jsonschema>=2.6->nbformat) (3.20.2)\n"
     ]
    }
   ],
   "source": [
    "from import_all import *"
   ]
  },
  {
   "cell_type": "code",
   "execution_count": 2,
   "id": "952043e1",
   "metadata": {},
   "outputs": [
    {
     "name": "stdout",
     "output_type": "stream",
     "text": [
      "Notebook 1Nmar.ipynb imported successfully.\n",
      "Notebook 2Nmar.ipynb imported successfully.\n",
      "Notebook 3Nmar.ipynb imported successfully.\n",
      "Notebook 4Nmar.ipynb imported successfully.\n",
      "Notebook 5Nmar.ipynb imported successfully.\n",
      "Notebook 6Nmar.ipynb imported successfully.\n",
      "Notebook 7Nmar.ipynb imported successfully.\n",
      "Notebook 8Nmar.ipynb imported successfully.\n",
      "Notebook 9Nmar.ipynb imported successfully.\n",
      "Notebook 10Nmar.ipynb imported successfully.\n",
      "Notebook 11Nmar.ipynb imported successfully.\n",
      "Notebook 1Amar.ipynb imported successfully.\n",
      "Notebook 2Amar.ipynb imported successfully.\n",
      "Notebook 3Amar.ipynb imported successfully.\n",
      "Notebook 4Amar.ipynb imported successfully.\n",
      "Notebook 5Amar.ipynb imported successfully.\n",
      "Notebook 6Amar.ipynb imported successfully.\n",
      "Notebook 7Amar.ipynb imported successfully.\n",
      "Notebook 8Amar.ipynb imported successfully.\n",
      "Notebook 9Amar.ipynb imported successfully.\n",
      "Notebook 10Amar.ipynb imported successfully.\n",
      "Notebook 11Amar.ipynb imported successfully.\n"
     ]
    }
   ],
   "source": [
    "# List of .ipynb files to process\n",
    "notebook_files_N = [f\"{i}Nmar.ipynb\" for i in range(1, 12)]\n",
    "notebook_files_A = [f\"{i}Amar.ipynb\" for i in range(1, 12)]\n",
    "\n",
    "# Dictionary to store results\n",
    "results = {}\n",
    "\n",
    "# Process Normal_analyse notebooks\n",
    "for file_name in notebook_files_N:\n",
    "    try:\n",
    "        # Load the .ipynb file\n",
    "        with open(\"../Normal_analyse/\"+file_name, 'r', encoding='utf-8') as f:\n",
    "            notebook = read(f, as_version=4)\n",
    "        print(f\"Notebook {file_name} imported successfully.\")\n",
    "    except FileNotFoundError:\n",
    "        # Handle missing file error\n",
    "        print(f\"Error: The file '{file_name}' was not found. Please ensure it exists in the current directory.\")\n",
    "        continue\n",
    "\n",
    "    # Dictionary to store variables from the notebook\n",
    "    global_vars = {}\n",
    "\n",
    "    # Backup stdout and stderr to suppress output\n",
    "    stdout_backup = sys.stdout\n",
    "    stderr_backup = sys.stderr\n",
    "    sys.stdout = io.StringIO()  # Capture standard output\n",
    "    sys.stderr = io.StringIO()  # Capture errors\n",
    "\n",
    "    # Disable interactive Matplotlib display\n",
    "    plt.ioff()\n",
    "\n",
    "    # Override `plt.show()` and `display()` to suppress visual outputs\n",
    "    with patch(\"matplotlib.pyplot.show\"), patch(\"IPython.display.display\"):\n",
    "        # Execute all code cells without displaying outputs\n",
    "        for cell in notebook.cells:\n",
    "            if cell.cell_type == \"code\":\n",
    "                exec(cell.source, global_vars)\n",
    "\n",
    "    # Restore normal output\n",
    "    sys.stdout = stdout_backup\n",
    "    sys.stderr = stderr_backup\n",
    "    plt.ion()  # Re-enable interactive display\n",
    "    plt.close(\"all\")  # Close all figures in memory\n",
    "\n",
    "    # Retrieve data from the notebook\n",
    "    mf_RF = global_vars.get(\"mf_RF\", \"Variable not found\")\n",
    "    mf_BF = global_vars.get(\"mf_BF\", \"Variable not found\")\n",
    "    mf_VS = global_vars.get(\"mf_VM\", \"Variable not found\")\n",
    "    mf_ST = global_vars.get(\"mf_ST\", \"Variable not found\")\n",
    "\n",
    "    # Store results in the dictionary\n",
    "    results[\"RF_\"+file_name] = mf_RF\n",
    "    results[\"BF_\"+file_name] = mf_BF\n",
    "    results[\"VS_\"+file_name] = mf_VS\n",
    "    results[\"ST_\"+file_name] = mf_ST\n",
    "\n",
    "# Process Patient_analyse notebooks\n",
    "for file_name in notebook_files_A:\n",
    "    try:\n",
    "        # Load the .ipynb file\n",
    "        with open(\"../Patient_analyse/\"+file_name, 'r', encoding='utf-8') as f:\n",
    "            notebook = read(f, as_version=4)\n",
    "        print(f\"Notebook {file_name} imported successfully.\")\n",
    "    except FileNotFoundError:\n",
    "        # Handle missing file error\n",
    "        print(f\"Error: The file '{file_name}' was not found. Please ensure it exists in the current directory.\")\n",
    "        continue\n",
    "\n",
    "    # Dictionary to store variables from the notebook\n",
    "    global_vars = {}\n",
    "\n",
    "    # Backup stdout and stderr to suppress output\n",
    "    stdout_backup = sys.stdout\n",
    "    stderr_backup = sys.stderr\n",
    "    sys.stdout = io.StringIO()  # Capture standard output\n",
    "    sys.stderr = io.StringIO()  # Capture errors\n",
    "\n",
    "    # Disable interactive Matplotlib display\n",
    "    plt.ioff()\n",
    "\n",
    "    # Override `plt.show()` and `display()` to suppress visual outputs\n",
    "    with patch(\"matplotlib.pyplot.show\"), patch(\"IPython.display.display\"):\n",
    "        # Execute all code cells without displaying outputs\n",
    "        for cell in notebook.cells:\n",
    "            if cell.cell_type == \"code\":\n",
    "                exec(cell.source, global_vars)\n",
    "\n",
    "    # Restore normal output\n",
    "    sys.stdout = stdout_backup\n",
    "    sys.stderr = stderr_backup\n",
    "    plt.ion()  # Re-enable interactive display\n",
    "    plt.close(\"all\")  # Close all figures in memory\n",
    "\n",
    "    # Retrieve data from the notebook\n",
    "    mf_RF = global_vars.get(\"mf_RF\", \"Variable not found\")\n",
    "    mf_BF = global_vars.get(\"mf_BF\", \"Variable not found\")\n",
    "    mf_VS = global_vars.get(\"mf_VM\", \"Variable not found\")\n",
    "    mf_ST = global_vars.get(\"mf_ST\", \"Variable not found\")\n",
    "\n",
    "    # Store results in the dictionary\n",
    "    results[\"RF_\"+file_name] = mf_RF\n",
    "    results[\"BF_\"+file_name] = mf_BF\n",
    "    results[\"VS_\"+file_name] = mf_VS\n",
    "    results[\"ST_\"+file_name] = mf_ST\n"
   ]
  },
  {
   "cell_type": "code",
   "execution_count": 3,
   "id": "a317fe1e",
   "metadata": {},
   "outputs": [
    {
     "name": "stdout",
     "output_type": "stream",
     "text": [
      "RF_N: [61.822397142311665, 65.63190513544083, 73.90366756006144, 67.6403264016534, 88.71243438640533, 90.62775359623467, 48.104388665524716, 77.05081019329306, 82.62820022413426, 90.68868893923971, 48.824123541082514]\n",
      "RF_A: [57.639248413720196, 34.09372194731275, 63.9278732518672, 44.92300555058941, 51.20681095417033, 53.86738877420317, 37.07798951797407, 37.28286262693214, 91.91319144459105, 90.39885533497274, 87.71138127831094]\n",
      "BF_N: [69.52056514917344, 82.71368034815048, 101.7205891952933, 77.42156274985804, 87.32975064917854, 92.5569583288676, 77.90699420596282, 87.32085413108142, 95.97794217534732, 96.44796991837481, 87.38473815370236]\n",
      "BF_A: [78.55595496945857, 104.50256920743176, 99.02053895579898, 72.93304590085681, 95.3900547105654, 84.52329711030393, 87.0396087950566, 99.30224146109514, 99.27532706031812, 101.08660879676248, 79.9282440984033]\n",
      "VS_N: [56.222313215416975, 56.686596092948626, 63.572970683883085, 74.23955798564299, 69.91773045650828, 80.12219911292102, 41.88882450214844, 34.916473734636405, 79.38670464601032, 79.59836026729732, 31.57390092219237]\n",
      "VS_A: [42.699817246612525, 38.87151153592065, 36.04423404509237, 42.964417980893245, 51.60867229526865, 71.79213244312484, 31.16586600951311, 43.067234538758754, 71.70081735930866, 80.31336767703165, 32.65978368766397]\n",
      "ST_N: [83.29321977241435, 62.29543050719008, 84.92617309461653, 99.60246903336848, 82.04283254364142, 94.68702454124802, 111.51950100648656, 77.93836249202478, 79.01801929306279, 85.10408102542983, 107.78195284910485]\n",
      "ST_A: [85.6828646144356, 87.88601937185544, 105.69251822855401, 126.74225520603551, 124.77680229385281, 130.38708915802056, 108.75857505537603, 77.28886193619797, 126.7201412455884, 115.67303798045687, 109.86791546188601]\n"
     ]
    }
   ],
   "source": [
    "# Initialize empty lists to store data for each group and muscle\n",
    "RF_N = []  # RF data for the Normal group\n",
    "RF_A = []  # RF data for the Patient group\n",
    "BF_N = []  # BF data for the Normal group\n",
    "BF_A = []  # BF data for the Patient group\n",
    "VS_N = []  # VS data for the Normal group\n",
    "VS_A = []  # VS data for the Patient group\n",
    "ST_N = []  # ST data for the Normal group\n",
    "ST_A = []  # ST data for the Patient group\n",
    "\n",
    "# Iterate through the results dictionary to classify and store data\n",
    "for file_name, data in results.items():\n",
    "    # Check if the file corresponds to RF data for the Patient group\n",
    "    if file_name.startswith('RF_1Amar') or file_name.startswith('RF_2Amar') or file_name.startswith('RF_3Amar') or file_name.startswith('RF_4Amar') or file_name.startswith('RF_5Amar') or file_name.startswith('RF_6Amar') or file_name.startswith('RF_7Amar') or file_name.startswith('RF_8Amar') or file_name.startswith('RF_9Amar') or file_name.startswith('RF_10Amar') or file_name.startswith('RF_11Amar'):\n",
    "        RF_A.append(float(data))\n",
    "    # Check if the file corresponds to RF data for the Normal group\n",
    "    elif file_name.startswith('RF_1Nmar') or file_name.startswith('RF_2Nmar') or file_name.startswith('RF_3Nmar') or file_name.startswith('RF_4Nmar') or file_name.startswith('RF_5Nmar') or file_name.startswith('RF_6Nmar') or file_name.startswith('RF_7Nmar') or file_name.startswith('RF_8Nmar') or file_name.startswith('RF_9Nmar') or file_name.startswith('RF_10Nmar') or file_name.startswith('RF_11Nmar'):\n",
    "        RF_N.append(float(data))\n",
    "    # Check if the file corresponds to BF data for the Patient group\n",
    "    elif file_name.startswith('BF_1Amar') or file_name.startswith('BF_2Amar') or file_name.startswith('BF_3Amar') or file_name.startswith('BF_4Amar') or file_name.startswith('BF_5Amar') or file_name.startswith('BF_6Amar') or file_name.startswith('BF_7Amar') or file_name.startswith('BF_8Amar') or file_name.startswith('BF_9Amar') or file_name.startswith('BF_10Amar') or file_name.startswith('BF_11Amar'):\n",
    "        BF_A.append(float(data))\n",
    "    # Check if the file corresponds to BF data for the Normal group\n",
    "    elif file_name.startswith('BF_1Nmar') or file_name.startswith('BF_2Nmar') or file_name.startswith('BF_3Nmar') or file_name.startswith('BF_4Nmar') or file_name.startswith('BF_5Nmar') or file_name.startswith('BF_6Nmar') or file_name.startswith('BF_7Nmar') or file_name.startswith('BF_8Nmar') or file_name.startswith('BF_9Nmar') or file_name.startswith('BF_10Nmar') or file_name.startswith('BF_11Nmar'):\n",
    "        BF_N.append(float(data))\n",
    "    # Check if the file corresponds to VS data for the Patient group\n",
    "    elif file_name.startswith('VS_1Amar') or file_name.startswith('VS_2Amar') or file_name.startswith('VS_3Amar') or file_name.startswith('VS_4Amar') or file_name.startswith('VS_5Amar') or file_name.startswith('VS_6Amar') or file_name.startswith('VS_7Amar') or file_name.startswith('VS_8Amar') or file_name.startswith('VS_9Amar') or file_name.startswith('VS_10Amar') or file_name.startswith('VS_11Amar'):\n",
    "        VS_A.append(float(data))\n",
    "    # Check if the file corresponds to VS data for the Normal group\n",
    "    elif file_name.startswith('VS_1Nmar') or file_name.startswith('VS_2Nmar') or file_name.startswith('VS_3Nmar') or file_name.startswith('VS_4Nmar') or file_name.startswith('VS_5Nmar') or file_name.startswith('VS_6Nmar') or file_name.startswith('VS_7Nmar') or file_name.startswith('VS_8Nmar') or file_name.startswith('VS_9Nmar') or file_name.startswith('VS_10Nmar') or file_name.startswith('VS_11Nmar'):\n",
    "        VS_N.append(float(data))\n",
    "    # Check if the file corresponds to ST data for the Patient group\n",
    "    elif file_name.startswith('ST_1Amar') or file_name.startswith('ST_2Amar') or file_name.startswith('ST_3Amar') or file_name.startswith('ST_4Amar') or file_name.startswith('ST_5Amar') or file_name.startswith('ST_6Amar') or file_name.startswith('ST_7Amar') or file_name.startswith('ST_8Amar') or file_name.startswith('ST_9Amar') or file_name.startswith('ST_10Amar') or file_name.startswith('ST_11Amar'):\n",
    "        ST_A.append(float(data))\n",
    "    # Check if the file corresponds to ST data for the Normal group\n",
    "    elif file_name.startswith('ST_1Nmar') or file_name.startswith('ST_2Nmar') or file_name.startswith('ST_3Nmar') or file_name.startswith('ST_4Nmar') or file_name.startswith('ST_5Nmar') or file_name.startswith('ST_6Nmar') or file_name.startswith('ST_7Nmar') or file_name.startswith('ST_8Nmar') or file_name.startswith('ST_9Nmar') or file_name.startswith('ST_10Nmar') or file_name.startswith('ST_11Nmar'):\n",
    "        ST_N.append(float(data))\n",
    "\n",
    "# Print the categorized data for each group and muscle\n",
    "print(\"RF_N:\", RF_N)\n",
    "print(\"RF_A:\", RF_A)\n",
    "print(\"BF_N:\", BF_N)\n",
    "print(\"BF_A:\", BF_A)\n",
    "print(\"VS_N:\", VS_N)\n",
    "print(\"VS_A:\", VS_A)\n",
    "print(\"ST_N:\", ST_N)\n",
    "print(\"ST_A:\", ST_A)"
   ]
  },
  {
   "cell_type": "code",
   "execution_count": 4,
   "id": "a1905124",
   "metadata": {},
   "outputs": [],
   "source": [
    "# Calculate the mean of the MF (Mean Frequency) for each group and muscle\n",
    "mean_mf_RF_N = np.mean(RF_N)\n",
    "mean_mf_RF_A = np.mean(RF_A)\n",
    "mean_mf_BF_N = np.mean(BF_N)\n",
    "mean_mf_BF_A = np.mean(BF_A)\n",
    "mean_mf_VS_N = np.mean(VS_N)\n",
    "mean_mf_VS_A = np.mean(VS_A)\n",
    "mean_mf_ST_N = np.mean(ST_N)\n",
    "mean_mf_ST_A = np.mean(ST_A)\n",
    "\n",
    "# Calculate the standard deviation of the MF for each group and muscle\n",
    "std_mf_RF_N = np.std(RF_N)\n",
    "std_mf_RF_A = np.std(RF_A)\n",
    "std_mf_BF_N = np.std(BF_N)\n",
    "std_mf_BF_A = np.std(BF_A)\n",
    "std_mf_VS_N = np.std(VS_N)\n",
    "std_mf_VS_A = np.std(VS_A)\n",
    "std_mf_ST_N = np.std(ST_N)\n",
    "std_mf_ST_A = np.std(ST_A)"
   ]
  },
  {
   "cell_type": "markdown",
   "id": "cb0eaeba",
   "metadata": {},
   "source": [
    "# RF"
   ]
  },
  {
   "cell_type": "code",
   "execution_count": 5,
   "id": "0ec0297d",
   "metadata": {},
   "outputs": [
    {
     "name": "stdout",
     "output_type": "stream",
     "text": [
      "RF_N :  [61.822397142311665, 65.63190513544083, 73.90366756006144, 67.6403264016534, 88.71243438640533, 90.62775359623467, 48.104388665524716, 77.05081019329306, 82.62820022413426, 90.68868893923971, 48.824123541082514]\n",
      "RF_A :  [57.639248413720196, 34.09372194731275, 63.9278732518672, 44.92300555058941, 51.20681095417033, 53.86738877420317, 37.07798951797407, 37.28286262693214, 91.91319144459105, 90.39885533497274, 87.71138127831094]\n",
      "mean_rms_RF_N: 72.33042688958015\n",
      "mean_rms_RF_A: 59.09475719042218\n",
      "std_rms_RF_N: 14.733149113179914\n",
      "std_rms_RF_A: 20.839902865184108\n"
     ]
    }
   ],
   "source": [
    "print(\"RF_N : \",RF_N)\n",
    "print(\"RF_A : \",RF_A)\n",
    "print(\"mean_rms_RF_N:\", mean_mf_RF_N)\n",
    "print(\"mean_rms_RF_A:\", mean_mf_RF_A)\n",
    "print(\"std_rms_RF_N:\", std_mf_RF_N)\n",
    "print(\"std_rms_RF_A:\", std_mf_RF_A)"
   ]
  },
  {
   "cell_type": "code",
   "execution_count": 6,
   "id": "b5f25ed3",
   "metadata": {},
   "outputs": [],
   "source": [
    "# Boxplot of the two groups\n",
    "plt.figure(figsize=(10, 6))\n",
    "plt.boxplot([RF_A, RF_N], labels=['Patient Group (RF_A)', 'Normal Group (RF_N)'])\n",
    "plt.title('Boxplot of the Mean Frequency (MF) for the RF Muscle')\n",
    "plt.ylabel('Mean Frequency (Hz)')\n",
    "plt.grid(True)\n",
    "plt.savefig(\"graph_analyse/boxplot_MF_RF.png\", dpi=300, bbox_inches='tight')\n",
    "plt.show()\n",
    "\n",
    "# Histogram of the two groups\n",
    "plt.figure(figsize=(10, 6))\n",
    "plt.hist(RF_A, bins=10, alpha=0.5, label='Patient Group (RF_A)', color='blue')\n",
    "plt.hist(RF_N, bins=10, alpha=0.5, label='Normal Group (RF_N)', color='orange')\n",
    "plt.title('Histogram of the Mean Frequency (MF) for the RF Muscle')\n",
    "plt.xlabel('Mean Frequency (Hz)')\n",
    "plt.ylabel('Frequency')\n",
    "sns.kdeplot(RF_A, color='blue', label='Density Patient Group (RF_A)', linewidth=2)\n",
    "sns.kdeplot(RF_N, color='orange', label='Density Normal Group (RF_N)', linewidth=2)\n",
    "plt.legend()\n",
    "plt.grid(True)\n",
    "plt.savefig(\"graph_analyse/histogram_MF_RF.png\", dpi=300, bbox_inches='tight')\n",
    "plt.show()"
   ]
  },
  {
   "cell_type": "code",
   "execution_count": 7,
   "id": "7a711829",
   "metadata": {},
   "outputs": [
    {
     "name": "stdout",
     "output_type": "stream",
     "text": [
      "U Statistic: 84.0000\n",
      "Mann-Whitney P-value: 0.1310\n",
      "No significant difference between the groups\n"
     ]
    }
   ],
   "source": [
    "# Mann-Whitney Test\n",
    "stat, p_value = stats.mannwhitneyu(RF_N, RF_A, alternative='two-sided')\n",
    "\n",
    "print(f\"U Statistic: {stat:.4f}\")\n",
    "print(f\"Mann-Whitney P-value: {p_value:.4f}\")\n",
    "\n",
    "alpha = 0.05  # Significance level\n",
    "if p_value < alpha:\n",
    "    print(\"Significant difference between the two groups\")\n",
    "else:\n",
    "    print(\"No significant difference between the groups\")"
   ]
  },
  {
   "cell_type": "markdown",
   "id": "23490e80",
   "metadata": {},
   "source": [
    "# BF"
   ]
  },
  {
   "cell_type": "code",
   "execution_count": 8,
   "id": "85cd64ac",
   "metadata": {},
   "outputs": [
    {
     "name": "stdout",
     "output_type": "stream",
     "text": [
      "BF_N :  [69.52056514917344, 82.71368034815048, 101.7205891952933, 77.42156274985804, 87.32975064917854, 92.5569583288676, 77.90699420596282, 87.32085413108142, 95.97794217534732, 96.44796991837481, 87.38473815370236]\n",
      "BF_A :  [78.55595496945857, 104.50256920743176, 99.02053895579898, 72.93304590085681, 95.3900547105654, 84.52329711030393, 87.0396087950566, 99.30224146109514, 99.27532706031812, 101.08660879676248, 79.9282440984033]\n",
      "mean_rms_BF_N: 86.93650954590818\n",
      "mean_rms_BF_A: 91.05068100600464\n",
      "std_rms_BF_N: 9.125841787776402\n",
      "std_rms_BF_A: 10.297951779817776\n"
     ]
    }
   ],
   "source": [
    "print(\"BF_N : \",BF_N)\n",
    "print(\"BF_A : \",BF_A)\n",
    "print(\"mean_rms_BF_N:\", mean_mf_BF_N)\n",
    "print(\"mean_rms_BF_A:\", mean_mf_BF_A)\n",
    "print(\"std_rms_BF_N:\", std_mf_BF_N)\n",
    "print(\"std_rms_BF_A:\", std_mf_BF_A)"
   ]
  },
  {
   "cell_type": "code",
   "execution_count": 9,
   "id": "7a977a51",
   "metadata": {},
   "outputs": [],
   "source": [
    "# Boxplot of the two groups\n",
    "plt.figure(figsize=(10, 6))\n",
    "plt.boxplot([BF_A, BF_N], labels=['Patient Group (BF_A)', 'Normal Group (BF_N)'])\n",
    "plt.title('Boxplot of the Mean Frequency (MF) for the BF Muscle')\n",
    "plt.ylabel('Mean Frequency (Hz)')\n",
    "plt.grid(True)\n",
    "plt.savefig(\"graph_analyse/boxplot_MF_BF.png\", dpi=300, bbox_inches='tight')\n",
    "plt.show()\n",
    "\n",
    "# Histogram of the two groups\n",
    "plt.figure(figsize=(10, 6))\n",
    "plt.hist(BF_A, bins=10, alpha=0.5, label='Patient Group (BF_A)', color='blue')\n",
    "plt.hist(BF_N, bins=10, alpha=0.5, label='Normal Group (BF_N)', color='orange')\n",
    "plt.title('Histogram of the Mean Frequency (MF) for the BF Muscle')\n",
    "plt.xlabel('Mean Frequency (Hz)')\n",
    "plt.ylabel('Frequency')\n",
    "sns.kdeplot(BF_A, color='blue', label='Density Patient Group (BF_A)', linewidth=2)\n",
    "sns.kdeplot(BF_N, color='orange', label='Density Normal Group (BF_N)', linewidth=2)\n",
    "plt.legend()\n",
    "plt.grid(True)\n",
    "plt.savefig(\"graph_analyse/histogram_MF_BF.png\", dpi=300, bbox_inches='tight')\n",
    "plt.show()"
   ]
  },
  {
   "cell_type": "code",
   "execution_count": 10,
   "id": "35f3a1eb",
   "metadata": {},
   "outputs": [
    {
     "name": "stdout",
     "output_type": "stream",
     "text": [
      "U Statistic: 47.0000\n",
      "Mann-Whitney P-value: 0.3933\n",
      "No significant difference between the groups\n"
     ]
    }
   ],
   "source": [
    "# Mann-Whitney Test\n",
    "stat, p_value = stats.mannwhitneyu(BF_N, BF_A, alternative='two-sided')\n",
    "\n",
    "print(f\"U Statistic: {stat:.4f}\")\n",
    "print(f\"Mann-Whitney P-value: {p_value:.4f}\")\n",
    "\n",
    "alpha = 0.05  # Significance level\n",
    "if p_value < alpha:\n",
    "    print(\"Significant difference between the two groups\")\n",
    "else:\n",
    "    print(\"No significant difference between the groups\")"
   ]
  },
  {
   "cell_type": "markdown",
   "id": "bdbf1a9e",
   "metadata": {},
   "source": [
    "# VS"
   ]
  },
  {
   "cell_type": "code",
   "execution_count": 11,
   "id": "ddaa1332",
   "metadata": {},
   "outputs": [
    {
     "name": "stdout",
     "output_type": "stream",
     "text": [
      "VS_N :  [56.222313215416975, 56.686596092948626, 63.572970683883085, 74.23955798564299, 69.91773045650828, 80.12219911292102, 41.88882450214844, 34.916473734636405, 79.38670464601032, 79.59836026729732, 31.57390092219237]\n",
      "VS_A :  [42.699817246612525, 38.87151153592065, 36.04423404509237, 42.964417980893245, 51.60867229526865, 71.79213244312484, 31.16586600951311, 43.067234538758754, 71.70081735930866, 80.31336767703165, 32.65978368766397]\n",
      "mean_rms_VS_N: 60.738693783600525\n",
      "mean_rms_VS_A: 49.353441347198945\n",
      "std_rms_VS_N: 17.223725005747507\n",
      "std_rms_VS_A: 16.48024123081705\n"
     ]
    }
   ],
   "source": [
    "print(\"VS_N : \",VS_N)\n",
    "print(\"VS_A : \",VS_A)\n",
    "print(\"mean_rms_VS_N:\", mean_mf_VS_N)\n",
    "print(\"mean_rms_VS_A:\", mean_mf_VS_A)\n",
    "print(\"std_rms_VS_N:\", std_mf_VS_N)\n",
    "print(\"std_rms_VS_A:\", std_mf_VS_A)"
   ]
  },
  {
   "cell_type": "code",
   "execution_count": 12,
   "id": "df96a9ef",
   "metadata": {},
   "outputs": [],
   "source": [
    "# Boxplot of the two groups\n",
    "plt.figure(figsize=(10, 6))\n",
    "plt.boxplot([VS_A, VS_N], labels=['Patient Group (VS_A)', 'Normal Group (VS_N)'])\n",
    "plt.title('Boxplot of the Mean Frequency (MF) for the VS Muscle')\n",
    "plt.ylabel('Mean Frequency (Hz)')\n",
    "plt.grid(True)\n",
    "plt.savefig(\"graph_analyse/boxplot_MF_VS.png\", dpi=300, bbox_inches='tight')\n",
    "plt.show()\n",
    "\n",
    "# Histogram of the two groups\n",
    "plt.figure(figsize=(10, 6))\n",
    "plt.hist(VS_A, bins=10, alpha=0.5, label='Patient Group (VS_A)', color='blue')\n",
    "plt.hist(VS_N, bins=10, alpha=0.5, label='Normal Group (VS_N)', color='orange')\n",
    "plt.title('Histogram of the Mean Frequency (MF) for the VS Muscle')\n",
    "plt.xlabel('Mean Frequency (Hz)')\n",
    "plt.ylabel('Frequency')\n",
    "sns.kdeplot(VS_A, color='blue', label='Density Patient Group (VS_A)', linewidth=2)\n",
    "sns.kdeplot(VS_N, color='orange', label='Density Normal Group (VS_N)', linewidth=2)\n",
    "plt.legend()\n",
    "plt.grid(True)\n",
    "plt.savefig(\"graph_analyse/histogram_MF_VS.png\", dpi=300, bbox_inches='tight')\n",
    "plt.show()"
   ]
  },
  {
   "cell_type": "code",
   "execution_count": 13,
   "id": "d31eabcb",
   "metadata": {},
   "outputs": [
    {
     "name": "stdout",
     "output_type": "stream",
     "text": [
      "U Statistic: 79.0000\n",
      "Mann-Whitney P-value: 0.2372\n",
      "No significant difference between the groups\n"
     ]
    }
   ],
   "source": [
    "# Mann-Whitney Test\n",
    "stat, p_value = stats.mannwhitneyu(VS_N, VS_A, alternative='two-sided')\n",
    "\n",
    "print(f\"U Statistic: {stat:.4f}\")\n",
    "print(f\"Mann-Whitney P-value: {p_value:.4f}\")\n",
    "\n",
    "alpha = 0.05  # Significance level\n",
    "if p_value < alpha:\n",
    "    print(\"Significant difference between the two groups\")\n",
    "else:\n",
    "    print(\"No significant difference between the groups\")"
   ]
  },
  {
   "cell_type": "markdown",
   "id": "ad913215",
   "metadata": {},
   "source": [
    "# ST"
   ]
  },
  {
   "cell_type": "code",
   "execution_count": 14,
   "id": "8dbeeb35",
   "metadata": {},
   "outputs": [
    {
     "name": "stdout",
     "output_type": "stream",
     "text": [
      "ST_N :  [83.29321977241435, 62.29543050719008, 84.92617309461653, 99.60246903336848, 82.04283254364142, 94.68702454124802, 111.51950100648656, 77.93836249202478, 79.01801929306279, 85.10408102542983, 107.78195284910485]\n",
      "ST_A :  [85.6828646144356, 87.88601937185544, 105.69251822855401, 126.74225520603551, 124.77680229385281, 130.38708915802056, 108.75857505537603, 77.28886193619797, 126.7201412455884, 115.67303798045687, 109.86791546188601]\n",
      "mean_rms_ST_N: 88.01900601441707\n",
      "mean_rms_ST_A: 109.04328005020538\n",
      "std_rms_ST_N: 13.624630102826272\n",
      "std_rms_ST_A: 17.545916869506048\n"
     ]
    }
   ],
   "source": [
    "print(\"ST_N : \",ST_N)\n",
    "print(\"ST_A : \",ST_A)\n",
    "print(\"mean_rms_ST_N:\", mean_mf_ST_N)\n",
    "print(\"mean_rms_ST_A:\", mean_mf_ST_A)\n",
    "print(\"std_rms_ST_N:\", std_mf_ST_N)\n",
    "print(\"std_rms_ST_A:\", std_mf_ST_A)"
   ]
  },
  {
   "cell_type": "code",
   "execution_count": 15,
   "id": "cc56ad27",
   "metadata": {},
   "outputs": [],
   "source": [
    "# Boxplot of the two groups\n",
    "plt.figure(figsize=(10, 6))\n",
    "plt.boxplot([ST_A, ST_N], labels=['Patient Group (ST_A)', 'Normal Group (ST_N)'])\n",
    "plt.title('Boxplot of the Mean Frequency (MF) for the ST Muscle')\n",
    "plt.ylabel('Mean Frequency (Hz)')\n",
    "plt.grid(True)\n",
    "plt.savefig(\"graph_analyse/boxplot_MF_ST.png\", dpi=300, bbox_inches='tight')\n",
    "plt.show()\n",
    "\n",
    "# Histogram of the two groups\n",
    "plt.figure(figsize=(10, 6))\n",
    "plt.hist(ST_A, bins=10, alpha=0.5, label='Patient Group (ST_A)', color='blue')\n",
    "plt.hist(ST_N, bins=10, alpha=0.5, label='Normal Group (ST_N)', color='orange')\n",
    "plt.title('Histogram of the Mean Frequency (MF) for the ST Muscle')\n",
    "plt.xlabel('Mean Frequency (Hz)')\n",
    "plt.ylabel('Frequency')\n",
    "sns.kdeplot(ST_A, color='blue', label='Density Patient Group (ST_A)', linewidth=2)\n",
    "sns.kdeplot(ST_N, color='orange', label='Density Normal Group (ST_N)', linewidth=2)\n",
    "plt.legend()\n",
    "plt.grid(True)\n",
    "plt.savefig(\"graph_analyse/histogram_MF_ST.png\", dpi=300, bbox_inches='tight')\n",
    "plt.show()"
   ]
  },
  {
   "cell_type": "code",
   "execution_count": 16,
   "id": "b1d4057c",
   "metadata": {},
   "outputs": [
    {
     "name": "stdout",
     "output_type": "stream",
     "text": [
      "U Statistic: 22.0000\n",
      "Mann-Whitney P-value: 0.0126\n",
      "Significant difference between the two groups\n"
     ]
    }
   ],
   "source": [
    "# Mann-Whitney Test\n",
    "stat, p_value = stats.mannwhitneyu(ST_N, ST_A, alternative='two-sided')\n",
    "\n",
    "print(f\"U Statistic: {stat:.4f}\")\n",
    "print(f\"Mann-Whitney P-value: {p_value:.4f}\")\n",
    "\n",
    "alpha = 0.05  # Significance level\n",
    "if p_value < alpha:\n",
    "    print(\"Significant difference between the two groups\")\n",
    "else:\n",
    "    print(\"No significant difference between the groups\")"
   ]
  }
 ],
 "metadata": {
  "kernelspec": {
   "display_name": "clean_env",
   "language": "python",
   "name": "python3"
  },
  "language_info": {
   "codemirror_mode": {
    "name": "ipython",
    "version": 3
   },
   "file_extension": ".py",
   "mimetype": "text/x-python",
   "name": "python",
   "nbconvert_exporter": "python",
   "pygments_lexer": "ipython3",
   "version": "3.8.20"
  }
 },
 "nbformat": 4,
 "nbformat_minor": 5
}
