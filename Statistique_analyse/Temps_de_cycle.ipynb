{
 "cells": [
  {
   "cell_type": "code",
   "execution_count": 1,
   "metadata": {},
   "outputs": [
    {
     "name": "stdout",
     "output_type": "stream",
     "text": [
      "Requirement already satisfied: nbformat in /opt/anaconda3/envs/clean_env/lib/python3.8/site-packages (5.10.4)\n",
      "Requirement already satisfied: fastjsonschema>=2.15 in /opt/anaconda3/envs/clean_env/lib/python3.8/site-packages (from nbformat) (2.16.2)\n",
      "Requirement already satisfied: jsonschema>=2.6 in /opt/anaconda3/envs/clean_env/lib/python3.8/site-packages (from nbformat) (4.23.0)\n",
      "Requirement already satisfied: jupyter-core!=5.0.*,>=4.12 in /opt/anaconda3/envs/clean_env/lib/python3.8/site-packages (from nbformat) (5.7.2)\n",
      "Requirement already satisfied: traitlets>=5.1 in /opt/anaconda3/envs/clean_env/lib/python3.8/site-packages (from nbformat) (5.14.3)\n",
      "Requirement already satisfied: attrs>=22.2.0 in /opt/anaconda3/envs/clean_env/lib/python3.8/site-packages (from jsonschema>=2.6->nbformat) (24.2.0)\n",
      "Requirement already satisfied: importlib-resources>=1.4.0 in /opt/anaconda3/envs/clean_env/lib/python3.8/site-packages (from jsonschema>=2.6->nbformat) (6.4.0)\n",
      "Requirement already satisfied: jsonschema-specifications>=2023.03.6 in /opt/anaconda3/envs/clean_env/lib/python3.8/site-packages (from jsonschema>=2.6->nbformat) (2023.7.1)\n",
      "Requirement already satisfied: pkgutil-resolve-name>=1.3.10 in /opt/anaconda3/envs/clean_env/lib/python3.8/site-packages (from jsonschema>=2.6->nbformat) (1.3.10)\n",
      "Requirement already satisfied: referencing>=0.28.4 in /opt/anaconda3/envs/clean_env/lib/python3.8/site-packages (from jsonschema>=2.6->nbformat) (0.30.2)\n",
      "Requirement already satisfied: rpds-py>=0.7.1 in /opt/anaconda3/envs/clean_env/lib/python3.8/site-packages (from jsonschema>=2.6->nbformat) (0.10.6)\n",
      "Requirement already satisfied: platformdirs>=2.5 in /opt/anaconda3/envs/clean_env/lib/python3.8/site-packages (from jupyter-core!=5.0.*,>=4.12->nbformat) (4.3.6)\n",
      "Requirement already satisfied: zipp>=3.1.0 in /opt/anaconda3/envs/clean_env/lib/python3.8/site-packages (from importlib-resources>=1.4.0->jsonschema>=2.6->nbformat) (3.20.2)\n"
     ]
    }
   ],
   "source": [
    "from import_all import *"
   ]
  },
  {
   "cell_type": "code",
   "execution_count": 2,
   "metadata": {},
   "outputs": [
    {
     "name": "stdout",
     "output_type": "stream",
     "text": [
      "Notebook 1Nmar.ipynb imported successfully.\n",
      "Notebook 2Nmar.ipynb imported successfully.\n",
      "Notebook 3Nmar.ipynb imported successfully.\n",
      "Notebook 4Nmar.ipynb imported successfully.\n",
      "Notebook 5Nmar.ipynb imported successfully.\n",
      "Notebook 6Nmar.ipynb imported successfully.\n",
      "Notebook 7Nmar.ipynb imported successfully.\n",
      "Notebook 8Nmar.ipynb imported successfully.\n",
      "Notebook 9Nmar.ipynb imported successfully.\n",
      "Notebook 10Nmar.ipynb imported successfully.\n",
      "Notebook 11Nmar.ipynb imported successfully.\n",
      "Notebook 1Amar.ipynb imported successfully.\n",
      "Notebook 2Amar.ipynb imported successfully.\n",
      "Notebook 3Amar.ipynb imported successfully.\n",
      "Notebook 4Amar.ipynb imported successfully.\n",
      "Notebook 5Amar.ipynb imported successfully.\n",
      "Notebook 6Amar.ipynb imported successfully.\n",
      "Notebook 7Amar.ipynb imported successfully.\n",
      "Notebook 8Amar.ipynb imported successfully.\n",
      "Notebook 9Amar.ipynb imported successfully.\n",
      "Notebook 10Amar.ipynb imported successfully.\n",
      "Notebook 11Amar.ipynb imported successfully.\n"
     ]
    }
   ],
   "source": [
    "# List of .ipynb files to process\n",
    "notebook_files_N = [f\"{i}Nmar.ipynb\" for i in range(1, 12)]\n",
    "notebook_files_A = [f\"{i}Amar.ipynb\" for i in range(1, 12)]\n",
    "\n",
    "# Dictionary to store results for each file\n",
    "results = {}\n",
    "\n",
    "# Process files in the \"Normal\" group\n",
    "for file_name in notebook_files_N:\n",
    "    try:\n",
    "        # Load the .ipynb file\n",
    "        with open(\"../Normal_analyse/\" + file_name, 'r', encoding='utf-8') as f:\n",
    "            notebook = read(f, as_version=4)\n",
    "        print(f\"Notebook {file_name} imported successfully.\")\n",
    "    except FileNotFoundError:\n",
    "        # Handle missing files\n",
    "        print(f\"Error: The file '{file_name}' was not found. Please ensure it exists in the current directory.\")\n",
    "        continue\n",
    "\n",
    "    # Dictionary to store variables from the notebook\n",
    "    global_vars = {}\n",
    "\n",
    "    # Backup stdout and stderr to suppress output\n",
    "    stdout_backup = sys.stdout\n",
    "    stderr_backup = sys.stderr\n",
    "    sys.stdout = io.StringIO()  # Capture standard output\n",
    "    sys.stderr = io.StringIO()  # Capture errors\n",
    "\n",
    "    # Disable interactive Matplotlib display\n",
    "    plt.ioff()\n",
    "\n",
    "    # Redefine `plt.show()` and `display()` to block outputs\n",
    "    with patch(\"matplotlib.pyplot.show\"), patch(\"IPython.display.display\"):\n",
    "        # Execute all code cells without displaying outputs\n",
    "        for cell in notebook.cells:\n",
    "            if cell.cell_type == \"code\":\n",
    "                exec(cell.source, global_vars)\n",
    "\n",
    "    # Restore normal output\n",
    "    sys.stdout = stdout_backup\n",
    "    sys.stderr = stderr_backup\n",
    "    plt.ion()  # Re-enable interactive display\n",
    "    plt.close(\"all\")  # Close all figures in memory\n",
    "\n",
    "    # Retrieve only the `average_cycle_time` variable\n",
    "    average_cycle_time = global_vars.get(\"average_cycle_time\", \"Variable not found\")\n",
    "    results[\"ATC_\" + file_name] = average_cycle_time\n",
    "\n",
    "# Process files in the \"Patient\" group\n",
    "for file_name in notebook_files_A:\n",
    "    try:\n",
    "        # Load the .ipynb file\n",
    "        with open(\"../Patient_analyse/\" + file_name, 'r', encoding='utf-8') as f:\n",
    "            notebook = read(f, as_version=4)\n",
    "        print(f\"Notebook {file_name} imported successfully.\")\n",
    "    except FileNotFoundError:\n",
    "        # Handle missing files\n",
    "        print(f\"Error: The file '{file_name}' was not found. Please ensure it exists in the current directory.\")\n",
    "        continue\n",
    "\n",
    "    # Dictionary to store variables from the notebook\n",
    "    global_vars = {}\n",
    "\n",
    "    # Backup stdout and stderr to suppress output\n",
    "    stdout_backup = sys.stdout\n",
    "    stderr_backup = sys.stderr\n",
    "    sys.stdout = io.StringIO()  # Capture standard output\n",
    "    sys.stderr = io.StringIO()  # Capture errors\n",
    "\n",
    "    # Disable interactive Matplotlib display\n",
    "    plt.ioff()\n",
    "\n",
    "    # Redefine `plt.show()` and `display()` to block outputs\n",
    "    with patch(\"matplotlib.pyplot.show\"), patch(\"IPython.display.display\"):\n",
    "        # Execute all code cells without displaying outputs\n",
    "        for cell in notebook.cells:\n",
    "            if cell.cell_type == \"code\":\n",
    "                exec(cell.source, global_vars)\n",
    "\n",
    "    # Restore normal output\n",
    "    sys.stdout = stdout_backup\n",
    "    sys.stderr = stderr_backup\n",
    "    plt.ion()  # Re-enable interactive display\n",
    "    plt.close(\"all\")  # Close all figures in memory\n",
    "\n",
    "    # Retrieve only the `average_cycle_time` variable\n",
    "    average_cycle_time = global_vars.get(\"average_cycle_time\", \"Variable not found\")\n",
    "    results[\"ATC_\" + file_name] = average_cycle_time"
   ]
  },
  {
   "cell_type": "code",
   "execution_count": 3,
   "metadata": {},
   "outputs": [
    {
     "name": "stdout",
     "output_type": "stream",
     "text": [
      "ATC_1Nmar.ipynb: 1.262\n",
      "ATC_2Nmar.ipynb: 1.315\n",
      "ATC_3Nmar.ipynb: 1.3855\n",
      "ATC_4Nmar.ipynb: 1.48\n",
      "ATC_5Nmar.ipynb: 1.2802499999999999\n",
      "ATC_6Nmar.ipynb: 1.3599999999999999\n",
      "ATC_7Nmar.ipynb: 1.4474000000000002\n",
      "ATC_8Nmar.ipynb: 1.5166\n",
      "ATC_9Nmar.ipynb: 1.319\n",
      "ATC_10Nmar.ipynb: 1.2325\n",
      "ATC_11Nmar.ipynb: 1.12025\n",
      "ATC_1Amar.ipynb: 1.528\n",
      "ATC_2Amar.ipynb: 1.171125\n",
      "ATC_3Amar.ipynb: 1.326846153846154\n",
      "ATC_4Amar.ipynb: 1.4275151515151514\n",
      "ATC_5Amar.ipynb: 1.3608148148148147\n",
      "ATC_6Amar.ipynb: 2.093\n",
      "ATC_7Amar.ipynb: 1.2824166666666665\n",
      "ATC_8Amar.ipynb: 1.4024\n",
      "ATC_9Amar.ipynb: 1.38075\n",
      "ATC_10Amar.ipynb: 1.2955294117647058\n",
      "ATC_11Amar.ipynb: 1.4177777777777778\n"
     ]
    }
   ],
   "source": [
    "# Print results for all files\n",
    "for file_name, average_cycle_time in results.items():\n",
    "    print(f\"{file_name}: {average_cycle_time}\")\n"
   ]
  },
  {
   "cell_type": "code",
   "execution_count": 4,
   "metadata": {},
   "outputs": [
    {
     "name": "stdout",
     "output_type": "stream",
     "text": [
      "ATC_A: [1.528, 1.171125, 1.326846153846154, 1.4275151515151514, 1.3608148148148147, 2.093, 1.2824166666666665, 1.4024, 1.38075, 1.2955294117647058, 1.4177777777777778]\n",
      "ATC_N: [1.262, 1.315, 1.3855, 1.48, 1.2802499999999999, 1.3599999999999999, 1.4474000000000002, 1.5166, 1.319, 1.2325, 1.12025]\n"
     ]
    }
   ],
   "source": [
    "# Create two groups of data: ATC_A and ATC_N\n",
    "ATC_N = []  # Group for \"Normal\" files\n",
    "ATC_A = []  # Group for \"Patient\" files\n",
    "\n",
    "# Iterate through the results dictionary\n",
    "for file_name, average_cycle_time in results.items():\n",
    "    # Check if the file belongs to the \"Patient\" group (Amar files)\n",
    "    if file_name.startswith('ATC_1Amar') or file_name.startswith('ATC_2Amar') or file_name.startswith('ATC_3Amar') or file_name.startswith('ATC_4Amar') or file_name.startswith('ATC_5Amar') or file_name.startswith('ATC_6Amar') or file_name.startswith('ATC_7Amar') or file_name.startswith('ATC_8Amar') or file_name.startswith('ATC_9Amar') or file_name.startswith('ATC_10Amar') or file_name.startswith('ATC_11Amar'):\n",
    "        # Add the average cycle time to the \"Patient\" group\n",
    "        ATC_A.append(float(average_cycle_time))\n",
    "    else:\n",
    "        # Add the average cycle time to the \"Normal\" group\n",
    "        ATC_N.append(float(average_cycle_time))\n",
    "\n",
    "# Print the two groups for verification\n",
    "print(\"ATC_A:\", ATC_A)\n",
    "print(\"ATC_N:\", ATC_N)"
   ]
  },
  {
   "cell_type": "code",
   "execution_count": 5,
   "metadata": {},
   "outputs": [
    {
     "name": "stdout",
     "output_type": "stream",
     "text": [
      "ATC_N: Mean = 1.3380, Standard Deviation = 0.1163\n",
      "ATC_A: Mean = 1.4260, Standard Deviation = 0.2397\n"
     ]
    }
   ],
   "source": [
    "# Calculate the mean of the ATC_N and ATC_A groups\n",
    "mean_ATC_N = np.mean(ATC_N)\n",
    "mean_ATC_A = np.mean(ATC_A)\n",
    "\n",
    "# Calculate the standard deviation of the ATC_N and ATC_A groups\n",
    "# ddof=1 is used to calculate the sample standard deviation\n",
    "std_ATC_N = np.std(ATC_N, ddof=1)\n",
    "std_ATC_A = np.std(ATC_A, ddof=1)\n",
    "\n",
    "# Print the mean and standard deviation for both groups\n",
    "print(f\"ATC_N: Mean = {mean_ATC_N:.4f}, Standard Deviation = {std_ATC_N:.4f}\")\n",
    "print(f\"ATC_A: Mean = {mean_ATC_A:.4f}, Standard Deviation = {std_ATC_A:.4f}\")"
   ]
  },
  {
   "cell_type": "code",
   "execution_count": 6,
   "metadata": {},
   "outputs": [],
   "source": [
    "# Boxplot of the two groups\n",
    "plt.figure(figsize=(10, 6))  # Set the figure size\n",
    "plt.boxplot([ATC_A, ATC_N], labels=['Patients (ATC_A)', 'Normals (ATC_N)'])  # Create a boxplot for both groups\n",
    "plt.title('Comparison of Average Cycle Times (Boxplot)')  # Set the title of the plot\n",
    "plt.ylabel('Average Cycle Time (seconds)')  # Label the y-axis\n",
    "plt.grid(True)  # Add a grid to the plot\n",
    "plt.savefig(\"graph_analyse/boxplot_cycle_time.png\", dpi=300, bbox_inches='tight')  # Save the plot as a PNG file\n",
    "plt.show()  # Display the plot\n",
    "\n",
    "# Histogram of the two groups\n",
    "plt.figure(figsize=(10, 6))  # Set the figure size\n",
    "plt.hist(ATC_A, bins=10, alpha=0.5, label='Patients (ATC_A)', color='blue')  # Plot histogram for the \"Patients\" group\n",
    "plt.hist(ATC_N, bins=10, alpha=0.5, label='Normals (ATC_N)', color='orange')  # Plot histogram for the \"Normals\" group\n",
    "plt.title('Distribution of Average Cycle Times (Histogram)')  # Set the title of the plot\n",
    "plt.xlabel('Average Cycle Time (seconds)')  # Label the x-axis\n",
    "plt.ylabel('Frequency')  # Label the y-axis\n",
    "sns.kdeplot(ATC_A, color='blue', label='Density Patients (ATC_A)', linewidth=2)  # Add KDE plot for \"Patients\"\n",
    "sns.kdeplot(ATC_N, color='orange', label='Density Normals (ATC_N)', linewidth=2)  # Add KDE plot for \"Normals\"\n",
    "plt.legend()  # Add a legend to the plot\n",
    "plt.grid(True)  # Add a grid to the plot\n",
    "plt.savefig(\"graph_analyse/histogram_cycle_time.png\", dpi=300, bbox_inches='tight')  # Save the plot as a PNG file\n",
    "plt.show()  # Display the plot\n"
   ]
  },
  {
   "cell_type": "code",
   "execution_count": 7,
   "metadata": {},
   "outputs": [
    {
     "name": "stdout",
     "output_type": "stream",
     "text": [
      "U Statistic: 46.0000\n",
      "Mann-Whitney P-value: 0.3579\n",
      "No significant difference between the groups\n"
     ]
    }
   ],
   "source": [
    "# Mann-Whitney U Test\n",
    "stat, p_value = stats.mannwhitneyu(ATC_N, ATC_A, alternative='two-sided')\n",
    "\n",
    "# Print the test statistic and p-value\n",
    "print(f\"U Statistic: {stat:.4f}\")\n",
    "print(f\"Mann-Whitney P-value: {p_value:.4f}\")\n",
    "\n",
    "# Significance threshold\n",
    "alpha = 0.05\n",
    "if p_value < alpha:\n",
    "    # If p-value is less than the threshold, there is a significant difference\n",
    "    print(\"Significant difference between the two groups\")\n",
    "else:\n",
    "    # If p-value is greater than or equal to the threshold, no significant difference\n",
    "    print(\"No significant difference between the groups\")"
   ]
  },
  {
   "cell_type": "code",
   "execution_count": 8,
   "metadata": {},
   "outputs": [
    {
     "name": "stdout",
     "output_type": "stream",
     "text": [
      "t-statistic: -1.0950014988962644\n",
      "p-value: 0.2865280642967332\n",
      "No significant difference between the groups\n"
     ]
    }
   ],
   "source": [
    "# Perform Student's t-test for independent samples\n",
    "t_statistic, p_value = stats.ttest_ind(ATC_N, ATC_A)\n",
    "\n",
    "# Print the t-statistic and p-value\n",
    "print(\"t-statistic:\", t_statistic)\n",
    "print(\"p-value:\", p_value)\n",
    "\n",
    "# Interpretation of the results\n",
    "alpha = 0.05  # Significance level\n",
    "if p_value < alpha:\n",
    "    # If p-value is less than the significance level, there is a significant difference\n",
    "    print(\"Significant difference between the two groups\")\n",
    "else:\n",
    "    # If p-value is greater than or equal to the significance level, no significant difference\n",
    "    print(\"No significant difference between the groups\")"
   ]
  }
 ],
 "metadata": {
  "kernelspec": {
   "display_name": "clean_env",
   "language": "python",
   "name": "python3"
  },
  "language_info": {
   "codemirror_mode": {
    "name": "ipython",
    "version": 3
   },
   "file_extension": ".py",
   "mimetype": "text/x-python",
   "name": "python",
   "nbconvert_exporter": "python",
   "pygments_lexer": "ipython3",
   "version": "3.8.20"
  }
 },
 "nbformat": 4,
 "nbformat_minor": 2
}
