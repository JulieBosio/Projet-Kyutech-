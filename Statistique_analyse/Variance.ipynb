{
 "cells": [
  {
   "cell_type": "code",
   "execution_count": 1,
   "id": "68e92b6d",
   "metadata": {},
   "outputs": [
    {
     "name": "stdout",
     "output_type": "stream",
     "text": [
      "Requirement already satisfied: nbformat in /opt/anaconda3/envs/clean_env/lib/python3.8/site-packages (5.10.4)\n",
      "Requirement already satisfied: fastjsonschema>=2.15 in /opt/anaconda3/envs/clean_env/lib/python3.8/site-packages (from nbformat) (2.16.2)\n",
      "Requirement already satisfied: jsonschema>=2.6 in /opt/anaconda3/envs/clean_env/lib/python3.8/site-packages (from nbformat) (4.23.0)\n",
      "Requirement already satisfied: jupyter-core!=5.0.*,>=4.12 in /opt/anaconda3/envs/clean_env/lib/python3.8/site-packages (from nbformat) (5.7.2)\n",
      "Requirement already satisfied: traitlets>=5.1 in /opt/anaconda3/envs/clean_env/lib/python3.8/site-packages (from nbformat) (5.14.3)\n",
      "Requirement already satisfied: attrs>=22.2.0 in /opt/anaconda3/envs/clean_env/lib/python3.8/site-packages (from jsonschema>=2.6->nbformat) (24.2.0)\n",
      "Requirement already satisfied: importlib-resources>=1.4.0 in /opt/anaconda3/envs/clean_env/lib/python3.8/site-packages (from jsonschema>=2.6->nbformat) (6.4.0)\n",
      "Requirement already satisfied: jsonschema-specifications>=2023.03.6 in /opt/anaconda3/envs/clean_env/lib/python3.8/site-packages (from jsonschema>=2.6->nbformat) (2023.7.1)\n",
      "Requirement already satisfied: pkgutil-resolve-name>=1.3.10 in /opt/anaconda3/envs/clean_env/lib/python3.8/site-packages (from jsonschema>=2.6->nbformat) (1.3.10)\n",
      "Requirement already satisfied: referencing>=0.28.4 in /opt/anaconda3/envs/clean_env/lib/python3.8/site-packages (from jsonschema>=2.6->nbformat) (0.30.2)\n",
      "Requirement already satisfied: rpds-py>=0.7.1 in /opt/anaconda3/envs/clean_env/lib/python3.8/site-packages (from jsonschema>=2.6->nbformat) (0.10.6)\n",
      "Requirement already satisfied: platformdirs>=2.5 in /opt/anaconda3/envs/clean_env/lib/python3.8/site-packages (from jupyter-core!=5.0.*,>=4.12->nbformat) (4.3.6)\n",
      "Requirement already satisfied: zipp>=3.1.0 in /opt/anaconda3/envs/clean_env/lib/python3.8/site-packages (from importlib-resources>=1.4.0->jsonschema>=2.6->nbformat) (3.20.2)\n"
     ]
    }
   ],
   "source": [
    "from import_all import *"
   ]
  },
  {
   "cell_type": "code",
   "execution_count": 2,
   "id": "32f174c3",
   "metadata": {},
   "outputs": [
    {
     "name": "stdout",
     "output_type": "stream",
     "text": [
      "Notebook 1Nmar.ipynb imported successfully.\n",
      "Notebook 2Nmar.ipynb imported successfully.\n",
      "Notebook 3Nmar.ipynb imported successfully.\n",
      "Notebook 4Nmar.ipynb imported successfully.\n",
      "Notebook 5Nmar.ipynb imported successfully.\n",
      "Notebook 6Nmar.ipynb imported successfully.\n",
      "Notebook 7Nmar.ipynb imported successfully.\n",
      "Notebook 8Nmar.ipynb imported successfully.\n",
      "Notebook 9Nmar.ipynb imported successfully.\n",
      "Notebook 10Nmar.ipynb imported successfully.\n",
      "Notebook 11Nmar.ipynb imported successfully.\n",
      "Notebook 1Amar.ipynb imported successfully.\n",
      "Notebook 2Amar.ipynb imported successfully.\n",
      "Notebook 3Amar.ipynb imported successfully.\n",
      "Notebook 4Amar.ipynb imported successfully.\n",
      "Notebook 5Amar.ipynb imported successfully.\n",
      "Notebook 6Amar.ipynb imported successfully.\n",
      "Notebook 7Amar.ipynb imported successfully.\n",
      "Notebook 8Amar.ipynb imported successfully.\n",
      "Notebook 9Amar.ipynb imported successfully.\n",
      "Notebook 10Amar.ipynb imported successfully.\n",
      "Notebook 11Amar.ipynb imported successfully.\n"
     ]
    }
   ],
   "source": [
    "# List of .ipynb files to process\n",
    "notebook_files_N = [f\"{i}Nmar.ipynb\" for i in range(1, 12)]\n",
    "notebook_files_A = [f\"{i}Amar.ipynb\" for i in range(1, 12)]\n",
    "\n",
    "# Dictionary to store results\n",
    "results = {}\n",
    "\n",
    "# Process Normal_analyse notebooks\n",
    "for file_name in notebook_files_N:\n",
    "    try:\n",
    "        # Load the .ipynb file\n",
    "        with open(\"../Normal_analyse/\"+file_name, 'r', encoding='utf-8') as f:\n",
    "            notebook = read(f, as_version=4)\n",
    "        print(f\"Notebook {file_name} imported successfully.\")\n",
    "    except FileNotFoundError:\n",
    "        # Handle missing file error\n",
    "        print(f\"Error: The file '{file_name}' was not found. Please ensure it exists in the current directory.\")\n",
    "        continue\n",
    "\n",
    "    # Dictionary to store variables from the notebook\n",
    "    global_vars = {}\n",
    "\n",
    "    # Backup stdout and stderr to suppress output\n",
    "    stdout_backup = sys.stdout\n",
    "    stderr_backup = sys.stderr\n",
    "    sys.stdout = io.StringIO()  # Capture standard output\n",
    "    sys.stderr = io.StringIO()  # Capture errors\n",
    "\n",
    "    # Disable interactive Matplotlib display\n",
    "    plt.ioff()\n",
    "\n",
    "    # Override `plt.show()` and `display()` to suppress displays\n",
    "    with patch(\"matplotlib.pyplot.show\"), patch(\"IPython.display.display\"):\n",
    "        # Execute all code cells without displaying output\n",
    "        for cell in notebook.cells:\n",
    "            if cell.cell_type == \"code\":\n",
    "                exec(cell.source, global_vars)\n",
    "\n",
    "    # Restore normal output\n",
    "    sys.stdout = stdout_backup\n",
    "    sys.stderr = stderr_backup\n",
    "    plt.ion()  # Re-enable interactive display\n",
    "    plt.close(\"all\")  # Close all figures in memory\n",
    "\n",
    "    # Retrieve variables from the notebook\n",
    "    var_RF = global_vars.get(\"var_RF\", \"Variable not found\")\n",
    "    var_BF = global_vars.get(\"var_BF\", \"Variable not found\")\n",
    "    var_VS = global_vars.get(\"var_VM\", \"Variable not found\")\n",
    "    var_ST = global_vars.get(\"var_ST\", \"Variable not found\")\n",
    "\n",
    "    # Store results in the dictionary\n",
    "    results[\"RF_\"+file_name] = var_RF\n",
    "    results[\"BF_\"+file_name] = var_BF\n",
    "    results[\"VS_\"+file_name] = var_VS\n",
    "    results[\"ST_\"+file_name] = var_ST\n",
    "\n",
    "# Process Patient_analyse notebooks\n",
    "for file_name in notebook_files_A:\n",
    "    try:\n",
    "        # Load the .ipynb file\n",
    "        with open(\"../Patient_analyse/\"+file_name, 'r', encoding='utf-8') as f:\n",
    "            notebook = read(f, as_version=4)\n",
    "        print(f\"Notebook {file_name} imported successfully.\")\n",
    "    except FileNotFoundError:\n",
    "        # Handle missing file error\n",
    "        print(f\"Error: The file '{file_name}' was not found. Please ensure it exists in the current directory.\")\n",
    "        continue\n",
    "\n",
    "    # Dictionary to store variables from the notebook\n",
    "    global_vars = {}\n",
    "\n",
    "    # Backup stdout and stderr to suppress output\n",
    "    stdout_backup = sys.stdout\n",
    "    stderr_backup = sys.stderr\n",
    "    sys.stdout = io.StringIO()  # Capture standard output\n",
    "    sys.stderr = io.StringIO()  # Capture errors\n",
    "\n",
    "    # Disable interactive Matplotlib display\n",
    "    plt.ioff()\n",
    "\n",
    "    # Override `plt.show()` and `display()` to suppress displays\n",
    "    with patch(\"matplotlib.pyplot.show\"), patch(\"IPython.display.display\"):\n",
    "        # Execute all code cells without displaying output\n",
    "        for cell in notebook.cells:\n",
    "            if cell.cell_type == \"code\":\n",
    "                exec(cell.source, global_vars)\n",
    "\n",
    "    # Restore normal output\n",
    "    sys.stdout = stdout_backup\n",
    "    sys.stderr = stderr_backup\n",
    "    plt.ion()  # Re-enable interactive display\n",
    "    plt.close(\"all\")  # Close all figures in memory\n",
    "\n",
    "    # Retrieve variables from the notebook\n",
    "    var_RF = global_vars.get(\"var_RF\", \"Variable not found\")\n",
    "    var_BF = global_vars.get(\"var_BF\", \"Variable not found\")\n",
    "    var_VS = global_vars.get(\"var_VM\", \"Variable not found\")\n",
    "    var_ST = global_vars.get(\"var_ST\", \"Variable not found\")\n",
    "\n",
    "    # Store results in the dictionary\n",
    "    results[\"RF_\"+file_name] = var_RF\n",
    "    results[\"BF_\"+file_name] = var_BF\n",
    "    results[\"VS_\"+file_name] = var_VS\n",
    "    results[\"ST_\"+file_name] = var_ST\n"
   ]
  },
  {
   "cell_type": "code",
   "execution_count": 3,
   "id": "f84bfe28",
   "metadata": {},
   "outputs": [
    {
     "name": "stdout",
     "output_type": "stream",
     "text": [
      "RF_N: [0.00020905135799189332, 0.0001772021707066804, 4.86373450552761e-05, 0.00030904567648156356, 1.2261329196637772e-05, 0.00010215228014443912, 0.0023973163624606236, 1.6627831616368486e-05, 0.0003537877027581038, 0.000632799085538029, 0.016013230671419316]\n",
      "RF_A: [0.005223300083510577, 0.013734703218049706, 4.527671943480598e-05, 0.0035370889947787007, 0.00024871729385721354, 0.006811097771687856, 0.005835445894323973, 0.00018578463553396875, 6.327507183873851e-05, 2.1144025626092197e-05, 1.6249934246222172e-05]\n",
      "BF_N: [5.448585064409148e-05, 0.0002375689368776643, 0.0001618901241334271, 0.0017582041481223457, 0.0006639712371263828, 0.0001430259866081699, 0.000501117631403085, 0.00037182880795118354, 0.00198086625410879, 0.0001598542173338447, 0.00013373218127168965]\n",
      "BF_A: [0.0004986030152598968, 0.0013324686636021772, 0.0003374833051506304, 0.0005973428438188076, 0.00034260502727765345, 0.0006286617754342401, 0.0002152306318130049, 0.0010001801602176235, 8.050785191093606e-05, 0.00010541820742101188, 0.00017130108483785165]\n",
      "VS_N: [0.00025694029051820085, 0.0003279331596764509, 6.615011304321016e-05, 0.0007018530643031403, 1.4146630045174066e-05, 0.00017163606920772047, 0.00498473769640705, 0.00037590710721598173, 4.9031190186577755e-05, 0.00027191919679634097, 0.0544686947668486]\n",
      "VS_A: [0.0020122335505369745, 0.020912749371398632, 0.009344322511201477, 0.0038835884733642656, 0.0004554017240445527, 0.0029723074866891026, 0.01877263334047217, 0.01212380711982933, 8.448235645786717e-05, 2.6162029416175118e-05, 0.00021524078223925965]\n",
      "ST_N: [0.00010013938143869248, 0.0003928310438682688, 0.00024326240125552824, 0.0013418633573917178, 0.001043356490814272, 8.560965504466723e-05, 0.006141848904326083, 0.0010264336491177639, 0.00023213026623113324, 0.0002262748815912502, 0.001756187308058271]\n",
      "ST_A: [0.00023795802934966953, 0.0008223311535032053, 0.0006208793035596643, 0.006416899972733026, 0.001964622183430782, 0.0006867787129914397, 0.0015352892186019725, 0.0003469155255217794, 0.00037442506145868873, 0.0002095741361532943, 0.000199413857158275]\n"
     ]
    }
   ],
   "source": [
    "# Initialize empty lists to store data for each group and variable\n",
    "RF_N = []  # RF data for the Normal group\n",
    "RF_A = []  # RF data for the Patient group\n",
    "BF_N = []  # BF data for the Normal group\n",
    "BF_A = []  # BF data for the Patient group\n",
    "VS_N = []  # VS data for the Normal group\n",
    "VS_A = []  # VS data for the Patient group\n",
    "ST_N = []  # ST data for the Normal group\n",
    "ST_A = []  # ST data for the Patient group\n",
    "\n",
    "# Iterate through the results dictionary to classify and store data\n",
    "for file_name, data in results.items():\n",
    "    # Check if the file name corresponds to RF data for the Patient group\n",
    "    if file_name.startswith('RF_1Amar') or file_name.startswith('RF_2Amar') or file_name.startswith('RF_3Amar') or file_name.startswith('RF_4Amar') or file_name.startswith('RF_5Amar') or file_name.startswith('RF_6Amar') or file_name.startswith('RF_7Amar') or file_name.startswith('RF_8Amar') or file_name.startswith('RF_9Amar') or file_name.startswith('RF_10Amar') or file_name.startswith('RF_11Amar'):\n",
    "        RF_A.append(float(data))  # Append data to RF_A\n",
    "    # Check if the file name corresponds to RF data for the Normal group\n",
    "    elif file_name.startswith('RF_1Nmar') or file_name.startswith('RF_2Nmar') or file_name.startswith('RF_3Nmar') or file_name.startswith('RF_4Nmar') or file_name.startswith('RF_5Nmar') or file_name.startswith('RF_6Nmar') or file_name.startswith('RF_7Nmar') or file_name.startswith('RF_8Nmar') or file_name.startswith('RF_9Nmar') or file_name.startswith('RF_10Nmar') or file_name.startswith('RF_11Nmar'):\n",
    "        RF_N.append(float(data))  # Append data to RF_N\n",
    "    # Check if the file name corresponds to BF data for the Patient group\n",
    "    elif file_name.startswith('BF_1Amar') or file_name.startswith('BF_2Amar') or file_name.startswith('BF_3Amar') or file_name.startswith('BF_4Amar') or file_name.startswith('BF_5Amar') or file_name.startswith('BF_6Amar') or file_name.startswith('BF_7Amar') or file_name.startswith('BF_8Amar') or file_name.startswith('BF_9Amar') or file_name.startswith('BF_10Amar') or file_name.startswith('BF_11Amar'):\n",
    "        BF_A.append(float(data))  # Append data to BF_A\n",
    "    # Check if the file name corresponds to BF data for the Normal group\n",
    "    elif file_name.startswith('BF_1Nmar') or file_name.startswith('BF_2Nmar') or file_name.startswith('BF_3Nmar') or file_name.startswith('BF_4Nmar') or file_name.startswith('BF_5Nmar') or file_name.startswith('BF_6Nmar') or file_name.startswith('BF_7Nmar') or file_name.startswith('BF_8Nmar') or file_name.startswith('BF_9Nmar') or file_name.startswith('BF_10Nmar') or file_name.startswith('BF_11Nmar'):\n",
    "        BF_N.append(float(data))  # Append data to BF_N\n",
    "    # Check if the file name corresponds to VS data for the Patient group\n",
    "    elif file_name.startswith('VS_1Amar') or file_name.startswith('VS_2Amar') or file_name.startswith('VS_3Amar') or file_name.startswith('VS_4Amar') or file_name.startswith('VS_5Amar') or file_name.startswith('VS_6Amar') or file_name.startswith('VS_7Amar') or file_name.startswith('VS_8Amar') or file_name.startswith('VS_9Amar') or file_name.startswith('VS_10Amar') or file_name.startswith('VS_11Amar'):\n",
    "        VS_A.append(float(data))  # Append data to VS_A\n",
    "    # Check if the file name corresponds to VS data for the Normal group\n",
    "    elif file_name.startswith('VS_1Nmar') or file_name.startswith('VS_2Nmar') or file_name.startswith('VS_3Nmar') or file_name.startswith('VS_4Nmar') or file_name.startswith('VS_5Nmar') or file_name.startswith('VS_6Nmar') or file_name.startswith('VS_7Nmar') or file_name.startswith('VS_8Nmar') or file_name.startswith('VS_9Nmar') or file_name.startswith('VS_10Nmar') or file_name.startswith('VS_11Nmar'):\n",
    "        VS_N.append(float(data))  # Append data to VS_N\n",
    "    # Check if the file name corresponds to ST data for the Patient group\n",
    "    elif file_name.startswith('ST_1Amar') or file_name.startswith('ST_2Amar') or file_name.startswith('ST_3Amar') or file_name.startswith('ST_4Amar') or file_name.startswith('ST_5Amar') or file_name.startswith('ST_6Amar') or file_name.startswith('ST_7Amar') or file_name.startswith('ST_8Amar') or file_name.startswith('ST_9Amar') or file_name.startswith('ST_10Amar') or file_name.startswith('ST_11Amar'):\n",
    "        ST_A.append(float(data))  # Append data to ST_A\n",
    "    # Check if the file name corresponds to ST data for the Normal group\n",
    "    elif file_name.startswith('ST_1Nmar') or file_name.startswith('ST_2Nmar') or file_name.startswith('ST_3Nmar') or file_name.startswith('ST_4Nmar') or file_name.startswith('ST_5Nmar') or file_name.startswith('ST_6Nmar') or file_name.startswith('ST_7Nmar') or file_name.startswith('ST_8Nmar') or file_name.startswith('ST_9Nmar') or file_name.startswith('ST_10Nmar') or file_name.startswith('ST_11Nmar'):\n",
    "        ST_N.append(float(data))  # Append data to ST_N\n",
    "\n",
    "# Print the classified data for verification\n",
    "print(\"RF_N:\", RF_N)\n",
    "print(\"RF_A:\", RF_A)\n",
    "print(\"BF_N:\", BF_N)\n",
    "print(\"BF_A:\", BF_A)\n",
    "print(\"VS_N:\", VS_N)\n",
    "print(\"VS_A:\", VS_A)\n",
    "print(\"ST_N:\", ST_N)\n",
    "print(\"ST_A:\", ST_A)"
   ]
  },
  {
   "cell_type": "code",
   "execution_count": 4,
   "id": "ba1bea05",
   "metadata": {},
   "outputs": [],
   "source": [
    "# Calculate the mean of each variable for both Normal and Patient groups\n",
    "mean_var_RF_N = np.mean(RF_N)  # Mean of RF for the Normal group\n",
    "mean_var_RF_A = np.mean(RF_A)  # Mean of RF for the Patient group\n",
    "mean_var_BF_N = np.mean(BF_N)  # Mean of BF for the Normal group\n",
    "mean_var_BF_A = np.mean(BF_A)  # Mean of BF for the Patient group\n",
    "mean_var_VS_N = np.mean(VS_N)  # Mean of VS for the Normal group\n",
    "mean_var_VS_A = np.mean(VS_A)  # Mean of VS for the Patient group\n",
    "mean_var_ST_N = np.mean(ST_N)  # Mean of ST for the Normal group\n",
    "mean_var_ST_A = np.mean(ST_A)  # Mean of ST for the Patient group\n",
    "\n",
    "# Calculate the standard deviation of each variable for both Normal and Patient groups\n",
    "std_var_RF_N = np.std(RF_N)  # Standard deviation of RF for the Normal group\n",
    "std_var_RF_A = np.std(RF_A)  # Standard deviation of RF for the Patient group\n",
    "std_var_BF_N = np.std(BF_N)  # Standard deviation of BF for the Normal group\n",
    "std_var_BF_A = np.std(BF_A)  # Standard deviation of BF for the Patient group\n",
    "std_var_VS_N = np.std(VS_N)  # Standard deviation of VS for the Normal group\n",
    "std_var_VS_A = np.std(VS_A)  # Standard deviation of VS for the Patient group\n",
    "std_var_ST_N = np.std(ST_N)  # Standard deviation of ST for the Normal group\n",
    "std_var_ST_A = np.std(ST_A)  # Standard deviation of ST for the Patient group"
   ]
  },
  {
   "cell_type": "markdown",
   "id": "26a180f4",
   "metadata": {},
   "source": [
    "# RF"
   ]
  },
  {
   "cell_type": "code",
   "execution_count": 5,
   "id": "c7e53846",
   "metadata": {},
   "outputs": [
    {
     "name": "stdout",
     "output_type": "stream",
     "text": [
      "RF_N :  [0.00020905135799189332, 0.0001772021707066804, 4.86373450552761e-05, 0.00030904567648156356, 1.2261329196637772e-05, 0.00010215228014443912, 0.0023973163624606236, 1.6627831616368486e-05, 0.0003537877027581038, 0.000632799085538029, 0.016013230671419316]\n",
      "RF_A :  [0.005223300083510577, 0.013734703218049706, 4.527671943480598e-05, 0.0035370889947787007, 0.00024871729385721354, 0.006811097771687856, 0.005835445894323973, 0.00018578463553396875, 6.327507183873851e-05, 2.1144025626092197e-05, 1.6249934246222172e-05]\n",
      "mean_rms_RF_N: 0.0018429192557608118\n",
      "mean_rms_RF_A: 0.0032474621493534415\n",
      "std_rms_RF_N: 0.004527895932164966\n",
      "std_rms_RF_A: 0.004188473826969945\n"
     ]
    }
   ],
   "source": [
    "print(\"RF_N : \",RF_N)\n",
    "print(\"RF_A : \",RF_A)\n",
    "print(\"mean_rms_RF_N:\", mean_var_RF_N)\n",
    "print(\"mean_rms_RF_A:\", mean_var_RF_A)\n",
    "print(\"std_rms_RF_N:\", std_var_RF_N)\n",
    "print(\"std_rms_RF_A:\", std_var_RF_A)"
   ]
  },
  {
   "cell_type": "code",
   "execution_count": 6,
   "id": "00ac2426",
   "metadata": {},
   "outputs": [],
   "source": [
    "# Boxplot des deux groupes\n",
    "plt.figure(figsize=(10, 6))\n",
    "plt.boxplot([RF_A, RF_N], labels=['Patient (RF_A)', 'Normal (RF_N)'])\n",
    "plt.title('Boxplot of RF Variance for Patient and Normal Groups')\n",
    "plt.ylabel('RF Variance [mV²]')\n",
    "plt.xlabel('Groups')\n",
    "plt.grid(True)\n",
    "plt.savefig(\"graph_analyse/boxplot_variance_RF.png\", dpi=300, bbox_inches='tight')\n",
    "plt.show()\n",
    "\n",
    "# Histogram of both groups\n",
    "plt.figure(figsize=(10, 6))\n",
    "plt.hist(RF_A, bins=10, alpha=0.5, label='Patient (RF_A)', color='blue')\n",
    "plt.hist(RF_N, bins=10, alpha=0.5, label='Normal (RF_N)', color='orange')\n",
    "plt.title('Histogram of RF Variance for Patient and Normal Groups')\n",
    "plt.xlabel('RF Variance [mV²]')\n",
    "plt.ylabel('Frequency')\n",
    "sns.kdeplot(RF_A, color='blue', label='Density Patient (RF_A)', linewidth=2)\n",
    "sns.kdeplot(RF_N, color='orange', label='Density Normal (RF_N)', linewidth=2)\n",
    "plt.legend()\n",
    "plt.grid(True)\n",
    "plt.savefig(\"graph_analyse/histogram_variance_RF.png\", dpi=300, bbox_inches='tight')\n",
    "plt.show()"
   ]
  },
  {
   "cell_type": "code",
   "execution_count": 7,
   "id": "da0c1a32",
   "metadata": {},
   "outputs": [
    {
     "name": "stdout",
     "output_type": "stream",
     "text": [
      "U Statistic: 52.0000\n",
      "Mann-Whitney P-value: 0.5994\n",
      "No significant difference between the groups\n"
     ]
    }
   ],
   "source": [
    "# Mann-Whitney Test\n",
    "stat, p_value = stats.mannwhitneyu(RF_N, RF_A, alternative='two-sided')\n",
    "\n",
    "print(f\"U Statistic: {stat:.4f}\")\n",
    "print(f\"Mann-Whitney P-value: {p_value:.4f}\")\n",
    "\n",
    "alpha = 0.05  # Significance level\n",
    "if p_value < alpha:\n",
    "    print(\"Significant difference between the two groups\")\n",
    "else:\n",
    "    print(\"No significant difference between the groups\")"
   ]
  },
  {
   "cell_type": "markdown",
   "id": "bf7c89d6",
   "metadata": {},
   "source": [
    "# BF"
   ]
  },
  {
   "cell_type": "code",
   "execution_count": 8,
   "id": "802c1752",
   "metadata": {},
   "outputs": [
    {
     "name": "stdout",
     "output_type": "stream",
     "text": [
      "BF_N :  [5.448585064409148e-05, 0.0002375689368776643, 0.0001618901241334271, 0.0017582041481223457, 0.0006639712371263828, 0.0001430259866081699, 0.000501117631403085, 0.00037182880795118354, 0.00198086625410879, 0.0001598542173338447, 0.00013373218127168965]\n",
      "BF_A :  [0.0004986030152598968, 0.0013324686636021772, 0.0003374833051506304, 0.0005973428438188076, 0.00034260502727765345, 0.0006286617754342401, 0.0002152306318130049, 0.0010001801602176235, 8.050785191093606e-05, 0.00010541820742101188, 0.00017130108483785165]\n",
      "mean_rms_BF_N: 0.0005605950341436976\n",
      "mean_rms_BF_A: 0.0004827093242494394\n",
      "std_rms_BF_N: 0.0006422914797362608\n",
      "std_rms_BF_A: 0.00037391259752265614\n"
     ]
    }
   ],
   "source": [
    "print(\"BF_N : \",BF_N)\n",
    "print(\"BF_A : \",BF_A)\n",
    "print(\"mean_rms_BF_N:\", mean_var_BF_N)\n",
    "print(\"mean_rms_BF_A:\", mean_var_BF_A)\n",
    "print(\"std_rms_BF_N:\", std_var_BF_N)\n",
    "print(\"std_rms_BF_A:\", std_var_BF_A)"
   ]
  },
  {
   "cell_type": "code",
   "execution_count": 9,
   "id": "df87e39b",
   "metadata": {},
   "outputs": [],
   "source": [
    "# Boxplot of the two groups\n",
    "plt.figure(figsize=(10, 6))\n",
    "plt.boxplot([BF_A, BF_N], labels=['Patient (BF_A)', 'Normal (BF_N)'])\n",
    "plt.title('Boxplot of Variance (BF) for Patient and Normal Groups')\n",
    "plt.ylabel('Variance (BF) [mV²]')\n",
    "plt.xlabel('Groups')\n",
    "plt.grid(True)\n",
    "plt.savefig(\"graph_analyse/boxplot_variance_BF.png\", dpi=300, bbox_inches='tight')\n",
    "plt.show()\n",
    "\n",
    "# Histogram of the two groups\n",
    "plt.figure(figsize=(10, 6))\n",
    "plt.hist(BF_A, bins=10, alpha=0.5, label='Patient (BF_A)', color='blue')\n",
    "plt.hist(BF_N, bins=10, alpha=0.5, label='Normal (BF_N)', color='orange')\n",
    "plt.title('Histogram of Variance (BF) for Patient and Normal Groups')\n",
    "plt.xlabel('Variance (BF) [mV²]')\n",
    "plt.ylabel('Frequency')\n",
    "sns.kdeplot(BF_A, color='blue', label='Density Patient (BF_A)', linewidth=2)\n",
    "sns.kdeplot(BF_N, color='orange', label='Density Normal (BF_N)', linewidth=2)\n",
    "plt.legend()\n",
    "plt.grid(True)\n",
    "plt.savefig(\"graph_analyse/histogram_variance_BF.png\", dpi=300, bbox_inches='tight')\n",
    "plt.show()"
   ]
  },
  {
   "cell_type": "code",
   "execution_count": 10,
   "id": "28ceedfb",
   "metadata": {},
   "outputs": [
    {
     "name": "stdout",
     "output_type": "stream",
     "text": [
      "U Statistic: 56.0000\n",
      "Mann-Whitney P-value: 0.7928\n",
      "No significant difference between the groups\n"
     ]
    }
   ],
   "source": [
    "# Mann-Whitney Test\n",
    "stat, p_value = stats.mannwhitneyu(BF_N, BF_A, alternative='two-sided')\n",
    "\n",
    "print(f\"U Statistic: {stat:.4f}\")\n",
    "print(f\"Mann-Whitney P-value: {p_value:.4f}\")\n",
    "\n",
    "alpha = 0.05  # Significance level\n",
    "if p_value < alpha:\n",
    "    print(\"Significant difference between the two groups\")\n",
    "else:\n",
    "    print(\"No significant difference between the groups\")"
   ]
  },
  {
   "cell_type": "markdown",
   "id": "63cb3ea3",
   "metadata": {},
   "source": [
    "# VS"
   ]
  },
  {
   "cell_type": "code",
   "execution_count": 11,
   "id": "f5635878",
   "metadata": {},
   "outputs": [
    {
     "name": "stdout",
     "output_type": "stream",
     "text": [
      "VS_N :  [0.00025694029051820085, 0.0003279331596764509, 6.615011304321016e-05, 0.0007018530643031403, 1.4146630045174066e-05, 0.00017163606920772047, 0.00498473769640705, 0.00037590710721598173, 4.9031190186577755e-05, 0.00027191919679634097, 0.0544686947668486]\n",
      "VS_A :  [0.0020122335505369745, 0.020912749371398632, 0.009344322511201477, 0.0038835884733642656, 0.0004554017240445527, 0.0029723074866891026, 0.01877263334047217, 0.01212380711982933, 8.448235645786717e-05, 2.6162029416175118e-05, 0.00021524078223925965]\n",
      "mean_rms_VS_N: 0.00560808629856804\n",
      "mean_rms_VS_A: 0.006436629885968165\n",
      "std_rms_VS_N: 0.015511424556849968\n",
      "std_rms_VS_A: 0.007364245070445\n"
     ]
    }
   ],
   "source": [
    "print(\"VS_N : \",VS_N)\n",
    "print(\"VS_A : \",VS_A)\n",
    "print(\"mean_rms_VS_N:\", mean_var_VS_N)\n",
    "print(\"mean_rms_VS_A:\", mean_var_VS_A)\n",
    "print(\"std_rms_VS_N:\", std_var_VS_N)\n",
    "print(\"std_rms_VS_A:\", std_var_VS_A)"
   ]
  },
  {
   "cell_type": "code",
   "execution_count": 12,
   "id": "76e48385",
   "metadata": {},
   "outputs": [],
   "source": [
    "# Boxplot of the two groups\n",
    "plt.figure(figsize=(10, 6))\n",
    "plt.boxplot([VS_A, VS_N], labels=['Patient (VS_A)', 'Normal (VS_N)'])\n",
    "plt.title('Boxplot of Variance (VS) for Patient and Normal Groups')\n",
    "plt.ylabel('Variance (VS) [mV²]')\n",
    "plt.xlabel('Groups')\n",
    "plt.grid(True)\n",
    "plt.savefig(\"graph_analyse/boxplot_variance_VS.png\", dpi=300, bbox_inches='tight')\n",
    "plt.show()\n",
    "\n",
    "# Histogram of the two groups\n",
    "plt.figure(figsize=(10, 6))\n",
    "plt.hist(VS_A, bins=10, alpha=0.5, label='Patient (VS_A)', color='blue')\n",
    "plt.hist(VS_N, bins=10, alpha=0.5, label='Normal (VS_N)', color='orange')\n",
    "plt.title('Histogram of Variance (VS) for Patient and Normal Groups')\n",
    "plt.xlabel('Variance (VS) [mV²]')\n",
    "plt.ylabel('Frequency')\n",
    "sns.kdeplot(VS_A, color='blue', label='Density Patient (VS_A)', linewidth=2)\n",
    "sns.kdeplot(VS_N, color='orange', label='Density Normal (VS_N)', linewidth=2)\n",
    "plt.legend()\n",
    "plt.grid(True)\n",
    "plt.savefig(\"graph_analyse/histogram_variance_VS.png\", dpi=300, bbox_inches='tight')\n",
    "plt.show()"
   ]
  },
  {
   "cell_type": "code",
   "execution_count": 13,
   "id": "1fce37bf",
   "metadata": {},
   "outputs": [
    {
     "name": "stdout",
     "output_type": "stream",
     "text": [
      "U Statistic: 38.0000\n",
      "Mann-Whitney P-value: 0.1486\n",
      "No significant difference between the groups\n"
     ]
    }
   ],
   "source": [
    "# Mann-Whitney Test\n",
    "stat, p_value = stats.mannwhitneyu(VS_N, VS_A, alternative='two-sided')\n",
    "\n",
    "print(f\"U Statistic: {stat:.4f}\")\n",
    "print(f\"Mann-Whitney P-value: {p_value:.4f}\")\n",
    "\n",
    "alpha = 0.05  # Significance level\n",
    "if p_value < alpha:\n",
    "    print(\"Significant difference between the two groups\")\n",
    "else:\n",
    "    print(\"No significant difference between the groups\")"
   ]
  },
  {
   "cell_type": "markdown",
   "id": "77ad23b3",
   "metadata": {},
   "source": [
    "# ST"
   ]
  },
  {
   "cell_type": "code",
   "execution_count": 14,
   "id": "bfe911ef",
   "metadata": {},
   "outputs": [
    {
     "name": "stdout",
     "output_type": "stream",
     "text": [
      "ST_N :  [0.00010013938143869248, 0.0003928310438682688, 0.00024326240125552824, 0.0013418633573917178, 0.001043356490814272, 8.560965504466723e-05, 0.006141848904326083, 0.0010264336491177639, 0.00023213026623113324, 0.0002262748815912502, 0.001756187308058271]\n",
      "ST_A :  [0.00023795802934966953, 0.0008223311535032053, 0.0006208793035596643, 0.006416899972733026, 0.001964622183430782, 0.0006867787129914397, 0.0015352892186019725, 0.0003469155255217794, 0.00037442506145868873, 0.0002095741361532943, 0.000199413857158275]\n",
      "mean_rms_ST_N: 0.0011445397581034225\n",
      "mean_rms_ST_A: 0.0012195533776783452\n",
      "std_rms_ST_N: 0.0016699349082834817\n",
      "std_rms_ST_A: 0.0017311920247148672\n"
     ]
    }
   ],
   "source": [
    "print(\"ST_N : \",ST_N)\n",
    "print(\"ST_A : \",ST_A)\n",
    "print(\"mean_rms_ST_N:\", mean_var_ST_N)\n",
    "print(\"mean_rms_ST_A:\", mean_var_ST_A)\n",
    "print(\"std_rms_ST_N:\", std_var_ST_N)\n",
    "print(\"std_rms_ST_A:\", std_var_ST_A)"
   ]
  },
  {
   "cell_type": "code",
   "execution_count": 15,
   "id": "7d78e5ac",
   "metadata": {},
   "outputs": [],
   "source": [
    "# Boxplot of the two groups\n",
    "plt.figure(figsize=(10, 6))\n",
    "plt.boxplot([ST_A, ST_N], labels=['Patient (ST_A)', 'Normal (ST_N)'])\n",
    "plt.title('Boxplot of Variance (ST) for Patient and Normal Groups')\n",
    "plt.ylabel('Variance (ST) [mV²]')\n",
    "plt.xlabel('Groups')\n",
    "plt.grid(True)\n",
    "plt.savefig(\"graph_analyse/boxplot_variance_ST.png\", dpi=300, bbox_inches='tight')\n",
    "plt.show()\n",
    "\n",
    "# Histogram of the two groups\n",
    "plt.figure(figsize=(10, 6))\n",
    "plt.hist(ST_A, bins=10, alpha=0.5, label='Patient (ST_A)', color='blue')\n",
    "plt.hist(ST_N, bins=10, alpha=0.5, label='Normal (ST_N)', color='orange')\n",
    "plt.title('Histogram of Variance (ST) for Patient and Normal Groups')\n",
    "plt.xlabel('Variance (ST) [mV²]')\n",
    "plt.ylabel('Frequency')\n",
    "sns.kdeplot(ST_A, color='blue', label='Density Patient (ST_A)', linewidth=2)\n",
    "sns.kdeplot(ST_N, color='orange', label='Density Normal (ST_N)', linewidth=2)\n",
    "plt.legend()\n",
    "plt.grid(True)\n",
    "plt.savefig(\"graph_analyse/histogram_variance_ST.png\", dpi=300, bbox_inches='tight')\n",
    "plt.show()"
   ]
  },
  {
   "cell_type": "code",
   "execution_count": 16,
   "id": "f87f3a98",
   "metadata": {},
   "outputs": [
    {
     "name": "stdout",
     "output_type": "stream",
     "text": [
      "U Statistic: 55.0000\n",
      "Mann-Whitney P-value: 0.7427\n",
      "No significant difference between the groups\n"
     ]
    }
   ],
   "source": [
    "# Mann-Whitney Test\n",
    "stat, p_value = stats.mannwhitneyu(ST_N, ST_A, alternative='two-sided')\n",
    "\n",
    "print(f\"U Statistic: {stat:.4f}\")\n",
    "print(f\"Mann-Whitney P-value: {p_value:.4f}\")\n",
    "\n",
    "alpha = 0.05  # Significance level\n",
    "if p_value < alpha:\n",
    "    print(\"Significant difference between the two groups\")\n",
    "else:\n",
    "    print(\"No significant difference between the groups\")"
   ]
  }
 ],
 "metadata": {
  "kernelspec": {
   "display_name": "clean_env",
   "language": "python",
   "name": "python3"
  },
  "language_info": {
   "codemirror_mode": {
    "name": "ipython",
    "version": 3
   },
   "file_extension": ".py",
   "mimetype": "text/x-python",
   "name": "python",
   "nbconvert_exporter": "python",
   "pygments_lexer": "ipython3",
   "version": "3.8.20"
  }
 },
 "nbformat": 4,
 "nbformat_minor": 5
}
