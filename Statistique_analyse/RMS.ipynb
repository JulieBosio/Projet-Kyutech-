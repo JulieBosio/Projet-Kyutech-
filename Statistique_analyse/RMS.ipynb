{
 "cells": [
  {
   "cell_type": "code",
   "execution_count": 1,
   "metadata": {},
   "outputs": [
    {
     "name": "stdout",
     "output_type": "stream",
     "text": [
      "Requirement already satisfied: nbformat in /opt/anaconda3/envs/clean_env/lib/python3.8/site-packages (5.10.4)\n",
      "Requirement already satisfied: fastjsonschema>=2.15 in /opt/anaconda3/envs/clean_env/lib/python3.8/site-packages (from nbformat) (2.16.2)\n",
      "Requirement already satisfied: jsonschema>=2.6 in /opt/anaconda3/envs/clean_env/lib/python3.8/site-packages (from nbformat) (4.23.0)\n",
      "Requirement already satisfied: jupyter-core!=5.0.*,>=4.12 in /opt/anaconda3/envs/clean_env/lib/python3.8/site-packages (from nbformat) (5.7.2)\n",
      "Requirement already satisfied: traitlets>=5.1 in /opt/anaconda3/envs/clean_env/lib/python3.8/site-packages (from nbformat) (5.14.3)\n",
      "Requirement already satisfied: attrs>=22.2.0 in /opt/anaconda3/envs/clean_env/lib/python3.8/site-packages (from jsonschema>=2.6->nbformat) (24.2.0)\n",
      "Requirement already satisfied: importlib-resources>=1.4.0 in /opt/anaconda3/envs/clean_env/lib/python3.8/site-packages (from jsonschema>=2.6->nbformat) (6.4.0)\n",
      "Requirement already satisfied: jsonschema-specifications>=2023.03.6 in /opt/anaconda3/envs/clean_env/lib/python3.8/site-packages (from jsonschema>=2.6->nbformat) (2023.7.1)\n",
      "Requirement already satisfied: pkgutil-resolve-name>=1.3.10 in /opt/anaconda3/envs/clean_env/lib/python3.8/site-packages (from jsonschema>=2.6->nbformat) (1.3.10)\n",
      "Requirement already satisfied: referencing>=0.28.4 in /opt/anaconda3/envs/clean_env/lib/python3.8/site-packages (from jsonschema>=2.6->nbformat) (0.30.2)\n",
      "Requirement already satisfied: rpds-py>=0.7.1 in /opt/anaconda3/envs/clean_env/lib/python3.8/site-packages (from jsonschema>=2.6->nbformat) (0.10.6)\n",
      "Requirement already satisfied: platformdirs>=2.5 in /opt/anaconda3/envs/clean_env/lib/python3.8/site-packages (from jupyter-core!=5.0.*,>=4.12->nbformat) (4.3.6)\n",
      "Requirement already satisfied: zipp>=3.1.0 in /opt/anaconda3/envs/clean_env/lib/python3.8/site-packages (from importlib-resources>=1.4.0->jsonschema>=2.6->nbformat) (3.20.2)\n"
     ]
    }
   ],
   "source": [
    "from import_all import *"
   ]
  },
  {
   "cell_type": "code",
   "execution_count": 2,
   "metadata": {},
   "outputs": [
    {
     "name": "stdout",
     "output_type": "stream",
     "text": [
      "Notebook 1Nmar.ipynb imported successfully.\n",
      "Notebook 2Nmar.ipynb imported successfully.\n",
      "Notebook 3Nmar.ipynb imported successfully.\n",
      "Notebook 4Nmar.ipynb imported successfully.\n",
      "Notebook 5Nmar.ipynb imported successfully.\n",
      "Notebook 6Nmar.ipynb imported successfully.\n",
      "Notebook 7Nmar.ipynb imported successfully.\n",
      "Notebook 8Nmar.ipynb imported successfully.\n",
      "Notebook 9Nmar.ipynb imported successfully.\n",
      "Notebook 10Nmar.ipynb imported successfully.\n",
      "Notebook 11Nmar.ipynb imported successfully.\n",
      "Notebook 1Amar.ipynb imported successfully.\n",
      "Notebook 2Amar.ipynb imported successfully.\n",
      "Notebook 3Amar.ipynb imported successfully.\n",
      "Notebook 4Amar.ipynb imported successfully.\n",
      "Notebook 5Amar.ipynb imported successfully.\n",
      "Notebook 6Amar.ipynb imported successfully.\n",
      "Notebook 7Amar.ipynb imported successfully.\n",
      "Notebook 8Amar.ipynb imported successfully.\n",
      "Notebook 9Amar.ipynb imported successfully.\n",
      "Notebook 10Amar.ipynb imported successfully.\n",
      "Notebook 11Amar.ipynb imported successfully.\n"
     ]
    }
   ],
   "source": [
    "# List of .ipynb files to process\n",
    "notebook_files_N = [f\"{i}Nmar.ipynb\" for i in range(1, 12)]\n",
    "notebook_files_A = [f\"{i}Amar.ipynb\" for i in range(1, 12)]\n",
    "\n",
    "# Dictionary to store results\n",
    "results = {}\n",
    "\n",
    "# Process Normal_analyse notebooks\n",
    "for file_name in notebook_files_N:\n",
    "    try:\n",
    "        # Load the .ipynb file\n",
    "        with open(\"../Normal_analyse/\"+file_name, 'r', encoding='utf-8') as f:\n",
    "            notebook = read(f, as_version=4)\n",
    "        print(f\"Notebook {file_name} imported successfully.\")\n",
    "    except FileNotFoundError:\n",
    "        # Handle the case where the file is not found\n",
    "        print(f\"Error: The file '{file_name}' was not found. Please ensure it exists in the current directory.\")\n",
    "        continue\n",
    "\n",
    "    # Dictionary to store variables from the notebook\n",
    "    global_vars = {}\n",
    "\n",
    "    # Backup stdout and stderr to suppress output\n",
    "    stdout_backup = sys.stdout\n",
    "    stderr_backup = sys.stderr\n",
    "    sys.stdout = io.StringIO()  # Capture standard output\n",
    "    sys.stderr = io.StringIO()  # Capture errors\n",
    "\n",
    "    # Disable interactive Matplotlib display\n",
    "    plt.ioff()\n",
    "\n",
    "    # Override `plt.show()` and `display()` to suppress displays\n",
    "    with patch(\"matplotlib.pyplot.show\"), patch(\"IPython.display.display\"):\n",
    "        # Execute all code cells without displaying output\n",
    "        for cell in notebook.cells:\n",
    "            if cell.cell_type == \"code\":\n",
    "                exec(cell.source, global_vars)\n",
    "\n",
    "    # Restore normal output\n",
    "    sys.stdout = stdout_backup\n",
    "    sys.stderr = stderr_backup\n",
    "    plt.ion()  # Re-enable interactive display\n",
    "    plt.close(\"all\")  # Close all figures in memory\n",
    "\n",
    "    # Retrieve data from the notebook\n",
    "    mean_rms_RF = global_vars.get(\"mean_rms_RF\", \"Variable not found\")\n",
    "    mean_rms_BF = global_vars.get(\"mean_rms_BF\", \"Variable not found\")\n",
    "    mean_rms_VS = global_vars.get(\"mean_rms_VM\", \"Variable not found\")\n",
    "    mean_rms_ST = global_vars.get(\"mean_rms_ST\", \"Variable not found\")\n",
    "\n",
    "    # Store results in the dictionary\n",
    "    results[\"RF_\"+file_name] = mean_rms_RF\n",
    "    results[\"BF_\"+file_name] = mean_rms_BF\n",
    "    results[\"VS_\"+file_name] = mean_rms_VS\n",
    "    results[\"ST_\"+file_name] = mean_rms_ST\n",
    "\n",
    "# Process Patient_analyse notebooks\n",
    "for file_name in notebook_files_A:\n",
    "    try:\n",
    "        # Load the .ipynb file\n",
    "        with open(\"../Patient_analyse/\"+file_name, 'r', encoding='utf-8') as f:\n",
    "            notebook = read(f, as_version=4)\n",
    "        print(f\"Notebook {file_name} imported successfully.\")\n",
    "    except FileNotFoundError:\n",
    "        # Handle the case where the file is not found\n",
    "        print(f\"Error: The file '{file_name}' was not found. Please ensure it exists in the current directory.\")\n",
    "        continue\n",
    "\n",
    "    # Dictionary to store variables from the notebook\n",
    "    global_vars = {}\n",
    "\n",
    "    # Backup stdout and stderr to suppress output\n",
    "    stdout_backup = sys.stdout\n",
    "    stderr_backup = sys.stderr\n",
    "    sys.stdout = io.StringIO()  # Capture standard output\n",
    "    sys.stderr = io.StringIO()  # Capture errors\n",
    "\n",
    "    # Disable interactive Matplotlib display\n",
    "    plt.ioff()\n",
    "\n",
    "    # Override `plt.show()` and `display()` to suppress displays\n",
    "    with patch(\"matplotlib.pyplot.show\"), patch(\"IPython.display.display\"):\n",
    "        # Execute all code cells without displaying output\n",
    "        for cell in notebook.cells:\n",
    "            if cell.cell_type == \"code\":\n",
    "                exec(cell.source, global_vars)\n",
    "\n",
    "    # Restore normal output\n",
    "    sys.stdout = stdout_backup\n",
    "    sys.stderr = stderr_backup\n",
    "    plt.ion()  # Re-enable interactive display\n",
    "    plt.close(\"all\")  # Close all figures in memory\n",
    "\n",
    "    # Retrieve data from the notebook\n",
    "    mean_rms_RF = global_vars.get(\"mean_rms_RF\", \"Variable not found\")\n",
    "    mean_rms_BF = global_vars.get(\"mean_rms_BF\", \"Variable not found\")\n",
    "    mean_rms_VS = global_vars.get(\"mean_rms_VM\", \"Variable not found\")\n",
    "    mean_rms_ST = global_vars.get(\"mean_rms_ST\", \"Variable not found\")\n",
    "\n",
    "    # Store results in the dictionary\n",
    "    results[\"RF_\"+file_name] = mean_rms_RF\n",
    "    results[\"BF_\"+file_name] = mean_rms_BF\n",
    "    results[\"VS_\"+file_name] = mean_rms_VS\n",
    "    results[\"ST_\"+file_name] = mean_rms_ST\n"
   ]
  },
  {
   "cell_type": "code",
   "execution_count": 4,
   "metadata": {},
   "outputs": [
    {
     "name": "stdout",
     "output_type": "stream",
     "text": [
      "RF_N: [0.013118912587815966, 0.011989099105722809, 0.006321936682887068, 0.01716357318087415, 0.0034765133624484424, 0.01086937401965439, 0.04867456892767062, 0.004124416594369214, 0.019770378689595604, 0.02487002698575333, 0.13135748373952086]\n",
      "RF_A: [0.06968718078366565, 0.1119481788131731, 0.0066427254229813135, 0.054491139943386856, 0.014947503027849763, 0.07910655769617798, 0.07310593388051796, 0.015312117953953704, 0.007621825005841944, 0.004541033503636458, 0.0037512941264019567]\n",
      "BF_N: [0.006841166114194958, 0.014330603252029016, 0.01299789931321212, 0.04244288938062934, 0.026201392856277726, 0.01275882801860162, 0.02225344537221925, 0.019808680548020537, 0.046515729887250445, 0.011165731607064638, 0.01111554365855133]\n",
      "BF_A: [0.022232547901253976, 0.03760575633279388, 0.017356519662898362, 0.02362120424681492, 0.018029156115575658, 0.020216043872881284, 0.014416010843896992, 0.034259130068234354, 0.00882726092036389, 0.009850079039675367, 0.012161222190278475]\n",
      "VS_N: [0.015711129842378914, 0.016734538409875654, 0.007114831295351714, 0.026806344530404147, 0.003587394056001711, 0.014221819437100922, 0.06976599142585113, 0.01890875258157885, 0.0072590821075349254, 0.016457383139822358, 0.24195520519840696]\n",
      "VS_A: [0.04350199816336296, 0.14600711005637027, 0.09059395166819001, 0.062024733371723456, 0.02065979497432061, 0.05258844923828912, 0.1239528316956441, 0.12348590208505643, 0.008699311206706646, 0.005066966023898022, 0.013151561912781697]\n",
      "ST_N: [0.009293660602499438, 0.01845297892318481, 0.016402070244570972, 0.03612781141074551, 0.029721585970397507, 0.009835447984245304, 0.07621910682381303, 0.03298783099146867, 0.01586035256166213, 0.013845043634386942, 0.039329966316476714]\n",
      "ST_A: [0.015327405634476036, 0.02690679793584871, 0.024530257497755243, 0.07689232060951898, 0.04324835063953959, 0.024628077286861484, 0.03779936861143266, 0.021084220830114825, 0.019120904642707992, 0.01446711438288081, 0.013476545363885182]\n"
     ]
    }
   ],
   "source": [
    "# Initialize empty lists to store RMS values for different groups\n",
    "RF_N = []  # RMS values for RF in the Normal group\n",
    "RF_A = []  # RMS values for RF in the Patient group\n",
    "BF_N = []  # RMS values for BF in the Normal group\n",
    "BF_A = []  # RMS values for BF in the Patient group\n",
    "VS_N = []  # RMS values for VS in the Normal group\n",
    "VS_A = []  # RMS values for VS in the Patient group\n",
    "ST_N = []  # RMS values for ST in the Normal group\n",
    "ST_A = []  # RMS values for ST in the Patient group\n",
    "\n",
    "# Iterate through the results dictionary to classify and store RMS values\n",
    "for file_name, data in results.items():\n",
    "    # Check if the file belongs to the Patient group for RF and append the value\n",
    "    if file_name.startswith('RF_1Amar') or file_name.startswith('RF_2Amar') or file_name.startswith('RF_3Amar') or file_name.startswith('RF_4Amar') or file_name.startswith('RF_5Amar') or file_name.startswith('RF_6Amar') or file_name.startswith('RF_7Amar') or file_name.startswith('RF_8Amar') or file_name.startswith('RF_9Amar') or file_name.startswith('RF_10Amar') or file_name.startswith('RF_11Amar'):\n",
    "        RF_A.append(float(data))\n",
    "    # Check if the file belongs to the Normal group for RF and append the value\n",
    "    elif file_name.startswith('RF_1Nmar') or file_name.startswith('RF_2Nmar') or file_name.startswith('RF_3Nmar') or file_name.startswith('RF_4Nmar') or file_name.startswith('RF_5Nmar') or file_name.startswith('RF_6Nmar') or file_name.startswith('RF_7Nmar') or file_name.startswith('RF_8Nmar') or file_name.startswith('RF_9Nmar') or file_name.startswith('RF_10Nmar') or file_name.startswith('RF_11Nmar'):\n",
    "        RF_N.append(float(data))\n",
    "    # Check if the file belongs to the Patient group for BF and append the value\n",
    "    elif file_name.startswith('BF_1Amar') or file_name.startswith('BF_2Amar') or file_name.startswith('BF_3Amar') or file_name.startswith('BF_4Amar') or file_name.startswith('BF_5Amar') or file_name.startswith('BF_6Amar') or file_name.startswith('BF_7Amar') or file_name.startswith('BF_8Amar') or file_name.startswith('BF_9Amar') or file_name.startswith('BF_10Amar') or file_name.startswith('BF_11Amar'):\n",
    "        BF_A.append(float(data))\n",
    "    # Check if the file belongs to the Normal group for BF and append the value\n",
    "    elif file_name.startswith('BF_1Nmar') or file_name.startswith('BF_2Nmar') or file_name.startswith('BF_3Nmar') or file_name.startswith('BF_4Nmar') or file_name.startswith('BF_5Nmar') or file_name.startswith('BF_6Nmar') or file_name.startswith('BF_7Nmar') or file_name.startswith('BF_8Nmar') or file_name.startswith('BF_9Nmar') or file_name.startswith('BF_10Nmar') or file_name.startswith('BF_11Nmar'):\n",
    "        BF_N.append(float(data))\n",
    "    # Check if the file belongs to the Patient group for VS and append the value\n",
    "    elif file_name.startswith('VS_1Amar') or file_name.startswith('VS_2Amar') or file_name.startswith('VS_3Amar') or file_name.startswith('VS_4Amar') or file_name.startswith('VS_5Amar') or file_name.startswith('VS_6Amar') or file_name.startswith('VS_7Amar') or file_name.startswith('VS_8Amar') or file_name.startswith('VS_9Amar') or file_name.startswith('VS_10Amar') or file_name.startswith('VS_11Amar'):\n",
    "        VS_A.append(float(data))\n",
    "    # Check if the file belongs to the Normal group for VS and append the value\n",
    "    elif file_name.startswith('VS_1Nmar') or file_name.startswith('VS_2Nmar') or file_name.startswith('VS_3Nmar') or file_name.startswith('VS_4Nmar') or file_name.startswith('VS_5Nmar') or file_name.startswith('VS_6Nmar') or file_name.startswith('VS_7Nmar') or file_name.startswith('VS_8Nmar') or file_name.startswith('VS_9Nmar') or file_name.startswith('VS_10Nmar') or file_name.startswith('VS_11Nmar'):\n",
    "        VS_N.append(float(data))\n",
    "    # Check if the file belongs to the Patient group for ST and append the value\n",
    "    elif file_name.startswith('ST_1Amar') or file_name.startswith('ST_2Amar') or file_name.startswith('ST_3Amar') or file_name.startswith('ST_4Amar') or file_name.startswith('ST_5Amar') or file_name.startswith('ST_6Amar') or file_name.startswith('ST_7Amar') or file_name.startswith('ST_8Amar') or file_name.startswith('ST_9Amar') or file_name.startswith('ST_10Amar') or file_name.startswith('ST_11Amar'):\n",
    "        ST_A.append(float(data))\n",
    "    # Check if the file belongs to the Normal group for ST and append the value\n",
    "    elif file_name.startswith('ST_1Nmar') or file_name.startswith('ST_2Nmar') or file_name.startswith('ST_3Nmar') or file_name.startswith('ST_4Nmar') or file_name.startswith('ST_5Nmar') or file_name.startswith('ST_6Nmar') or file_name.startswith('ST_7Nmar') or file_name.startswith('ST_8Nmar') or file_name.startswith('ST_9Nmar') or file_name.startswith('ST_10Nmar') or file_name.startswith('ST_11Nmar'):\n",
    "        ST_N.append(float(data))\n",
    "\n",
    "# Print the classified RMS values for each group\n",
    "print(\"RF_N:\", RF_N)\n",
    "print(\"RF_A:\", RF_A)\n",
    "print(\"BF_N:\", BF_N)\n",
    "print(\"BF_A:\", BF_A)\n",
    "print(\"VS_N:\", VS_N)\n",
    "print(\"VS_A:\", VS_A)\n",
    "print(\"ST_N:\", ST_N)\n",
    "print(\"ST_A:\", ST_A)"
   ]
  },
  {
   "cell_type": "code",
   "execution_count": 5,
   "metadata": {},
   "outputs": [],
   "source": [
    "# Calculate the mean RMS values for each group (Normal and Patient) and each muscle (RF, BF, VS, ST)\n",
    "mean_rms_RF_N = np.mean(RF_N)  # Mean RMS for RF in the Normal group\n",
    "mean_rms_RF_A = np.mean(RF_A)  # Mean RMS for RF in the Patient group\n",
    "mean_rms_BF_N = np.mean(BF_N)  # Mean RMS for BF in the Normal group\n",
    "mean_rms_BF_A = np.mean(BF_A)  # Mean RMS for BF in the Patient group\n",
    "mean_rms_VS_N = np.mean(VS_N)  # Mean RMS for VS in the Normal group\n",
    "mean_rms_VS_A = np.mean(VS_A)  # Mean RMS for VS in the Patient group\n",
    "mean_rms_ST_N = np.mean(ST_N)  # Mean RMS for ST in the Normal group\n",
    "mean_rms_ST_A = np.mean(ST_A)  # Mean RMS for ST in the Patient group\n",
    "\n",
    "# Calculate the standard deviation of RMS values for each group (Normal and Patient) and each muscle (RF, BF, VS, ST)\n",
    "std_rms_RF_N = np.std(RF_N)  # Standard deviation of RMS for RF in the Normal group\n",
    "std_rms_RF_A = np.std(RF_A)  # Standard deviation of RMS for RF in the Patient group\n",
    "std_rms_BF_N = np.std(BF_N)  # Standard deviation of RMS for BF in the Normal group\n",
    "std_rms_BF_A = np.std(BF_A)  # Standard deviation of RMS for BF in the Patient group\n",
    "std_rms_VS_N = np.std(VS_N)  # Standard deviation of RMS for VS in the Normal group\n",
    "std_rms_VS_A = np.std(VS_A)  # Standard deviation of RMS for VS in the Patient group\n",
    "std_rms_ST_N = np.std(ST_N)  # Standard deviation of RMS for ST in the Normal group\n",
    "std_rms_ST_A = np.std(ST_A)  # Standard deviation of RMS for ST in the Patient group"
   ]
  },
  {
   "cell_type": "markdown",
   "metadata": {},
   "source": [
    "# RF"
   ]
  },
  {
   "cell_type": "code",
   "execution_count": 6,
   "metadata": {},
   "outputs": [
    {
     "name": "stdout",
     "output_type": "stream",
     "text": [
      "RF_N :  [0.013118912587815966, 0.011989099105722809, 0.006321936682887068, 0.01716357318087415, 0.0034765133624484424, 0.01086937401965439, 0.04867456892767062, 0.004124416594369214, 0.019770378689595604, 0.02487002698575333, 0.13135748373952086]\n",
      "RF_A :  [0.06968718078366565, 0.1119481788131731, 0.0066427254229813135, 0.054491139943386856, 0.014947503027849763, 0.07910655769617798, 0.07310593388051796, 0.015312117953953704, 0.007621825005841944, 0.004541033503636458, 0.0037512941264019567]\n",
      "mean_rms_RF_N: 0.026521480352392043\n",
      "mean_rms_RF_A: 0.04010504455978061\n",
      "std_rms_RF_N: 0.03528294711866453\n",
      "std_rms_RF_A: 0.03675786458752476\n"
     ]
    }
   ],
   "source": [
    "print(\"RF_N : \",RF_N)\n",
    "print(\"RF_A : \",RF_A)\n",
    "print(\"mean_rms_RF_N:\", mean_rms_RF_N)\n",
    "print(\"mean_rms_RF_A:\", mean_rms_RF_A)\n",
    "print(\"std_rms_RF_N:\", std_rms_RF_N)\n",
    "print(\"std_rms_RF_A:\", std_rms_RF_A)"
   ]
  },
  {
   "cell_type": "code",
   "execution_count": 7,
   "metadata": {},
   "outputs": [],
   "source": [
    "# Boxplot of the two groups\n",
    "plt.figure(figsize=(10, 6))\n",
    "plt.boxplot([RF_A, RF_N], labels=['Patient (RF_A)', 'Normal (RF_N)'])\n",
    "plt.title('Boxplot of Mean RMS for RF Muscle')\n",
    "plt.ylabel('Mean RMS (RF) [mV]')\n",
    "plt.xlabel('Groups')\n",
    "plt.grid(True)\n",
    "plt.savefig(\"graph_analyse/boxplot_RMS_RF.png\", dpi=300, bbox_inches='tight')\n",
    "plt.show()\n",
    "\n",
    "# Histogram of the two groups\n",
    "plt.figure(figsize=(10, 6))\n",
    "plt.hist(RF_A, bins=10, alpha=0.5, label='Patient (RF_A)', color='blue')\n",
    "plt.hist(RF_N, bins=10, alpha=0.5, label='Normal (RF_N)', color='orange')\n",
    "plt.title('Histogram of Mean RMS for RF Muscle')\n",
    "plt.xlabel('Mean RMS (RF) [mV]')\n",
    "plt.ylabel('Frequency')\n",
    "sns.kdeplot(RF_A, color='blue', label='Density Patient (RF_A)', linewidth=2)\n",
    "sns.kdeplot(RF_N, color='orange', label='Density Normal (RF_N)', linewidth=2)\n",
    "plt.legend()\n",
    "plt.grid(True)\n",
    "plt.savefig(\"graph_analyse/histogram_RMS_RF.png\", dpi=300, bbox_inches='tight')\n",
    "plt.show()"
   ]
  },
  {
   "cell_type": "code",
   "execution_count": 8,
   "metadata": {},
   "outputs": [
    {
     "name": "stdout",
     "output_type": "stream",
     "text": [
      "U Statistic: 50.0000\n",
      "Mann-Whitney P-value: 0.5114\n",
      "No significant difference between the groups\n"
     ]
    }
   ],
   "source": [
    "# Mann-Whitney Test\n",
    "stat, p_value = stats.mannwhitneyu(RF_N, RF_A, alternative='two-sided')\n",
    "\n",
    "print(f\"U Statistic: {stat:.4f}\")\n",
    "print(f\"Mann-Whitney P-value: {p_value:.4f}\")\n",
    "\n",
    "alpha = 0.05  # Significance level\n",
    "if p_value < alpha:\n",
    "    print(\"Significant difference between the two groups\")\n",
    "else:\n",
    "    print(\"No significant difference between the groups\")"
   ]
  },
  {
   "cell_type": "markdown",
   "metadata": {},
   "source": [
    "# BF"
   ]
  },
  {
   "cell_type": "code",
   "execution_count": 9,
   "metadata": {},
   "outputs": [
    {
     "name": "stdout",
     "output_type": "stream",
     "text": [
      "BF_N :  [0.006841166114194958, 0.014330603252029016, 0.01299789931321212, 0.04244288938062934, 0.026201392856277726, 0.01275882801860162, 0.02225344537221925, 0.019808680548020537, 0.046515729887250445, 0.011165731607064638, 0.01111554365855133]\n",
      "BF_A :  [0.022232547901253976, 0.03760575633279388, 0.017356519662898362, 0.02362120424681492, 0.018029156115575658, 0.020216043872881284, 0.014416010843896992, 0.034259130068234354, 0.00882726092036389, 0.009850079039675367, 0.012161222190278475]\n",
      "mean_rms_BF_N: 0.020584719091640998\n",
      "mean_rms_BF_A: 0.019870448290424288\n",
      "std_rms_BF_N: 0.012469297071743442\n",
      "std_rms_BF_A: 0.008855380860007383\n"
     ]
    }
   ],
   "source": [
    "print(\"BF_N : \",BF_N)\n",
    "print(\"BF_A : \",BF_A)\n",
    "print(\"mean_rms_BF_N:\", mean_rms_BF_N)\n",
    "print(\"mean_rms_BF_A:\", mean_rms_BF_A)\n",
    "print(\"std_rms_BF_N:\", std_rms_BF_N)\n",
    "print(\"std_rms_BF_A:\", std_rms_BF_A)"
   ]
  },
  {
   "cell_type": "code",
   "execution_count": 10,
   "metadata": {},
   "outputs": [],
   "source": [
    "# Boxplot of the two groups\n",
    "plt.figure(figsize=(10, 6))\n",
    "plt.boxplot([BF_A, BF_N], labels=['Patient (BF_A)', 'Normal (BF_N)'])\n",
    "plt.title('Boxplot of Mean RMS for BF Muscle')\n",
    "plt.ylabel('Mean RMS (BF) [mV]')\n",
    "plt.xlabel('Groups')\n",
    "plt.grid(True)\n",
    "plt.savefig(\"graph_analyse/boxplot_RMS_BF.png\", dpi=300, bbox_inches='tight')\n",
    "plt.show()\n",
    "\n",
    "# Histogram of the two groups\n",
    "plt.figure(figsize=(10, 6))\n",
    "plt.hist(BF_A, bins=10, alpha=0.5, label='Patient (BF_A)', color='blue')\n",
    "plt.hist(BF_N, bins=10, alpha=0.5, label='Normal (BF_N)', color='orange')\n",
    "plt.title('Histogram of Mean RMS for BF Muscle')\n",
    "plt.xlabel('Mean RMS (BF) [mV]')\n",
    "plt.ylabel('Frequency')\n",
    "sns.kdeplot(BF_A, color='blue', label='Density BF_A', linewidth=2)\n",
    "sns.kdeplot(BF_N, color='orange', label='Density BF_N', linewidth=2)\n",
    "plt.legend()\n",
    "plt.grid(True)\n",
    "plt.savefig(\"graph_analyse/histogram_RMS_BF.png\", dpi=300, bbox_inches='tight')\n",
    "plt.show()"
   ]
  },
  {
   "cell_type": "code",
   "execution_count": 11,
   "metadata": {},
   "outputs": [
    {
     "name": "stdout",
     "output_type": "stream",
     "text": [
      "U Statistic: 58.0000\n",
      "Mann-Whitney P-value: 0.8955\n",
      "No significant difference between the groups\n"
     ]
    }
   ],
   "source": [
    "# Mann-Whitney Test\n",
    "stat, p_value = stats.mannwhitneyu(BF_N, BF_A, alternative='two-sided')\n",
    "\n",
    "print(f\"U Statistic: {stat:.4f}\")\n",
    "print(f\"Mann-Whitney P-value: {p_value:.4f}\")\n",
    "\n",
    "alpha = 0.05  # Significance level\n",
    "if p_value < alpha:\n",
    "    print(\"Significant difference between the two groups\")\n",
    "else:\n",
    "    print(\"No significant difference between the groups\")"
   ]
  },
  {
   "cell_type": "markdown",
   "metadata": {},
   "source": [
    "# VS"
   ]
  },
  {
   "cell_type": "code",
   "execution_count": 12,
   "metadata": {},
   "outputs": [
    {
     "name": "stdout",
     "output_type": "stream",
     "text": [
      "VS_N :  [0.015711129842378914, 0.016734538409875654, 0.007114831295351714, 0.026806344530404147, 0.003587394056001711, 0.014221819437100922, 0.06976599142585113, 0.01890875258157885, 0.0072590821075349254, 0.016457383139822358, 0.24195520519840696]\n",
      "VS_A :  [0.04350199816336296, 0.14600711005637027, 0.09059395166819001, 0.062024733371723456, 0.02065979497432061, 0.05258844923828912, 0.1239528316956441, 0.12348590208505643, 0.008699311206706646, 0.005066966023898022, 0.013151561912781697]\n",
      "mean_rms_VS_N: 0.039865679274937026\n",
      "mean_rms_VS_A: 0.06270296458148575\n",
      "std_rms_VS_N: 0.06614028765852863\n",
      "std_rms_VS_A: 0.04870720740136408\n"
     ]
    }
   ],
   "source": [
    "print(\"VS_N : \",VS_N)\n",
    "print(\"VS_A : \",VS_A)\n",
    "print(\"mean_rms_VS_N:\", mean_rms_VS_N)\n",
    "print(\"mean_rms_VS_A:\", mean_rms_VS_A)\n",
    "print(\"std_rms_VS_N:\", std_rms_VS_N)\n",
    "print(\"std_rms_VS_A:\", std_rms_VS_A)"
   ]
  },
  {
   "cell_type": "code",
   "execution_count": 13,
   "metadata": {},
   "outputs": [],
   "source": [
    "# Boxplot of the two groups\n",
    "plt.figure(figsize=(10, 6))\n",
    "plt.boxplot([VS_A, VS_N], labels=['Patient (VS_A)', 'Normal (VS_N)'])\n",
    "plt.title('Boxplot of Mean RMS for VS Muscle')\n",
    "plt.ylabel('Mean RMS (VS) [mV]')\n",
    "plt.xlabel('Groups')\n",
    "plt.grid(True)\n",
    "plt.savefig(\"graph_analyse/boxplot_RMS_VS.png\", dpi=300, bbox_inches='tight')\n",
    "plt.show()\n",
    "\n",
    "# Histogram of the two groups\n",
    "plt.figure(figsize=(10, 6))\n",
    "plt.hist(VS_A, bins=10, alpha=0.5, label='Patient (VS_A)', color='blue')\n",
    "plt.hist(VS_N, bins=10, alpha=0.5, label='Normal (VS_N)', color='orange')\n",
    "plt.title('Histogram of Mean RMS for VS Muscle')\n",
    "plt.xlabel('Mean RMS (VS) [mV]')\n",
    "plt.ylabel('Frequency')\n",
    "sns.kdeplot(VS_A, color='blue', label='Density Patient (VS_A)', linewidth=2)\n",
    "sns.kdeplot(VS_N, color='orange', label='Density Normal (VS_N)', linewidth=2)\n",
    "plt.legend()\n",
    "plt.grid(True)\n",
    "plt.savefig(\"graph_analyse/histogram_RMS_VS.png\", dpi=300, bbox_inches='tight')\n",
    "plt.show()"
   ]
  },
  {
   "cell_type": "code",
   "execution_count": 14,
   "metadata": {},
   "outputs": [
    {
     "name": "stdout",
     "output_type": "stream",
     "text": [
      "U Statistic: 39.0000\n",
      "Mann-Whitney P-value: 0.1679\n",
      "No significant difference between the groups\n"
     ]
    }
   ],
   "source": [
    "# Mann-Whitney Test\n",
    "stat, p_value = stats.mannwhitneyu(VS_N, VS_A, alternative='two-sided')\n",
    "\n",
    "print(f\"U Statistic: {stat:.4f}\")\n",
    "print(f\"Mann-Whitney P-value: {p_value:.4f}\")\n",
    "\n",
    "alpha = 0.05  # Significance level\n",
    "if p_value < alpha:\n",
    "    print(\"Significant difference between the two groups\")\n",
    "else:\n",
    "    print(\"No significant difference between the groups\")"
   ]
  },
  {
   "cell_type": "markdown",
   "metadata": {},
   "source": [
    "# ST"
   ]
  },
  {
   "cell_type": "code",
   "execution_count": 15,
   "metadata": {},
   "outputs": [
    {
     "name": "stdout",
     "output_type": "stream",
     "text": [
      "ST_N :  [0.009293660602499438, 0.01845297892318481, 0.016402070244570972, 0.03612781141074551, 0.029721585970397507, 0.009835447984245304, 0.07621910682381303, 0.03298783099146867, 0.01586035256166213, 0.013845043634386942, 0.039329966316476714]\n",
      "ST_A :  [0.015327405634476036, 0.02690679793584871, 0.024530257497755243, 0.07689232060951898, 0.04324835063953959, 0.024628077286861484, 0.03779936861143266, 0.021084220830114825, 0.019120904642707992, 0.01446711438288081, 0.013476545363885182]\n",
      "mean_rms_ST_N: 0.027097805042131915\n",
      "mean_rms_ST_A: 0.028861942130456498\n",
      "std_rms_ST_N: 0.018566024738063985\n",
      "std_rms_ST_A: 0.01762426330761997\n"
     ]
    }
   ],
   "source": [
    "print(\"ST_N : \",ST_N)\n",
    "print(\"ST_A : \",ST_A)\n",
    "print(\"mean_rms_ST_N:\", mean_rms_ST_N)\n",
    "print(\"mean_rms_ST_A:\", mean_rms_ST_A)\n",
    "print(\"std_rms_ST_N:\", std_rms_ST_N)\n",
    "print(\"std_rms_ST_A:\", std_rms_ST_A)"
   ]
  },
  {
   "cell_type": "code",
   "execution_count": 16,
   "metadata": {},
   "outputs": [],
   "source": [
    "# Boxplot of the two groups\n",
    "plt.figure(figsize=(10, 6))\n",
    "plt.boxplot([ST_A, ST_N], labels=['Patient (ST_A)', 'Normal (ST_N)'])\n",
    "plt.title('Boxplot of Mean RMS for ST Muscle')\n",
    "plt.ylabel('Mean RMS (ST) [mV]')\n",
    "plt.xlabel('Groups')\n",
    "plt.grid(True)\n",
    "plt.savefig(\"graph_analyse/boxplot_RMS_ST.png\", dpi=300, bbox_inches='tight')\n",
    "plt.show()\n",
    "\n",
    "# Histogram of the two groups\n",
    "plt.figure(figsize=(10, 6))\n",
    "plt.hist(ST_A, bins=10, alpha=0.5, label='Patient (ST_A)', color='blue')\n",
    "plt.hist(ST_N, bins=10, alpha=0.5, label='Normal (ST_N)', color='orange')\n",
    "plt.title('Histogram of Mean RMS for ST Muscle')\n",
    "plt.xlabel('Mean RMS (ST) [mV]')\n",
    "plt.ylabel('Frequency')\n",
    "sns.kdeplot(ST_A, color='blue', label='Density Patient (ST_A)', linewidth=2)\n",
    "sns.kdeplot(ST_N, color='orange', label='Density Normal (ST_N)', linewidth=2)\n",
    "plt.legend()\n",
    "plt.grid(True)\n",
    "plt.savefig(\"graph_analyse/histogram_RMS_ST.png\", dpi=300, bbox_inches='tight')\n",
    "plt.show()"
   ]
  },
  {
   "cell_type": "code",
   "execution_count": 17,
   "metadata": {},
   "outputs": [
    {
     "name": "stdout",
     "output_type": "stream",
     "text": [
      "U Statistic: 53.0000\n",
      "Mann-Whitney P-value: 0.6458\n",
      "No significant difference between the groups\n"
     ]
    }
   ],
   "source": [
    "# Mann-Whitney Test\n",
    "stat, p_value = stats.mannwhitneyu(ST_N, ST_A, alternative='two-sided')\n",
    "\n",
    "print(f\"U Statistic: {stat:.4f}\")\n",
    "print(f\"Mann-Whitney P-value: {p_value:.4f}\")\n",
    "\n",
    "alpha = 0.05  # Significance level\n",
    "if p_value < alpha:\n",
    "    print(\"Significant difference between the two groups\")\n",
    "else:\n",
    "    print(\"No significant difference between the groups\")"
   ]
  }
 ],
 "metadata": {
  "kernelspec": {
   "display_name": "clean_env",
   "language": "python",
   "name": "python3"
  },
  "language_info": {
   "codemirror_mode": {
    "name": "ipython",
    "version": 3
   },
   "file_extension": ".py",
   "mimetype": "text/x-python",
   "name": "python",
   "nbconvert_exporter": "python",
   "pygments_lexer": "ipython3",
   "version": "3.8.20"
  }
 },
 "nbformat": 4,
 "nbformat_minor": 2
}
