{
 "cells": [
  {
   "cell_type": "code",
   "execution_count": 1,
   "id": "e80a75a6",
   "metadata": {},
   "outputs": [
    {
     "name": "stdout",
     "output_type": "stream",
     "text": [
      "Requirement already satisfied: nbformat in /opt/anaconda3/envs/clean_env/lib/python3.8/site-packages (5.10.4)\n",
      "Requirement already satisfied: fastjsonschema>=2.15 in /opt/anaconda3/envs/clean_env/lib/python3.8/site-packages (from nbformat) (2.16.2)\n",
      "Requirement already satisfied: jsonschema>=2.6 in /opt/anaconda3/envs/clean_env/lib/python3.8/site-packages (from nbformat) (4.23.0)\n",
      "Requirement already satisfied: jupyter-core!=5.0.*,>=4.12 in /opt/anaconda3/envs/clean_env/lib/python3.8/site-packages (from nbformat) (5.7.2)\n",
      "Requirement already satisfied: traitlets>=5.1 in /opt/anaconda3/envs/clean_env/lib/python3.8/site-packages (from nbformat) (5.14.3)\n",
      "Requirement already satisfied: attrs>=22.2.0 in /opt/anaconda3/envs/clean_env/lib/python3.8/site-packages (from jsonschema>=2.6->nbformat) (24.2.0)\n",
      "Requirement already satisfied: importlib-resources>=1.4.0 in /opt/anaconda3/envs/clean_env/lib/python3.8/site-packages (from jsonschema>=2.6->nbformat) (6.4.0)\n",
      "Requirement already satisfied: jsonschema-specifications>=2023.03.6 in /opt/anaconda3/envs/clean_env/lib/python3.8/site-packages (from jsonschema>=2.6->nbformat) (2023.7.1)\n",
      "Requirement already satisfied: pkgutil-resolve-name>=1.3.10 in /opt/anaconda3/envs/clean_env/lib/python3.8/site-packages (from jsonschema>=2.6->nbformat) (1.3.10)\n",
      "Requirement already satisfied: referencing>=0.28.4 in /opt/anaconda3/envs/clean_env/lib/python3.8/site-packages (from jsonschema>=2.6->nbformat) (0.30.2)\n",
      "Requirement already satisfied: rpds-py>=0.7.1 in /opt/anaconda3/envs/clean_env/lib/python3.8/site-packages (from jsonschema>=2.6->nbformat) (0.10.6)\n",
      "Requirement already satisfied: platformdirs>=2.5 in /opt/anaconda3/envs/clean_env/lib/python3.8/site-packages (from jupyter-core!=5.0.*,>=4.12->nbformat) (4.3.6)\n",
      "Requirement already satisfied: zipp>=3.1.0 in /opt/anaconda3/envs/clean_env/lib/python3.8/site-packages (from importlib-resources>=1.4.0->jsonschema>=2.6->nbformat) (3.20.2)\n"
     ]
    }
   ],
   "source": [
    "from import_all import *"
   ]
  },
  {
   "cell_type": "code",
   "execution_count": 2,
   "id": "2b1b2211",
   "metadata": {},
   "outputs": [
    {
     "name": "stdout",
     "output_type": "stream",
     "text": [
      "Notebook 1Nmar.ipynb imported successfully.\n",
      "Notebook 2Nmar.ipynb imported successfully.\n",
      "Notebook 3Nmar.ipynb imported successfully.\n",
      "Notebook 4Nmar.ipynb imported successfully.\n",
      "Notebook 5Nmar.ipynb imported successfully.\n",
      "Notebook 6Nmar.ipynb imported successfully.\n",
      "Notebook 7Nmar.ipynb imported successfully.\n",
      "Notebook 8Nmar.ipynb imported successfully.\n",
      "Notebook 9Nmar.ipynb imported successfully.\n",
      "Notebook 10Nmar.ipynb imported successfully.\n",
      "Notebook 11Nmar.ipynb imported successfully.\n",
      "Notebook 1Amar.ipynb imported successfully.\n",
      "Notebook 2Amar.ipynb imported successfully.\n",
      "Notebook 3Amar.ipynb imported successfully.\n",
      "Notebook 4Amar.ipynb imported successfully.\n",
      "Notebook 5Amar.ipynb imported successfully.\n",
      "Notebook 6Amar.ipynb imported successfully.\n",
      "Notebook 7Amar.ipynb imported successfully.\n",
      "Notebook 8Amar.ipynb imported successfully.\n",
      "Notebook 9Amar.ipynb imported successfully.\n",
      "Notebook 10Amar.ipynb imported successfully.\n",
      "Notebook 11Amar.ipynb imported successfully.\n"
     ]
    }
   ],
   "source": [
    "# List of .ipynb files to process\n",
    "notebook_files_N = [f\"{i}Nmar.ipynb\" for i in range(1, 12)]\n",
    "notebook_files_A = [f\"{i}Amar.ipynb\" for i in range(1, 12)]\n",
    "\n",
    "# Dictionary to store results\n",
    "results = {}\n",
    "\n",
    "# Process Normal_analyse notebooks\n",
    "for file_name in notebook_files_N:\n",
    "    try:\n",
    "        # Load the .ipynb file\n",
    "        with open(\"../Normal_analyse/\"+file_name, 'r', encoding='utf-8') as f:\n",
    "            notebook = read(f, as_version=4)\n",
    "        print(f\"Notebook {file_name} imported successfully.\")\n",
    "    except FileNotFoundError:\n",
    "        # Handle missing files\n",
    "        print(f\"Error: The file '{file_name}' was not found. Please ensure it exists in the current directory.\")\n",
    "        continue\n",
    "\n",
    "    # Dictionary to store variables from the notebook\n",
    "    global_vars = {}\n",
    "\n",
    "    # Backup stdout and stderr to suppress output\n",
    "    stdout_backup = sys.stdout\n",
    "    stderr_backup = sys.stderr\n",
    "    sys.stdout = io.StringIO()  # Capture standard output\n",
    "    sys.stderr = io.StringIO()  # Capture errors\n",
    "\n",
    "    # Disable interactive Matplotlib display\n",
    "    plt.ioff()\n",
    "\n",
    "    # Override `plt.show()` and `display()` to suppress displays\n",
    "    with patch(\"matplotlib.pyplot.show\"), patch(\"IPython.display.display\"):\n",
    "        # Execute all code cells without displaying output\n",
    "        for cell in notebook.cells:\n",
    "            if cell.cell_type == \"code\":\n",
    "                exec(cell.source, global_vars)\n",
    "\n",
    "    # Restore normal output\n",
    "    sys.stdout = stdout_backup\n",
    "    sys.stderr = stderr_backup\n",
    "    plt.ion()  # Re-enable interactive display\n",
    "    plt.close(\"all\")  # Close all figures in memory\n",
    "\n",
    "    # Retrieve data from the notebook\n",
    "    zcr_RF = global_vars.get(\"zcr_RF\", \"Variable not found\")\n",
    "    zcr_BF = global_vars.get(\"zcr_BF\", \"Variable not found\")\n",
    "    zcr_VS = global_vars.get(\"zcr_VM\", \"Variable not found\")\n",
    "    zcr_ST = global_vars.get(\"zcr_ST\", \"Variable not found\")\n",
    "\n",
    "    # Store results in the dictionary\n",
    "    results[\"RF_\"+file_name] = zcr_RF\n",
    "    results[\"BF_\"+file_name] = zcr_BF\n",
    "    results[\"VS_\"+file_name] = zcr_VS\n",
    "    results[\"ST_\"+file_name] = zcr_ST\n",
    "\n",
    "# Process Patient_analyse notebooks\n",
    "for file_name in notebook_files_A:\n",
    "    try:\n",
    "        # Load the .ipynb file\n",
    "        with open(\"../Patient_analyse/\"+file_name, 'r', encoding='utf-8') as f:\n",
    "            notebook = read(f, as_version=4)\n",
    "        print(f\"Notebook {file_name} imported successfully.\")\n",
    "    except FileNotFoundError:\n",
    "        # Handle missing files\n",
    "        print(f\"Error: The file '{file_name}' was not found. Please ensure it exists in the current directory.\")\n",
    "        continue\n",
    "\n",
    "    # Dictionary to store variables from the notebook\n",
    "    global_vars = {}\n",
    "\n",
    "    # Backup stdout and stderr to suppress output\n",
    "    stdout_backup = sys.stdout\n",
    "    stderr_backup = sys.stderr\n",
    "    sys.stdout = io.StringIO()  # Capture standard output\n",
    "    sys.stderr = io.StringIO()  # Capture errors\n",
    "\n",
    "    # Disable interactive Matplotlib display\n",
    "    plt.ioff()\n",
    "\n",
    "    # Override `plt.show()` and `display()` to suppress displays\n",
    "    with patch(\"matplotlib.pyplot.show\"), patch(\"IPython.display.display\"):\n",
    "        # Execute all code cells without displaying output\n",
    "        for cell in notebook.cells:\n",
    "            if cell.cell_type == \"code\":\n",
    "                exec(cell.source, global_vars)\n",
    "\n",
    "    # Restore normal output\n",
    "    sys.stdout = stdout_backup\n",
    "    sys.stderr = stderr_backup\n",
    "    plt.ion()  # Re-enable interactive display\n",
    "    plt.close(\"all\")  # Close all figures in memory\n",
    "\n",
    "    # Retrieve data from the notebook\n",
    "    zcr_RF = global_vars.get(\"zcr_RF\", \"Variable not found\")\n",
    "    zcr_BF = global_vars.get(\"zcr_BF\", \"Variable not found\")\n",
    "    zcr_VS = global_vars.get(\"zcr_VM\", \"Variable not found\")\n",
    "    zcr_ST = global_vars.get(\"zcr_ST\", \"Variable not found\")\n",
    "\n",
    "    # Store results in the dictionary\n",
    "    results[\"RF_\"+file_name] = zcr_RF\n",
    "    results[\"BF_\"+file_name] = zcr_BF\n",
    "    results[\"VS_\"+file_name] = zcr_VS\n",
    "    results[\"ST_\"+file_name] = zcr_ST\n"
   ]
  },
  {
   "cell_type": "code",
   "execution_count": 3,
   "id": "8c60122b",
   "metadata": {},
   "outputs": [
    {
     "name": "stdout",
     "output_type": "stream",
     "text": [
      "RF_N: [0.1540221791938039, 0.15533586132177682, 0.18852932678416642, 0.2039351236373305, 0.2282492762456194, 0.19424657534246575, 0.10506935068123235, 0.20624254904085834, 0.18809657495788884, 0.18870829769033362, 0.09490662139219015]\n",
      "RF_A: [0.11169351730517228, 0.08433408577878104, 0.17215160884003206, 0.09983375778155065, 0.12991638614398957, 0.13142323263780753, 0.08254372019077902, 0.15068224207323058, 0.21243765586034913, 0.2213487071977638, 0.2266250951673132]\n",
      "BF_N: [0.18817109663791587, 0.17565005417118093, 0.19676394105749784, 0.16112735974474873, 0.1877190309309767, 0.19123287671232878, 0.16349576531238494, 0.15606372602145877, 0.15534344001497286, 0.22241231822070145, 0.22258064516129034]\n",
      "BF_A: [0.1817621213289139, 0.16316027088036117, 0.19915263941371808, 0.16427914544425581, 0.19391899229015094, 0.17278495795702273, 0.17984101748807632, 0.18818101501914206, 0.2177057356608479, 0.19470649895178196, 0.19885436682014285]\n",
      "VS_N: [0.13923604999119873, 0.12892741061755147, 0.16989309448136378, 0.1644509438978995, 0.1968611915282645, 0.1893150684931507, 0.10740149748373634, 0.15671399154654816, 0.191652629608834, 0.15192472198460222, 0.07707979626485569]\n",
      "VS_A: [0.12202266245278656, 0.08252821670428893, 0.08347646856750257, 0.10726160158460668, 0.13265283961342164, 0.1361336032388664, 0.06976152623211447, 0.10464317267105135, 0.19663341645885288, 0.2094689028651293, 0.11325816626182794]\n",
      "ST_N: [0.18394648829431437, 0.16495124593716143, 0.18419531927188673, 0.18346184525392184, 0.1537406673777236, 0.19712328767123288, 0.21087516877378176, 0.14414219139481954, 0.18566348493355792, 0.18135158254918735, 0.2066213921901528]\n",
      "ST_A: [0.1912433515763509, 0.14979683972911964, 0.20794686820107638, 0.22426782682512733, 0.23437941144532523, 0.2023512924322641, 0.18461049284578696, 0.1818984980857956, 0.2292705735660848, 0.21497204751921734, 0.19635282601602436]\n"
     ]
    }
   ],
   "source": [
    "# Initialize empty lists to store data for each group and category\n",
    "RF_N = []  # RF data for Normal group\n",
    "RF_A = []  # RF data for Abnormal group\n",
    "BF_N = []  # BF data for Normal group\n",
    "BF_A = []  # BF data for Abnormal group\n",
    "VS_N = []  # VS data for Normal group\n",
    "VS_A = []  # VS data for Abnormal group\n",
    "ST_N = []  # ST data for Normal group\n",
    "ST_A = []  # ST data for Abnormal group\n",
    "\n",
    "# Iterate through the results dictionary to classify data into respective groups\n",
    "for file_name, data in results.items():\n",
    "    # Check if the file name corresponds to RF data for the Abnormal group\n",
    "    if file_name.startswith('RF_1Amar') or file_name.startswith('RF_2Amar') or file_name.startswith('RF_3Amar') or file_name.startswith('RF_4Amar') or file_name.startswith('RF_5Amar') or file_name.startswith('RF_6Amar') or file_name.startswith('RF_7Amar') or file_name.startswith('RF_8Amar') or file_name.startswith('RF_9Amar') or file_name.startswith('RF_10Amar') or file_name.startswith('RF_11Amar'):\n",
    "        RF_A.append(float(data))\n",
    "    # Check if the file name corresponds to RF data for the Normal group\n",
    "    elif file_name.startswith('RF_1Nmar') or file_name.startswith('RF_2Nmar') or file_name.startswith('RF_3Nmar') or file_name.startswith('RF_4Nmar') or file_name.startswith('RF_5Nmar') or file_name.startswith('RF_6Nmar') or file_name.startswith('RF_7Nmar') or file_name.startswith('RF_8Nmar') or file_name.startswith('RF_9Nmar') or file_name.startswith('RF_10Nmar') or file_name.startswith('RF_11Nmar'):\n",
    "        RF_N.append(float(data))\n",
    "    # Check if the file name corresponds to BF data for the Abnormal group\n",
    "    elif file_name.startswith('BF_1Amar') or file_name.startswith('BF_2Amar') or file_name.startswith('BF_3Amar') or file_name.startswith('BF_4Amar') or file_name.startswith('BF_5Amar') or file_name.startswith('BF_6Amar') or file_name.startswith('BF_7Amar') or file_name.startswith('BF_8Amar') or file_name.startswith('BF_9Amar') or file_name.startswith('BF_10Amar') or file_name.startswith('BF_11Amar'):\n",
    "        BF_A.append(float(data))\n",
    "    # Check if the file name corresponds to BF data for the Normal group\n",
    "    elif file_name.startswith('BF_1Nmar') or file_name.startswith('BF_2Nmar') or file_name.startswith('BF_3Nmar') or file_name.startswith('BF_4Nmar') or file_name.startswith('BF_5Nmar') or file_name.startswith('BF_6Nmar') or file_name.startswith('BF_7Nmar') or file_name.startswith('BF_8Nmar') or file_name.startswith('BF_9Nmar') or file_name.startswith('BF_10Nmar') or file_name.startswith('BF_11Nmar'):\n",
    "        BF_N.append(float(data))\n",
    "    # Check if the file name corresponds to VS data for the Abnormal group\n",
    "    elif file_name.startswith('VS_1Amar') or file_name.startswith('VS_2Amar') or file_name.startswith('VS_3Amar') or file_name.startswith('VS_4Amar') or file_name.startswith('VS_5Amar') or file_name.startswith('VS_6Amar') or file_name.startswith('VS_7Amar') or file_name.startswith('VS_8Amar') or file_name.startswith('VS_9Amar') or file_name.startswith('VS_10Amar') or file_name.startswith('VS_11Amar'):\n",
    "        VS_A.append(float(data))\n",
    "    # Check if the file name corresponds to VS data for the Normal group\n",
    "    elif file_name.startswith('VS_1Nmar') or file_name.startswith('VS_2Nmar') or file_name.startswith('VS_3Nmar') or file_name.startswith('VS_4Nmar') or file_name.startswith('VS_5Nmar') or file_name.startswith('VS_6Nmar') or file_name.startswith('VS_7Nmar') or file_name.startswith('VS_8Nmar') or file_name.startswith('VS_9Nmar') or file_name.startswith('VS_10Nmar') or file_name.startswith('VS_11Nmar'):\n",
    "        VS_N.append(float(data))\n",
    "    # Check if the file name corresponds to ST data for the Abnormal group\n",
    "    elif file_name.startswith('ST_1Amar') or file_name.startswith('ST_2Amar') or file_name.startswith('ST_3Amar') or file_name.startswith('ST_4Amar') or file_name.startswith('ST_5Amar') or file_name.startswith('ST_6Amar') or file_name.startswith('ST_7Amar') or file_name.startswith('ST_8Amar') or file_name.startswith('ST_9Amar') or file_name.startswith('ST_10Amar') or file_name.startswith('ST_11Amar'):\n",
    "        ST_A.append(float(data))\n",
    "    # Check if the file name corresponds to ST data for the Normal group\n",
    "    elif file_name.startswith('ST_1Nmar') or file_name.startswith('ST_2Nmar') or file_name.startswith('ST_3Nmar') or file_name.startswith('ST_4Nmar') or file_name.startswith('ST_5Nmar') or file_name.startswith('ST_6Nmar') or file_name.startswith('ST_7Nmar') or file_name.startswith('ST_8Nmar') or file_name.startswith('ST_9Nmar') or file_name.startswith('ST_10Nmar') or file_name.startswith('ST_11Nmar'):\n",
    "        ST_N.append(float(data))\n",
    "\n",
    "# Print the classified data for verification\n",
    "print(\"RF_N:\", RF_N)\n",
    "print(\"RF_A:\", RF_A)\n",
    "print(\"BF_N:\", BF_N)\n",
    "print(\"BF_A:\", BF_A)\n",
    "print(\"VS_N:\", VS_N)\n",
    "print(\"VS_A:\", VS_A)\n",
    "print(\"ST_N:\", ST_N)\n",
    "print(\"ST_A:\", ST_A)"
   ]
  },
  {
   "cell_type": "code",
   "execution_count": 4,
   "id": "691eda53",
   "metadata": {},
   "outputs": [],
   "source": [
    "# Calculate the mean of ZCR (Zero Crossing Rate) for each group and category\n",
    "mean_zcr_RF_N = np.mean(RF_N)\n",
    "mean_zcr_RF_A = np.mean(RF_A)\n",
    "mean_zcr_BF_N = np.mean(BF_N)\n",
    "mean_zcr_BF_A = np.mean(BF_A)\n",
    "mean_zcr_VS_N = np.mean(VS_N)\n",
    "mean_zcr_VS_A = np.mean(VS_A)\n",
    "mean_zcr_ST_N = np.mean(ST_N)\n",
    "mean_zcr_ST_A = np.mean(ST_A)\n",
    "\n",
    "# Calculate the standard deviation of ZCR for each group and category\n",
    "std_zcr_RF_N = np.std(RF_N)\n",
    "std_zcr_RF_A = np.std(RF_A)\n",
    "std_zcr_BF_N = np.std(BF_N)\n",
    "std_zcr_BF_A = np.std(BF_A)\n",
    "std_zcr_VS_N = np.std(VS_N)\n",
    "std_zcr_VS_A = np.std(VS_A)\n",
    "std_zcr_ST_N = np.std(ST_N)\n",
    "std_zcr_ST_A = np.std(ST_A)"
   ]
  },
  {
   "cell_type": "markdown",
   "id": "4dd5bdea",
   "metadata": {},
   "source": [
    "# RF"
   ]
  },
  {
   "cell_type": "code",
   "execution_count": 5,
   "id": "a218c6bd",
   "metadata": {},
   "outputs": [
    {
     "name": "stdout",
     "output_type": "stream",
     "text": [
      "RF_N :  [0.1540221791938039, 0.15533586132177682, 0.18852932678416642, 0.2039351236373305, 0.2282492762456194, 0.19424657534246575, 0.10506935068123235, 0.20624254904085834, 0.18809657495788884, 0.18870829769033362, 0.09490662139219015]\n",
      "RF_A :  [0.11169351730517228, 0.08433408577878104, 0.17215160884003206, 0.09983375778155065, 0.12991638614398957, 0.13142323263780753, 0.08254372019077902, 0.15068224207323058, 0.21243765586034913, 0.2213487071977638, 0.2266250951673132]\n",
      "mean_rms_RF_N: 0.17339470329887874\n",
      "mean_rms_RF_A: 0.14754454627061533\n",
      "std_rms_RF_N: 0.04007422691616086\n",
      "std_rms_RF_A: 0.05123935794157304\n"
     ]
    }
   ],
   "source": [
    "print(\"RF_N : \",RF_N)\n",
    "print(\"RF_A : \",RF_A)\n",
    "print(\"mean_rms_RF_N:\", mean_zcr_RF_N)\n",
    "print(\"mean_rms_RF_A:\", mean_zcr_RF_A)\n",
    "print(\"std_rms_RF_N:\", std_zcr_RF_N)\n",
    "print(\"std_rms_RF_A:\", std_zcr_RF_A)"
   ]
  },
  {
   "cell_type": "code",
   "execution_count": 6,
   "id": "555a83da",
   "metadata": {},
   "outputs": [],
   "source": [
    "# Boxplot of the two groups\n",
    "plt.figure(figsize=(10, 6))\n",
    "plt.boxplot([RF_A, RF_N], labels=['RF_A (Abnormal)', 'RF_N (Normal)'])\n",
    "plt.title('Boxplot of Zero Crossing Rate (ZCR) for RF')\n",
    "plt.ylabel('Zero Crossing Rate (ZCR)')\n",
    "plt.grid(True)\n",
    "plt.savefig(\"graph_analyse/boxplot_ZCR_RF.png\", dpi=300, bbox_inches='tight')\n",
    "plt.show()\n",
    "\n",
    "# Histogram of the two groups\n",
    "plt.figure(figsize=(10, 6))\n",
    "plt.hist(RF_A, bins=10, alpha=0.5, label='RF_A (Abnormal)', color='blue')\n",
    "plt.hist(RF_N, bins=10, alpha=0.5, label='RF_N (Normal)', color='orange')\n",
    "plt.title('Histogram of Zero Crossing Rate (ZCR) for RF')\n",
    "plt.xlabel('Zero Crossing Rate (ZCR)')\n",
    "plt.ylabel('Frequency')\n",
    "sns.kdeplot(RF_A, color='blue', label='Density RF_A (Abnormal)', linewidth=2)\n",
    "sns.kdeplot(RF_N, color='orange', label='Density RF_N (Normal)', linewidth=2)\n",
    "plt.legend()\n",
    "plt.grid(True)\n",
    "plt.savefig(\"graph_analyse/histogram_ZCR_RF.png\", dpi=300, bbox_inches='tight')\n",
    "plt.show()"
   ]
  },
  {
   "cell_type": "code",
   "execution_count": 7,
   "id": "59b8b1c0",
   "metadata": {},
   "outputs": [
    {
     "name": "stdout",
     "output_type": "stream",
     "text": [
      "U Statistic: 78.0000\n",
      "Mann-Whitney P-value: 0.2643\n",
      "No significant difference between the groups\n"
     ]
    }
   ],
   "source": [
    "# Mann-Whitney U Test\n",
    "stat, p_value = stats.mannwhitneyu(RF_N, RF_A, alternative='two-sided')\n",
    "\n",
    "print(f\"U Statistic: {stat:.4f}\")\n",
    "print(f\"Mann-Whitney P-value: {p_value:.4f}\")\n",
    "\n",
    "alpha = 0.05  # Significance level\n",
    "if p_value < alpha:\n",
    "    print(\"Significant difference between the two groups\")\n",
    "else:\n",
    "    print(\"No significant difference between the groups\")"
   ]
  },
  {
   "cell_type": "markdown",
   "id": "4b6bbcda",
   "metadata": {},
   "source": [
    "# BF"
   ]
  },
  {
   "cell_type": "code",
   "execution_count": 8,
   "id": "fa50da17",
   "metadata": {},
   "outputs": [
    {
     "name": "stdout",
     "output_type": "stream",
     "text": [
      "BF_N :  [0.18817109663791587, 0.17565005417118093, 0.19676394105749784, 0.16112735974474873, 0.1877190309309767, 0.19123287671232878, 0.16349576531238494, 0.15606372602145877, 0.15534344001497286, 0.22241231822070145, 0.22258064516129034]\n",
      "BF_A :  [0.1817621213289139, 0.16316027088036117, 0.19915263941371808, 0.16427914544425581, 0.19391899229015094, 0.17278495795702273, 0.17984101748807632, 0.18818101501914206, 0.2177057356608479, 0.19470649895178196, 0.19885436682014285]\n",
      "mean_rms_BF_N: 0.18368729581685975\n",
      "mean_rms_BF_A: 0.18675879647767396\n",
      "std_rms_BF_N: 0.023010462888869196\n",
      "std_rms_BF_A: 0.015679737956858775\n"
     ]
    }
   ],
   "source": [
    "print(\"BF_N : \",BF_N)\n",
    "print(\"BF_A : \",BF_A)\n",
    "print(\"mean_rms_BF_N:\", mean_zcr_BF_N)\n",
    "print(\"mean_rms_BF_A:\", mean_zcr_BF_A)\n",
    "print(\"std_rms_BF_N:\", std_zcr_BF_N)\n",
    "print(\"std_rms_BF_A:\", std_zcr_BF_A)"
   ]
  },
  {
   "cell_type": "code",
   "execution_count": 9,
   "id": "e1b7dd79",
   "metadata": {},
   "outputs": [],
   "source": [
    "# Boxplot of the two groups\n",
    "plt.figure(figsize=(10, 6))\n",
    "plt.boxplot([BF_A, BF_N], labels=['BF_A (Abnormal)', 'BF_N (Normal)'])\n",
    "plt.title('Boxplot of Zero Crossing Rate (ZCR) for BF')\n",
    "plt.ylabel('Zero Crossing Rate (ZCR)')\n",
    "plt.grid(True)\n",
    "plt.savefig(\"graph_analyse/boxplot_ZCR_BF.png\", dpi=300, bbox_inches='tight')\n",
    "plt.show()\n",
    "\n",
    "# Histogram of the two groups\n",
    "plt.figure(figsize=(10, 6))\n",
    "plt.hist(BF_A, bins=10, alpha=0.5, label='BF_A (Abnormal)', color='blue')\n",
    "plt.hist(BF_N, bins=10, alpha=0.5, label='BF_N (Normal)', color='orange')\n",
    "plt.title('Histogram of Zero Crossing Rate (ZCR) for BF')\n",
    "plt.xlabel('Zero Crossing Rate (ZCR)')\n",
    "plt.ylabel('Frequency')\n",
    "sns.kdeplot(BF_A, color='blue', label='Density BF_A (Abnormal)', linewidth=2)\n",
    "sns.kdeplot(BF_N, color='orange', label='Density BF_N (Normal)', linewidth=2)\n",
    "plt.legend()\n",
    "plt.grid(True)\n",
    "plt.savefig(\"graph_analyse/histogram_ZCR_BF.png\", dpi=300, bbox_inches='tight')\n",
    "plt.show()"
   ]
  },
  {
   "cell_type": "code",
   "execution_count": 10,
   "id": "4c8d18d7",
   "metadata": {},
   "outputs": [
    {
     "name": "stdout",
     "output_type": "stream",
     "text": [
      "U Statistic: 50.0000\n",
      "Mann-Whitney P-value: 0.5114\n",
      "No significant difference between the groups\n"
     ]
    }
   ],
   "source": [
    "# Mann-Whitney U Test\n",
    "stat, p_value = stats.mannwhitneyu(BF_N, BF_A, alternative='two-sided')\n",
    "\n",
    "print(f\"U Statistic: {stat:.4f}\")\n",
    "print(f\"Mann-Whitney P-value: {p_value:.4f}\")\n",
    "\n",
    "alpha = 0.05  # Significance level\n",
    "if p_value < alpha:\n",
    "    print(\"Significant difference between the two groups\")\n",
    "else:\n",
    "    print(\"No significant difference between the groups\")"
   ]
  },
  {
   "cell_type": "markdown",
   "id": "0ba16350",
   "metadata": {},
   "source": [
    "# VS"
   ]
  },
  {
   "cell_type": "code",
   "execution_count": 11,
   "id": "558bcb50",
   "metadata": {},
   "outputs": [
    {
     "name": "stdout",
     "output_type": "stream",
     "text": [
      "VS_N :  [0.13923604999119873, 0.12892741061755147, 0.16989309448136378, 0.1644509438978995, 0.1968611915282645, 0.1893150684931507, 0.10740149748373634, 0.15671399154654816, 0.191652629608834, 0.15192472198460222, 0.07707979626485569]\n",
      "VS_A :  [0.12202266245278656, 0.08252821670428893, 0.08347646856750257, 0.10726160158460668, 0.13265283961342164, 0.1361336032388664, 0.06976152623211447, 0.10464317267105135, 0.19663341645885288, 0.2094689028651293, 0.11325816626182794]\n",
      "mean_rms_VS_N: 0.15213239962709138\n",
      "mean_rms_VS_A: 0.12344005242276807\n",
      "std_rms_VS_N: 0.035383382621071886\n",
      "std_rms_VS_A: 0.04250906705200681\n"
     ]
    }
   ],
   "source": [
    "print(\"VS_N : \",VS_N)\n",
    "print(\"VS_A : \",VS_A)\n",
    "print(\"mean_rms_VS_N:\", mean_zcr_VS_N)\n",
    "print(\"mean_rms_VS_A:\", mean_zcr_VS_A)\n",
    "print(\"std_rms_VS_N:\", std_zcr_VS_N)\n",
    "print(\"std_rms_VS_A:\", std_zcr_VS_A)"
   ]
  },
  {
   "cell_type": "code",
   "execution_count": 12,
   "id": "ed4d6071",
   "metadata": {},
   "outputs": [],
   "source": [
    "# Boxplot of the two groups\n",
    "plt.figure(figsize=(10, 6))\n",
    "plt.boxplot([VS_A, VS_N], labels=['VS_A (Abnormal)', 'VS_N (Normal)'])\n",
    "plt.title('Boxplot of Zero Crossing Rate (ZCR) for VS')\n",
    "plt.ylabel('Zero Crossing Rate (ZCR)')\n",
    "plt.grid(True)\n",
    "plt.savefig(\"graph_analyse/boxplot_ZCR_VS.png\", dpi=300, bbox_inches='tight')\n",
    "plt.show()\n",
    "\n",
    "# Histogram of the two groups\n",
    "plt.figure(figsize=(10, 6))\n",
    "plt.hist(VS_A, bins=10, alpha=0.5, label='VS_A (Abnormal)', color='blue')\n",
    "plt.hist(VS_N, bins=10, alpha=0.5, label='VS_N (Normal)', color='orange')\n",
    "plt.title('Histogram of Zero Crossing Rate (ZCR) for VS')\n",
    "plt.xlabel('Zero Crossing Rate (ZCR)')\n",
    "plt.ylabel('Frequency')\n",
    "sns.kdeplot(VS_A, color='blue', label='Density VS_A (Abnormal)', linewidth=2)\n",
    "sns.kdeplot(VS_N, color='orange', label='Density VS_N (Normal)', linewidth=2)\n",
    "plt.legend()\n",
    "plt.grid(True)\n",
    "plt.savefig(\"graph_analyse/histogram_ZCR_VS.png\", dpi=300, bbox_inches='tight')\n",
    "plt.show()"
   ]
  },
  {
   "cell_type": "code",
   "execution_count": 13,
   "id": "f70ed4b3",
   "metadata": {},
   "outputs": [
    {
     "name": "stdout",
     "output_type": "stream",
     "text": [
      "U Statistic: 86.0000\n",
      "Mann-Whitney P-value: 0.1007\n",
      "No significant difference between the groups\n"
     ]
    }
   ],
   "source": [
    "# Mann-Whitney U Test\n",
    "stat, p_value = stats.mannwhitneyu(VS_N, VS_A, alternative='two-sided')\n",
    "\n",
    "print(f\"U Statistic: {stat:.4f}\")\n",
    "print(f\"Mann-Whitney P-value: {p_value:.4f}\")\n",
    "\n",
    "alpha = 0.05  # Significance level\n",
    "if p_value < alpha:\n",
    "    print(\"Significant difference between the two groups\")\n",
    "else:\n",
    "    print(\"No significant difference between the groups\")"
   ]
  },
  {
   "cell_type": "markdown",
   "id": "1744f3b6",
   "metadata": {},
   "source": [
    "# ST"
   ]
  },
  {
   "cell_type": "code",
   "execution_count": 14,
   "id": "51578cc7",
   "metadata": {},
   "outputs": [
    {
     "name": "stdout",
     "output_type": "stream",
     "text": [
      "ST_N :  [0.18394648829431437, 0.16495124593716143, 0.18419531927188673, 0.18346184525392184, 0.1537406673777236, 0.19712328767123288, 0.21087516877378176, 0.14414219139481954, 0.18566348493355792, 0.18135158254918735, 0.2066213921901528]\n",
      "ST_A :  [0.1912433515763509, 0.14979683972911964, 0.20794686820107638, 0.22426782682512733, 0.23437941144532523, 0.2023512924322641, 0.18461049284578696, 0.1818984980857956, 0.2292705735660848, 0.21497204751921734, 0.19635282601602436]\n",
      "mean_rms_ST_N: 0.18146115214979455\n",
      "mean_rms_ST_A: 0.2015536389311066\n",
      "std_rms_ST_N: 0.019569360554748068\n",
      "std_rms_ST_A: 0.02348842841584915\n"
     ]
    }
   ],
   "source": [
    "print(\"ST_N : \",ST_N)\n",
    "print(\"ST_A : \",ST_A)\n",
    "print(\"mean_rms_ST_N:\", mean_zcr_ST_N)\n",
    "print(\"mean_rms_ST_A:\", mean_zcr_ST_A)\n",
    "print(\"std_rms_ST_N:\", std_zcr_ST_N)\n",
    "print(\"std_rms_ST_A:\", std_zcr_ST_A)"
   ]
  },
  {
   "cell_type": "code",
   "execution_count": 15,
   "id": "5e6d8e39",
   "metadata": {},
   "outputs": [],
   "source": [
    "# Boxplot of the two groups\n",
    "plt.figure(figsize=(10, 6))\n",
    "plt.boxplot([ST_A, ST_N], labels=['ST_A (Abnormal)', 'ST_N (Normal)'])\n",
    "plt.title('Boxplot of Zero Crossing Rate (ZCR) for ST')\n",
    "plt.ylabel('Zero Crossing Rate (ZCR)')\n",
    "plt.grid(True)\n",
    "plt.savefig(\"graph_analyse/boxplot_ZCR_ST.png\", dpi=300, bbox_inches='tight')\n",
    "plt.show()\n",
    "\n",
    "# Histogram of the two groups\n",
    "plt.figure(figsize=(10, 6))\n",
    "plt.hist(ST_A, bins=10, alpha=0.5, label='ST_A (Abnormal)', color='blue')\n",
    "plt.hist(ST_N, bins=10, alpha=0.5, label='ST_N (Normal)', color='orange')\n",
    "plt.title('Histogram of Zero Crossing Rate (ZCR) for ST')\n",
    "plt.xlabel('Zero Crossing Rate (ZCR)')\n",
    "plt.ylabel('Frequency')\n",
    "sns.kdeplot(ST_A, color='blue', label='Density ST_A (Abnormal)', linewidth=2)\n",
    "sns.kdeplot(ST_N, color='orange', label='Density ST_N (Normal)', linewidth=2)\n",
    "plt.legend()\n",
    "plt.grid(True)\n",
    "plt.savefig(\"graph_analyse/histogram_ZCR_ST.png\", dpi=300, bbox_inches='tight')\n",
    "plt.show()"
   ]
  },
  {
   "cell_type": "code",
   "execution_count": 16,
   "id": "0a72cc96",
   "metadata": {},
   "outputs": [
    {
     "name": "stdout",
     "output_type": "stream",
     "text": [
      "U Statistic: 30.0000\n",
      "Mann-Whitney P-value: 0.0488\n",
      "Significant difference between the two groups\n"
     ]
    }
   ],
   "source": [
    "# Mann-Whitney Test\n",
    "stat, p_value = stats.mannwhitneyu(ST_N, ST_A, alternative='two-sided')\n",
    "\n",
    "print(f\"U Statistic: {stat:.4f}\")\n",
    "print(f\"Mann-Whitney P-value: {p_value:.4f}\")\n",
    "\n",
    "alpha = 0.05  # Significance level\n",
    "if p_value < alpha:\n",
    "    print(\"Significant difference between the two groups\")\n",
    "else:\n",
    "    print(\"No significant difference between the groups\")"
   ]
  }
 ],
 "metadata": {
  "kernelspec": {
   "display_name": "clean_env",
   "language": "python",
   "name": "python3"
  },
  "language_info": {
   "codemirror_mode": {
    "name": "ipython",
    "version": 3
   },
   "file_extension": ".py",
   "mimetype": "text/x-python",
   "name": "python",
   "nbconvert_exporter": "python",
   "pygments_lexer": "ipython3",
   "version": "3.8.20"
  }
 },
 "nbformat": 4,
 "nbformat_minor": 5
}
