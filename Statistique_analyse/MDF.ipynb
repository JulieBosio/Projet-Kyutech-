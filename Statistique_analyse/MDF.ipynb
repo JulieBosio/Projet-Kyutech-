{
 "cells": [
  {
   "cell_type": "code",
   "execution_count": 1,
   "id": "2bb1e2b4",
   "metadata": {},
   "outputs": [
    {
     "name": "stdout",
     "output_type": "stream",
     "text": [
      "Requirement already satisfied: nbformat in /opt/anaconda3/envs/clean_env/lib/python3.8/site-packages (5.10.4)\n",
      "Requirement already satisfied: fastjsonschema>=2.15 in /opt/anaconda3/envs/clean_env/lib/python3.8/site-packages (from nbformat) (2.16.2)\n",
      "Requirement already satisfied: jsonschema>=2.6 in /opt/anaconda3/envs/clean_env/lib/python3.8/site-packages (from nbformat) (4.23.0)\n",
      "Requirement already satisfied: jupyter-core!=5.0.*,>=4.12 in /opt/anaconda3/envs/clean_env/lib/python3.8/site-packages (from nbformat) (5.7.2)\n",
      "Requirement already satisfied: traitlets>=5.1 in /opt/anaconda3/envs/clean_env/lib/python3.8/site-packages (from nbformat) (5.14.3)\n",
      "Requirement already satisfied: attrs>=22.2.0 in /opt/anaconda3/envs/clean_env/lib/python3.8/site-packages (from jsonschema>=2.6->nbformat) (24.2.0)\n",
      "Requirement already satisfied: importlib-resources>=1.4.0 in /opt/anaconda3/envs/clean_env/lib/python3.8/site-packages (from jsonschema>=2.6->nbformat) (6.4.0)\n",
      "Requirement already satisfied: jsonschema-specifications>=2023.03.6 in /opt/anaconda3/envs/clean_env/lib/python3.8/site-packages (from jsonschema>=2.6->nbformat) (2023.7.1)\n",
      "Requirement already satisfied: pkgutil-resolve-name>=1.3.10 in /opt/anaconda3/envs/clean_env/lib/python3.8/site-packages (from jsonschema>=2.6->nbformat) (1.3.10)\n",
      "Requirement already satisfied: referencing>=0.28.4 in /opt/anaconda3/envs/clean_env/lib/python3.8/site-packages (from jsonschema>=2.6->nbformat) (0.30.2)\n",
      "Requirement already satisfied: rpds-py>=0.7.1 in /opt/anaconda3/envs/clean_env/lib/python3.8/site-packages (from jsonschema>=2.6->nbformat) (0.10.6)\n",
      "Requirement already satisfied: platformdirs>=2.5 in /opt/anaconda3/envs/clean_env/lib/python3.8/site-packages (from jupyter-core!=5.0.*,>=4.12->nbformat) (4.3.6)\n",
      "Requirement already satisfied: zipp>=3.1.0 in /opt/anaconda3/envs/clean_env/lib/python3.8/site-packages (from importlib-resources>=1.4.0->jsonschema>=2.6->nbformat) (3.20.2)\n"
     ]
    }
   ],
   "source": [
    "from import_all import *"
   ]
  },
  {
   "cell_type": "code",
   "execution_count": 2,
   "id": "60d7a4a2",
   "metadata": {},
   "outputs": [
    {
     "name": "stdout",
     "output_type": "stream",
     "text": [
      "Notebook 1Nmar.ipynb imported successfully.\n",
      "Notebook 2Nmar.ipynb imported successfully.\n",
      "Notebook 3Nmar.ipynb imported successfully.\n",
      "Notebook 4Nmar.ipynb imported successfully.\n",
      "Notebook 5Nmar.ipynb imported successfully.\n",
      "Notebook 6Nmar.ipynb imported successfully.\n",
      "Notebook 7Nmar.ipynb imported successfully.\n",
      "Notebook 8Nmar.ipynb imported successfully.\n",
      "Notebook 9Nmar.ipynb imported successfully.\n",
      "Notebook 10Nmar.ipynb imported successfully.\n",
      "Notebook 11Nmar.ipynb imported successfully.\n",
      "Notebook 1Amar.ipynb imported successfully.\n",
      "Notebook 2Amar.ipynb imported successfully.\n",
      "Notebook 3Amar.ipynb imported successfully.\n",
      "Notebook 4Amar.ipynb imported successfully.\n",
      "Notebook 5Amar.ipynb imported successfully.\n",
      "Notebook 6Amar.ipynb imported successfully.\n",
      "Notebook 7Amar.ipynb imported successfully.\n",
      "Notebook 8Amar.ipynb imported successfully.\n",
      "Notebook 9Amar.ipynb imported successfully.\n",
      "Notebook 10Amar.ipynb imported successfully.\n",
      "Notebook 11Amar.ipynb imported successfully.\n"
     ]
    }
   ],
   "source": [
    "# List of .ipynb files to process\n",
    "notebook_files_N = [f\"{i}Nmar.ipynb\" for i in range(1, 12)]\n",
    "notebook_files_A = [f\"{i}Amar.ipynb\" for i in range(1, 12)]\n",
    "\n",
    "results = {}\n",
    "\n",
    "for file_name in notebook_files_N:\n",
    "    try:\n",
    "        # Load the .ipynb file\n",
    "        with open(\"../Normal_analyse/\"+file_name, 'r', encoding='utf-8') as f:\n",
    "            notebook = read(f, as_version=4)\n",
    "        print(f\"Notebook {file_name} imported successfully.\")\n",
    "    except FileNotFoundError:\n",
    "        print(f\"Error: The file '{file_name}' was not found. Please ensure it exists in the current directory.\")\n",
    "        continue\n",
    "\n",
    "    # Dictionary to store variables\n",
    "    global_vars = {}\n",
    "\n",
    "    # Backup stdout and stderr to suppress output\n",
    "    stdout_backup = sys.stdout\n",
    "    stderr_backup = sys.stderr\n",
    "    sys.stdout = io.StringIO()  # Capture standard output\n",
    "    sys.stderr = io.StringIO()  # Capture errors\n",
    "\n",
    "    # Disable interactive Matplotlib display\n",
    "    plt.ioff()\n",
    "\n",
    "    # Redefine `plt.show()` and `display()` to block displays\n",
    "    with patch(\"matplotlib.pyplot.show\"), patch(\"IPython.display.display\"):\n",
    "        # Execute all code cells without displaying output\n",
    "        for cell in notebook.cells:\n",
    "            if cell.cell_type == \"code\":\n",
    "                exec(cell.source, global_vars)\n",
    "\n",
    "    # Restore normal output\n",
    "    sys.stdout = stdout_backup\n",
    "    sys.stderr = stderr_backup\n",
    "    plt.ion()  # Reactivate interactive display\n",
    "    plt.close(\"all\")  # Close all figures in memory\n",
    "\n",
    "    # Retrieve data\n",
    "    mdf_RF = global_vars.get(\"mdf_RF\", \"Variable not found\")\n",
    "    mdf_BF = global_vars.get(\"mdf_BF\", \"Variable not found\")\n",
    "    mdf_VS = global_vars.get(\"mdf_VM\", \"Variable not found\")\n",
    "    mdf_ST = global_vars.get(\"mdf_ST\", \"Variable not found\")\n",
    "\n",
    "    results[\"RF_\"+file_name] = mdf_RF\n",
    "    results[\"BF_\"+file_name] = mdf_BF\n",
    "    results[\"VS_\"+file_name] = mdf_VS\n",
    "    results[\"ST_\"+file_name] = mdf_ST\n",
    "\n",
    "\n",
    "for file_name in notebook_files_A:\n",
    "    try:\n",
    "        # Load the .ipynb file\n",
    "        with open(\"../Patient_analyse/\"+file_name, 'r', encoding='utf-8') as f:\n",
    "            notebook = read(f, as_version=4)\n",
    "        print(f\"Notebook {file_name} imported successfully.\")\n",
    "    except FileNotFoundError:\n",
    "        print(f\"Error: The file '{file_name}' was not found. Please ensure it exists in the current directory.\")\n",
    "        continue\n",
    "\n",
    "    # Dictionary to store variables\n",
    "    global_vars = {}\n",
    "\n",
    "    # Backup stdout and stderr to suppress output\n",
    "    stdout_backup = sys.stdout\n",
    "    stderr_backup = sys.stderr\n",
    "    sys.stdout = io.StringIO()  # Capture standard output\n",
    "    sys.stderr = io.StringIO()  # Capture errors\n",
    "\n",
    "    # Disable interactive Matplotlib display\n",
    "    plt.ioff()\n",
    "\n",
    "    # Redefine `plt.show()` and `display()` to block displays\n",
    "    with patch(\"matplotlib.pyplot.show\"), patch(\"IPython.display.display\"):\n",
    "        # Execute all code cells without displaying output\n",
    "        for cell in notebook.cells:\n",
    "            if cell.cell_type == \"code\":\n",
    "                exec(cell.source, global_vars)\n",
    "\n",
    "    # Restore normal output\n",
    "    sys.stdout = stdout_backup\n",
    "    sys.stderr = stderr_backup\n",
    "    plt.ion()  # Reactivate interactive display\n",
    "    plt.close(\"all\")  # Close all figures in memory\n",
    "\n",
    "    # Retrieve data\n",
    "    mdf_RF = global_vars.get(\"mdf_RF\", \"Variable not found\")\n",
    "    mdf_BF = global_vars.get(\"mdf_BF\", \"Variable not found\")\n",
    "    mdf_VS = global_vars.get(\"mdf_VM\", \"Variable not found\")\n",
    "    mdf_ST = global_vars.get(\"mdf_ST\", \"Variable not found\")\n",
    "\n",
    "    results[\"RF_\"+file_name] = mdf_RF\n",
    "    results[\"BF_\"+file_name] = mdf_BF\n",
    "    results[\"VS_\"+file_name] = mdf_VS\n",
    "    results[\"ST_\"+file_name] = mdf_ST\n"
   ]
  },
  {
   "cell_type": "code",
   "execution_count": 3,
   "id": "93267336",
   "metadata": {},
   "outputs": [
    {
     "name": "stdout",
     "output_type": "stream",
     "text": [
      "RF_N: [52.98362964266855, 55.931744312026005, 62.26524125975152, 60.090401488965696, 57.5956117629133, 78.63013698630137, 35.59592488032405, 64.91817492142624, 68.87516376567471, 79.7262617621899, 33.78607809847199]\n",
      "RF_A: [48.71656517382255, 28.26185101580135, 43.5131111874499, 33.566779852857955, 39.54826799869693, 36.67081905948303, 29.31637519872814, 31.608913320899187, 72.91147132169576, 74.3361285814116, 71.05826052278577]\n",
      "BF_N: [54.21580707621898, 67.17226435536294, 83.50187806992199, 68.19994682265354, 69.02331250952308, 81.5068493150685, 65.30011047011169, 67.41085943426899, 77.29739846528167, 76.13344739093242, 74.70288624787777]\n",
      "BF_A: [62.437369922146, 93.45372460496613, 80.49925569678231, 57.247453310696095, 82.4193723531328, 68.2419806913734, 71.41494435612083, 87.6607440855993, 83.97755610972568, 80.36338225017471, 65.83765362723416]\n",
      "VS_N: [39.605703221263866, 40.763813651137596, 46.66281421554464, 70.99175751130018, 54.0911168672863, 66.84931506849314, 34.61396833190131, 29.153571041508613, 57.832678270634474, 64.1573994867408, 27.504244482173178]\n",
      "VS_A: [34.070762352578434, 32.595936794582386, 30.68819420588572, 33.86743067345784, 35.182973178412425, 58.29570227343507, 29.69793322734499, 33.9648571709041, 64.33915211970076, 64.11600279524808, 26.429322408730012]\n",
      "ST_N: [78.50730505192747, 50.65005417118093, 73.24472695752672, 81.36134006913055, 71.15648331555691, 82.32876712328766, 90.95372529765558, 66.86897149669448, 67.56503836795808, 74.08041060735671, 88.62478777589135]\n",
      "ST_A: [73.38318045170739, 73.95033860045146, 96.27848391159968, 108.72948500282966, 106.56966011510478, 113.73014637184677, 95.51669316375198, 66.35908510847159, 115.18079800498754, 99.8864430468204, 89.9467063046079]\n"
     ]
    }
   ],
   "source": [
    "# Initialize empty lists to store data for each group and muscle\n",
    "RF_N = []  # RF data for the Normal group\n",
    "RF_A = []  # RF data for the Affected group\n",
    "BF_N = []  # BF data for the Normal group\n",
    "BF_A = []  # BF data for the Affected group\n",
    "VS_N = []  # VS data for the Normal group\n",
    "VS_A = []  # VS data for the Affected group\n",
    "ST_N = []  # ST data for the Normal group\n",
    "ST_A = []  # ST data for the Affected group\n",
    "\n",
    "# Iterate through the results dictionary\n",
    "for file_name, data in results.items():\n",
    "    # Check if the file name corresponds to RF data for the Affected group\n",
    "    if file_name.startswith('RF_1Amar') or file_name.startswith('RF_2Amar') or file_name.startswith('RF_3Amar') or file_name.startswith('RF_4Amar') or file_name.startswith('RF_5Amar') or file_name.startswith('RF_6Amar') or file_name.startswith('RF_7Amar') or file_name.startswith('RF_8Amar') or file_name.startswith('RF_9Amar') or file_name.startswith('RF_10Amar') or file_name.startswith('RF_11Amar'):\n",
    "        RF_A.append(float(data))  # Append the data to RF_A\n",
    "    # Check if the file name corresponds to RF data for the Normal group\n",
    "    elif file_name.startswith('RF_1Nmar') or file_name.startswith('RF_2Nmar') or file_name.startswith('RF_3Nmar') or file_name.startswith('RF_4Nmar') or file_name.startswith('RF_5Nmar') or file_name.startswith('RF_6Nmar') or file_name.startswith('RF_7Nmar') or file_name.startswith('RF_8Nmar') or file_name.startswith('RF_9Nmar') or file_name.startswith('RF_10Nmar') or file_name.startswith('RF_11Nmar'):\n",
    "        RF_N.append(float(data))  # Append the data to RF_N\n",
    "    # Check if the file name corresponds to BF data for the Affected group\n",
    "    elif file_name.startswith('BF_1Amar') or file_name.startswith('BF_2Amar') or file_name.startswith('BF_3Amar') or file_name.startswith('BF_4Amar') or file_name.startswith('BF_5Amar') or file_name.startswith('BF_6Amar') or file_name.startswith('BF_7Amar') or file_name.startswith('BF_8Amar') or file_name.startswith('BF_9Amar') or file_name.startswith('BF_10Amar') or file_name.startswith('BF_11Amar'):\n",
    "        BF_A.append(float(data))  # Append the data to BF_A\n",
    "    # Check if the file name corresponds to BF data for the Normal group\n",
    "    elif file_name.startswith('BF_1Nmar') or file_name.startswith('BF_2Nmar') or file_name.startswith('BF_3Nmar') or file_name.startswith('BF_4Nmar') or file_name.startswith('BF_5Nmar') or file_name.startswith('BF_6Nmar') or file_name.startswith('BF_7Nmar') or file_name.startswith('BF_8Nmar') or file_name.startswith('BF_9Nmar') or file_name.startswith('BF_10Nmar') or file_name.startswith('BF_11Nmar'):\n",
    "        BF_N.append(float(data))  # Append the data to BF_N\n",
    "    # Check if the file name corresponds to VS data for the Affected group\n",
    "    elif file_name.startswith('VS_1Amar') or file_name.startswith('VS_2Amar') or file_name.startswith('VS_3Amar') or file_name.startswith('VS_4Amar') or file_name.startswith('VS_5Amar') or file_name.startswith('VS_6Amar') or file_name.startswith('VS_7Amar') or file_name.startswith('VS_8Amar') or file_name.startswith('VS_9Amar') or file_name.startswith('VS_10Amar') or file_name.startswith('VS_11Amar'):\n",
    "        VS_A.append(float(data))  # Append the data to VS_A\n",
    "    # Check if the file name corresponds to VS data for the Normal group\n",
    "    elif file_name.startswith('VS_1Nmar') or file_name.startswith('VS_2Nmar') or file_name.startswith('VS_3Nmar') or file_name.startswith('VS_4Nmar') or file_name.startswith('VS_5Nmar') or file_name.startswith('VS_6Nmar') or file_name.startswith('VS_7Nmar') or file_name.startswith('VS_8Nmar') or file_name.startswith('VS_9Nmar') or file_name.startswith('VS_10Nmar') or file_name.startswith('VS_11Nmar'):\n",
    "        VS_N.append(float(data))  # Append the data to VS_N\n",
    "    # Check if the file name corresponds to ST data for the Affected group\n",
    "    elif file_name.startswith('ST_1Amar') or file_name.startswith('ST_2Amar') or file_name.startswith('ST_3Amar') or file_name.startswith('ST_4Amar') or file_name.startswith('ST_5Amar') or file_name.startswith('ST_6Amar') or file_name.startswith('ST_7Amar') or file_name.startswith('ST_8Amar') or file_name.startswith('ST_9Amar') or file_name.startswith('ST_10Amar') or file_name.startswith('ST_11Amar'):\n",
    "        ST_A.append(float(data))  # Append the data to ST_A\n",
    "    # Check if the file name corresponds to ST data for the Normal group\n",
    "    elif file_name.startswith('ST_1Nmar') or file_name.startswith('ST_2Nmar') or file_name.startswith('ST_3Nmar') or file_name.startswith('ST_4Nmar') or file_name.startswith('ST_5Nmar') or file_name.startswith('ST_6Nmar') or file_name.startswith('ST_7Nmar') or file_name.startswith('ST_8Nmar') or file_name.startswith('ST_9Nmar') or file_name.startswith('ST_10Nmar') or file_name.startswith('ST_11Nmar'):\n",
    "        ST_N.append(float(data))  # Append the data to ST_N\n",
    "\n",
    "# Print the collected data for each group and muscle\n",
    "print(\"RF_N:\", RF_N)\n",
    "print(\"RF_A:\", RF_A)\n",
    "print(\"BF_N:\", BF_N)\n",
    "print(\"BF_A:\", BF_A)\n",
    "print(\"VS_N:\", VS_N)\n",
    "print(\"VS_A:\", VS_A)\n",
    "print(\"ST_N:\", ST_N)\n",
    "print(\"ST_A:\", ST_A)"
   ]
  },
  {
   "cell_type": "code",
   "execution_count": 4,
   "id": "4642b5af",
   "metadata": {},
   "outputs": [],
   "source": [
    "# Calculate mean and standard deviation for each group and muscle\n",
    "mean_mdf_RF_N = np.mean(RF_N)\n",
    "mean_mdf_RF_A = np.mean(RF_A)\n",
    "mean_mdf_BF_N = np.mean(BF_N)\n",
    "mean_mdf_BF_A = np.mean(BF_A)\n",
    "mean_mdf_VS_N = np.mean(VS_N)\n",
    "mean_mdf_VS_A = np.mean(VS_A)\n",
    "mean_mdf_ST_N = np.mean(ST_N)\n",
    "mean_mdf_ST_A = np.mean(ST_A)\n",
    "\n",
    "std_mdf_RF_N = np.std(RF_N)\n",
    "std_mdf_RF_A = np.std(RF_A)\n",
    "std_mdf_BF_N = np.std(BF_N)\n",
    "std_mdf_BF_A = np.std(BF_A)\n",
    "std_mdf_VS_N = np.std(VS_N)\n",
    "std_mdf_VS_A = np.std(VS_A)\n",
    "std_mdf_ST_N = np.std(ST_N)\n",
    "std_mdf_ST_A = np.std(ST_A)"
   ]
  },
  {
   "cell_type": "markdown",
   "id": "39199eb0",
   "metadata": {},
   "source": [
    "# RF"
   ]
  },
  {
   "cell_type": "code",
   "execution_count": 5,
   "id": "45025c46",
   "metadata": {},
   "outputs": [
    {
     "name": "stdout",
     "output_type": "stream",
     "text": [
      "RF_N :  [52.98362964266855, 55.931744312026005, 62.26524125975152, 60.090401488965696, 57.5956117629133, 78.63013698630137, 35.59592488032405, 64.91817492142624, 68.87516376567471, 79.7262617621899, 33.78607809847199]\n",
      "RF_A :  [48.71656517382255, 28.26185101580135, 43.5131111874499, 33.566779852857955, 39.54826799869693, 36.67081905948303, 29.31637519872814, 31.608913320899187, 72.91147132169576, 74.3361285814116, 71.05826052278577]\n",
      "mean_rms_RF_N: 59.127124443701206\n",
      "mean_rms_RF_A: 46.31895847578474\n",
      "std_rms_RF_N: 14.11064288525881\n",
      "std_rms_RF_A: 17.191057988970506\n"
     ]
    }
   ],
   "source": [
    "print(\"RF_N : \",RF_N)\n",
    "print(\"RF_A : \",RF_A)\n",
    "print(\"mean_rms_RF_N:\", mean_mdf_RF_N)\n",
    "print(\"mean_rms_RF_A:\", mean_mdf_RF_A)\n",
    "print(\"std_rms_RF_N:\", std_mdf_RF_N)\n",
    "print(\"std_rms_RF_A:\", std_mdf_RF_A)"
   ]
  },
  {
   "cell_type": "code",
   "execution_count": 10,
   "id": "89f84de6",
   "metadata": {},
   "outputs": [],
   "source": [
    "# Boxplot des deux groupes\n",
    "import os\n",
    "plt.figure(figsize=(10, 6))\n",
    "plt.boxplot([RF_A, RF_N], labels=['Groupe Affecté (RF)', 'Groupe Normal (RF)'])\n",
    "plt.title('Comparison of Median Frequencies for RF Muscle Between Groups')\n",
    "plt.ylabel('Median Frequency (Hz)')\n",
    "plt.grid(True)\n",
    "os.makedirs(\"graph_analyse\", exist_ok=True)\n",
    "plt.savefig(\"graph_analyse/boxplot_MDF_RF.png\", dpi=300, bbox_inches='tight')\n",
    "plt.show()\n",
    "\n",
    "# Histogram of both groups\n",
    "plt.figure(figsize=(10, 6))\n",
    "plt.hist(RF_A, bins=10, alpha=0.5, label='Affected Group (RF)', color='blue')\n",
    "plt.hist(RF_N, bins=10, alpha=0.5, label='Normal Group (RF)', color='orange')\n",
    "plt.title('Distribution of Median Frequencies for RF Muscle')\n",
    "plt.xlabel('Median Frequency (Hz)')\n",
    "plt.ylabel('Frequency')\n",
    "sns.kdeplot(RF_A, color='blue', label='Density Affected Group (RF)', linewidth=2)\n",
    "sns.kdeplot(RF_N, color='orange', label='Density Normal Group (RF)', linewidth=2)\n",
    "plt.legend()\n",
    "plt.grid(True)\n",
    "plt.savefig(\"graph_analyse/histogram_MDF_RF.png\", dpi=300, bbox_inches='tight')\n",
    "plt.show()"
   ]
  },
  {
   "cell_type": "code",
   "execution_count": 11,
   "id": "9000c9a9",
   "metadata": {},
   "outputs": [
    {
     "name": "stdout",
     "output_type": "stream",
     "text": [
      "U Statistic: 86.0000\n",
      "Mann-Whitney P-value: 0.1007\n",
      "No significant difference between the groups\n"
     ]
    }
   ],
   "source": [
    "# Mann-Whitney Test\n",
    "stat, p_value = stats.mannwhitneyu(RF_N, RF_A, alternative='two-sided')\n",
    "\n",
    "print(f\"U Statistic: {stat:.4f}\")\n",
    "print(f\"Mann-Whitney P-value: {p_value:.4f}\")\n",
    "\n",
    "alpha = 0.05  # Significance level\n",
    "if p_value < alpha:\n",
    "    print(\"Significant difference between the two groups\")\n",
    "else:\n",
    "    print(\"No significant difference between the groups\")"
   ]
  },
  {
   "cell_type": "markdown",
   "id": "43cacd48",
   "metadata": {},
   "source": [
    "# BF"
   ]
  },
  {
   "cell_type": "code",
   "execution_count": 12,
   "id": "13320c80",
   "metadata": {},
   "outputs": [
    {
     "name": "stdout",
     "output_type": "stream",
     "text": [
      "BF_N :  [54.21580707621898, 67.17226435536294, 83.50187806992199, 68.19994682265354, 69.02331250952308, 81.5068493150685, 65.30011047011169, 67.41085943426899, 77.29739846528167, 76.13344739093242, 74.70288624787777]\n",
      "BF_A :  [62.437369922146, 93.45372460496613, 80.49925569678231, 57.247453310696095, 82.4193723531328, 68.2419806913734, 71.41494435612083, 87.6607440855993, 83.97755610972568, 80.36338225017471, 65.83765362723416]\n",
      "mean_rms_BF_N: 71.31497819611106\n",
      "mean_rms_BF_A: 75.77758518254103\n",
      "std_rms_BF_N: 7.970396044474976\n",
      "std_rms_BF_A: 10.889023987260613\n"
     ]
    }
   ],
   "source": [
    "print(\"BF_N : \",BF_N)\n",
    "print(\"BF_A : \",BF_A)\n",
    "print(\"mean_rms_BF_N:\", mean_mdf_BF_N)\n",
    "print(\"mean_rms_BF_A:\", mean_mdf_BF_A)\n",
    "print(\"std_rms_BF_N:\", std_mdf_BF_N)\n",
    "print(\"std_rms_BF_A:\", std_mdf_BF_A)"
   ]
  },
  {
   "cell_type": "code",
   "execution_count": 13,
   "id": "4d35dd58",
   "metadata": {},
   "outputs": [],
   "source": [
    "# Boxplot of the two groups\n",
    "plt.figure(figsize=(10, 6))\n",
    "plt.boxplot([BF_A, BF_N], labels=['Affected Group (BF)', 'Normal Group (BF)'])\n",
    "plt.title('Comparison of Median Frequencies for BF Muscle Between Groups')\n",
    "plt.ylabel('Median Frequency (Hz)')\n",
    "plt.grid(True)\n",
    "plt.savefig(\"graph_analyse/boxplot_MDF_BF.png\", dpi=300, bbox_inches='tight')\n",
    "plt.show()\n",
    "\n",
    "# Histogram of the two groups\n",
    "plt.figure(figsize=(10, 6))\n",
    "plt.hist(BF_A, bins=10, alpha=0.5, label='Affected Group (BF)', color='blue')\n",
    "plt.hist(BF_N, bins=10, alpha=0.5, label='Normal Group (BF)', color='orange')\n",
    "plt.title('Distribution of Median Frequencies for BF Muscle')\n",
    "plt.xlabel('Median Frequency (Hz)')\n",
    "plt.ylabel('Frequency')\n",
    "sns.kdeplot(BF_A, color='blue', label='Density Affected Group (BF)', linewidth=2)\n",
    "sns.kdeplot(BF_N, color='orange', label='Density Normal Group (BF)', linewidth=2)\n",
    "plt.legend()\n",
    "plt.grid(True)\n",
    "plt.savefig(\"graph_analyse/histogram_MDF_BF.png\", dpi=300, bbox_inches='tight')\n",
    "plt.show()"
   ]
  },
  {
   "cell_type": "code",
   "execution_count": 14,
   "id": "db9ff9b8",
   "metadata": {},
   "outputs": [
    {
     "name": "stdout",
     "output_type": "stream",
     "text": [
      "U Statistic: 45.0000\n",
      "Mann-Whitney P-value: 0.3246\n",
      "No significant difference between the groups\n"
     ]
    }
   ],
   "source": [
    "# Mann-Whitney Test\n",
    "stat, p_value = stats.mannwhitneyu(BF_N, BF_A, alternative='two-sided')\n",
    "\n",
    "print(f\"U Statistic: {stat:.4f}\")\n",
    "print(f\"Mann-Whitney P-value: {p_value:.4f}\")\n",
    "\n",
    "alpha = 0.05  # Significance level\n",
    "if p_value < alpha:\n",
    "    print(\"Significant difference between the two groups\")\n",
    "else:\n",
    "    print(\"No significant difference between the groups\")"
   ]
  },
  {
   "cell_type": "markdown",
   "id": "8cee344e",
   "metadata": {},
   "source": [
    "# VS"
   ]
  },
  {
   "cell_type": "code",
   "execution_count": 15,
   "id": "3288b99e",
   "metadata": {},
   "outputs": [
    {
     "name": "stdout",
     "output_type": "stream",
     "text": [
      "VS_N :  [39.605703221263866, 40.763813651137596, 46.66281421554464, 70.99175751130018, 54.0911168672863, 66.84931506849314, 34.61396833190131, 29.153571041508613, 57.832678270634474, 64.1573994867408, 27.504244482173178]\n",
      "VS_A :  [34.070762352578434, 32.595936794582386, 30.68819420588572, 33.86743067345784, 35.182973178412425, 58.29570227343507, 29.69793322734499, 33.9648571709041, 64.33915211970076, 64.11600279524808, 26.429322408730012]\n",
      "mean_rms_VS_N: 48.38421655890764\n",
      "mean_rms_VS_A: 40.29529701820726\n",
      "std_rms_VS_N: 14.635582326842243\n",
      "std_rms_VS_A: 13.72445112646314\n"
     ]
    }
   ],
   "source": [
    "print(\"VS_N : \",VS_N)\n",
    "print(\"VS_A : \",VS_A)\n",
    "print(\"mean_rms_VS_N:\", mean_mdf_VS_N)\n",
    "print(\"mean_rms_VS_A:\", mean_mdf_VS_A)\n",
    "print(\"std_rms_VS_N:\", std_mdf_VS_N)\n",
    "print(\"std_rms_VS_A:\", std_mdf_VS_A)"
   ]
  },
  {
   "cell_type": "code",
   "execution_count": 16,
   "id": "0bfed3b6",
   "metadata": {},
   "outputs": [],
   "source": [
    "# Boxplot of the two groups\n",
    "plt.figure(figsize=(10, 6))\n",
    "plt.boxplot([VS_A, VS_N], labels=['Groupe Affecté (VS)', 'Groupe Normal (VS)'])\n",
    "plt.title('Comparison of Median Frequencies for VS Muscle Between Groups')\n",
    "plt.ylabel('Median Frequency (Hz)')\n",
    "plt.grid(True)\n",
    "plt.savefig(\"graph_analyse/boxplot_MDF_VS.png\", dpi=300, bbox_inches='tight')\n",
    "plt.show()\n",
    "\n",
    "# Histogram of both groups\n",
    "plt.figure(figsize=(10, 6))\n",
    "plt.hist(VS_A, bins=10, alpha=0.5, label='Affected Group (VS)', color='blue')\n",
    "plt.hist(VS_N, bins=10, alpha=0.5, label='Normal Group (VS)', color='orange')\n",
    "plt.title('Distribution of Median Frequencies for VS Muscle')\n",
    "plt.xlabel('Median Frequency (Hz)')\n",
    "plt.ylabel('Frequency')\n",
    "sns.kdeplot(VS_A, color='blue', label='Density Affected Group (VS)', linewidth=2)\n",
    "sns.kdeplot(VS_N, color='orange', label='Density Normal Group (VS)', linewidth=2)\n",
    "plt.legend()\n",
    "plt.grid(True)\n",
    "plt.savefig(\"graph_analyse/histogram_MDF_VS.png\", dpi=300, bbox_inches='tight')\n",
    "plt.show()"
   ]
  },
  {
   "cell_type": "code",
   "execution_count": 17,
   "id": "b98005a0",
   "metadata": {},
   "outputs": [
    {
     "name": "stdout",
     "output_type": "stream",
     "text": [
      "U Statistic: 81.0000\n",
      "Mann-Whitney P-value: 0.1891\n",
      "No significant difference between the groups\n"
     ]
    }
   ],
   "source": [
    "# Mann-Whitney Test\n",
    "stat, p_value = stats.mannwhitneyu(VS_N, VS_A, alternative='two-sided')\n",
    "\n",
    "print(f\"U Statistic: {stat:.4f}\")\n",
    "print(f\"Mann-Whitney P-value: {p_value:.4f}\")\n",
    "\n",
    "alpha = 0.05  # Significance level\n",
    "if p_value < alpha:\n",
    "    print(\"Significant difference between the two groups\")\n",
    "else:\n",
    "    print(\"No significant difference between the groups\")"
   ]
  },
  {
   "cell_type": "markdown",
   "id": "eb2c5f83",
   "metadata": {},
   "source": [
    "# ST"
   ]
  },
  {
   "cell_type": "code",
   "execution_count": 18,
   "id": "f3288dba",
   "metadata": {},
   "outputs": [
    {
     "name": "stdout",
     "output_type": "stream",
     "text": [
      "ST_N :  [78.50730505192747, 50.65005417118093, 73.24472695752672, 81.36134006913055, 71.15648331555691, 82.32876712328766, 90.95372529765558, 66.86897149669448, 67.56503836795808, 74.08041060735671, 88.62478777589135]\n",
      "ST_A :  [73.38318045170739, 73.95033860045146, 96.27848391159968, 108.72948500282966, 106.56966011510478, 113.73014637184677, 95.51669316375198, 66.35908510847159, 115.18079800498754, 99.8864430468204, 89.9467063046079]\n",
      "mean_rms_ST_N: 75.03105547583333\n",
      "mean_rms_ST_A: 94.50282000747083\n",
      "std_rms_ST_N: 10.785662356525823\n",
      "std_rms_ST_A: 16.123702066039467\n"
     ]
    }
   ],
   "source": [
    "print(\"ST_N : \",ST_N)\n",
    "print(\"ST_A : \",ST_A)\n",
    "print(\"mean_rms_ST_N:\", mean_mdf_ST_N)\n",
    "print(\"mean_rms_ST_A:\", mean_mdf_ST_A)\n",
    "print(\"std_rms_ST_N:\", std_mdf_ST_N)\n",
    "print(\"std_rms_ST_A:\", std_mdf_ST_A)"
   ]
  },
  {
   "cell_type": "code",
   "execution_count": 19,
   "id": "c36be5ed",
   "metadata": {},
   "outputs": [],
   "source": [
    "# Boxplot of the two groups\n",
    "plt.figure(figsize=(10, 6))\n",
    "plt.boxplot([ST_A, ST_N], labels=['Groupe Affecté (ST)', 'Groupe Normal (ST)'])\n",
    "plt.title('Comparison of Median Frequencies for ST Muscle Between Groups')\n",
    "plt.ylabel('Median Frequency (Hz)')\n",
    "plt.grid(True)\n",
    "plt.savefig(\"graph_analyse/boxplot_MDF_ST.png\", dpi=300, bbox_inches='tight')\n",
    "plt.show()\n",
    "\n",
    "# Histogram of both groups\n",
    "plt.figure(figsize=(10, 6))\n",
    "plt.hist(ST_A, bins=10, alpha=0.5, label='Affected Group (ST)', color='blue')\n",
    "plt.hist(ST_N, bins=10, alpha=0.5, label='Normal Group (ST)', color='orange')\n",
    "plt.title('Distribution of Median Frequencies for ST Muscle')\n",
    "plt.xlabel('Median Frequency (Hz)')\n",
    "plt.ylabel('Frequency')\n",
    "sns.kdeplot(ST_A, color='blue', label='Density Affected Group (ST)', linewidth=2)\n",
    "sns.kdeplot(ST_N, color='orange', label='Density Normal Group (ST)', linewidth=2)\n",
    "plt.legend()\n",
    "plt.grid(True)\n",
    "plt.savefig(\"graph_analyse/histogram_MDF_ST.png\", dpi=300, bbox_inches='tight')\n",
    "plt.show()"
   ]
  },
  {
   "cell_type": "code",
   "execution_count": 20,
   "id": "f2834660",
   "metadata": {},
   "outputs": [
    {
     "name": "stdout",
     "output_type": "stream",
     "text": [
      "U Statistic: 23.0000\n",
      "Mann-Whitney P-value: 0.0151\n",
      "Significant difference between the two groups\n"
     ]
    }
   ],
   "source": [
    "# Mann-Whitney Test\n",
    "stat, p_value = stats.mannwhitneyu(ST_N, ST_A, alternative='two-sided')\n",
    "\n",
    "print(f\"U Statistic: {stat:.4f}\")\n",
    "print(f\"Mann-Whitney P-value: {p_value:.4f}\")\n",
    "\n",
    "alpha = 0.05  # Significance level\n",
    "if p_value < alpha:\n",
    "    print(\"Significant difference between the two groups\")\n",
    "else:\n",
    "    print(\"No significant difference between the groups\")"
   ]
  }
 ],
 "metadata": {
  "kernelspec": {
   "display_name": "clean_env",
   "language": "python",
   "name": "python3"
  },
  "language_info": {
   "codemirror_mode": {
    "name": "ipython",
    "version": 3
   },
   "file_extension": ".py",
   "mimetype": "text/x-python",
   "name": "python",
   "nbconvert_exporter": "python",
   "pygments_lexer": "ipython3",
   "version": "3.8.20"
  }
 },
 "nbformat": 4,
 "nbformat_minor": 5
}
